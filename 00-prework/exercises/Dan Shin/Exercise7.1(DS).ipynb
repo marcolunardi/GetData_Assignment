{
 "cells": [
  {
   "cell_type": "code",
   "execution_count": 8,
   "metadata": {
    "collapsed": false
   },
   "outputs": [],
   "source": [
    "import nsfg\n",
    "import thinkstats2\n",
    "import thinkplot\n",
    "import numpy as np\n",
    "\n",
    "df = nsfg.ReadFemPreg()\n",
    "\n",
    "thinkplot.Scatter(df.agepreg, df.totalwgt_lb)\n",
    "thinkplot.Show(xlabel = 'Mother\\'s Age', ylabel = 'Birth weight (lb)')"
   ]
  },
  {
   "cell_type": "code",
   "execution_count": 23,
   "metadata": {
    "collapsed": false
   },
   "outputs": [],
   "source": [
    "df = df.dropna(subset = ['agepreg', 'totalwgt_lb'])\n",
    "bins = np.arange(10, 45, 3)\n",
    "indices = np.digitize(df.agepreg, bins)\n",
    "groups = df.groupby(indices)\n",
    "ages = [group.agepreg.mean() for i, group in groups]\n",
    "cdfs = [thinkstats2.Cdf(group.totalwgt_lb) for i, group in groups]\n",
    "\n",
    "for percent in [75,50,25]:\n",
    "    weights = [cdf.Percentile(percent) for cdf in cdfs]\n",
    "    label = '%dth' % percent\n",
    "    thinkplot.Plot(ages, weights, label = label)\n",
    "thinkplot.Show(axis = [5, 55, 6, 8.5])"
   ]
  },
  {
   "cell_type": "code",
   "execution_count": 31,
   "metadata": {
    "collapsed": false
   },
   "outputs": [
    {
     "name": "stdout",
     "output_type": "stream",
     "text": [
      "Pearson Correlation Coefficient: 0.0688\n"
     ]
    }
   ],
   "source": [
    "pearscorr = thinkstats2.Corr(df.agepreg, df.totalwgt_lb)\n",
    "print \"Pearson Correlation Coefficient: \" + str(round(pearscorr, 4))"
   ]
  },
  {
   "cell_type": "code",
   "execution_count": 30,
   "metadata": {
    "collapsed": false
   },
   "outputs": [
    {
     "name": "stdout",
     "output_type": "stream",
     "text": [
      "Spearman Correlation Coefficient: 0.0946\n"
     ]
    }
   ],
   "source": [
    "spearcorr = thinkstats2.SpearmanCorr(df.agepreg, df.totalwgt_lb)\n",
    "print \"Spearman Correlation Coefficient: \" + str(round(spearcorr, 4))"
   ]
  },
  {
   "cell_type": "markdown",
   "metadata": {},
   "source": [
    "####Non-linear correlation between the variables"
   ]
  }
 ],
 "metadata": {
  "kernelspec": {
   "display_name": "Python 2",
   "language": "python",
   "name": "python2"
  },
  "language_info": {
   "codemirror_mode": {
    "name": "ipython",
    "version": 2
   },
   "file_extension": ".py",
   "mimetype": "text/x-python",
   "name": "python",
   "nbconvert_exporter": "python",
   "pygments_lexer": "ipython2",
   "version": "2.7.9"
  }
 },
 "nbformat": 4,
 "nbformat_minor": 0
}
