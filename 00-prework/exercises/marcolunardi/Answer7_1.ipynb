{
 "metadata": {
  "name": "",
  "signature": "sha256:d570fadeb8dd491a1bdb30ec24c4283851faa1c7b1728df72ef037f441d96c0d"
 },
 "nbformat": 3,
 "nbformat_minor": 0,
 "worksheets": [
  {
   "cells": [
    {
     "cell_type": "code",
     "collapsed": false,
     "input": [
      "import nsfg\n",
      "import thinkplot\n",
      "import thinkstats2"
     ],
     "language": "python",
     "metadata": {},
     "outputs": [],
     "prompt_number": 110
    },
    {
     "cell_type": "markdown",
     "metadata": {},
     "source": [
      "Reads data and selects alive babies:"
     ]
    },
    {
     "cell_type": "code",
     "collapsed": false,
     "input": [
      "preg = nsfg.ReadFemPreg()\n",
      "live = preg[preg.outcome == 1]"
     ],
     "language": "python",
     "metadata": {},
     "outputs": [],
     "prompt_number": 111
    },
    {
     "cell_type": "markdown",
     "metadata": {},
     "source": [
      "Plots scatterplot of weights against mother's age (with some transaparency):"
     ]
    },
    {
     "cell_type": "code",
     "collapsed": false,
     "input": [
      "thinkplot.Scatter(live.agepreg, live.totalwgt_lb, alpha=0.2)\n",
      "thinkplot.Show(xlabel='age (years)',\n",
      "               ylabel='weight (lbs)',\n",
      "               xlim=[10, 43],\n",
      "               ylim=[0, 14],\n",
      "               legend=False)"
     ],
     "language": "python",
     "metadata": {},
     "outputs": [],
     "prompt_number": 112
    },
    {
     "cell_type": "markdown",
     "metadata": {},
     "source": [
      "Plots percentiles of weights against mother's age:"
     ]
    },
    {
     "cell_type": "code",
     "collapsed": false,
     "input": [
      "bins = np.arange(10, 44, 3)\n",
      "indices = np.digitize(live.agepreg, bins)\n",
      "groups = live.groupby(indices)\n",
      "ages = [group.agepreg.mean() for i, group in groups][1:-1]\n",
      "cdfs = [thinkstats2.Cdf(group.totalwgt_lb) for i, group in groups][1:-1]\n",
      "for percent in [75, 50, 25]:\n",
      "    weights = [cdf.Percentile(percent) for cdf in cdfs]\n",
      "    label = '%dth' % percent\n",
      "    thinkplot.Plot(ages, weights, label=label)\n",
      "thinkplot.PrePlot(3)\n",
      "thinkplot.Show()"
     ],
     "language": "python",
     "metadata": {},
     "outputs": [],
     "prompt_number": 113
    },
    {
     "cell_type": "markdown",
     "metadata": {},
     "source": [
      "Computes Pearson's correlation:"
     ]
    },
    {
     "cell_type": "code",
     "collapsed": false,
     "input": [
      "live = live.dropna(subset=['agepreg', 'totalwgt_lb'])\n",
      "thinkstats2.Corr(live.agepreg, live.totalwgt_lb)"
     ],
     "language": "python",
     "metadata": {},
     "outputs": [
      {
       "metadata": {},
       "output_type": "pyout",
       "prompt_number": 108,
       "text": [
        "0.068833970354109056"
       ]
      }
     ],
     "prompt_number": 108
    },
    {
     "cell_type": "markdown",
     "metadata": {},
     "source": [
      "Computes Spearman's correlation:"
     ]
    },
    {
     "cell_type": "code",
     "collapsed": false,
     "input": [
      "thinkstats2.SpearmanCorr(live.agepreg, live.totalwgt_lb)"
     ],
     "language": "python",
     "metadata": {},
     "outputs": [
      {
       "metadata": {},
       "output_type": "pyout",
       "prompt_number": 109,
       "text": [
        "0.094610041096582262"
       ]
      }
     ],
     "prompt_number": 109
    },
    {
     "cell_type": "markdown",
     "metadata": {},
     "source": [
      "The scatterplot showing an horizontal distribution and the correlations value near zero advise that there is not a clear linear correlation between the mothers' age at birth and the weight of the babies."
     ]
    }
   ],
   "metadata": {}
  }
 ]
}