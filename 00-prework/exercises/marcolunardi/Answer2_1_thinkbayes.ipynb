{
 "metadata": {
  "name": "",
  "signature": "sha256:90b746e68a126897658fb354f03204f964ca0096212e853d75c9a9b69de987c7"
 },
 "nbformat": 3,
 "nbformat_minor": 0,
 "worksheets": [
  {
   "cells": [
    {
     "cell_type": "markdown",
     "metadata": {},
     "source": [
      "Likelihood of drawing a vanilla coookie after having drawn (and eaten) a vanilla cookie (without replacement):"
     ]
    },
    {
     "cell_type": "code",
     "collapsed": false,
     "input": [
      "from thinkbayes import Pmf\n",
      "\n",
      "\n",
      "class Cookie(Pmf):\n",
      "    \"\"\"A map from string bowl ID to probablity.\"\"\"\n",
      "\n",
      "    def __init__(self, hypos):\n",
      "        \"\"\"Initialize self.\n",
      "\n",
      "        hypos: sequence of string bowl IDs\n",
      "        \"\"\"\n",
      "        Pmf.__init__(self)\n",
      "        bowlike = [0.5, 0.5]\n",
      "        for hypo in range(2):\n",
      "            self.Set(hypos[hypo], bowlike[hypo])\n",
      "        self.Normalize()\n",
      "\n",
      "    def Update(self, data):\n",
      "        \"\"\"Updates the PMF with new data.\n",
      "\n",
      "        data: string cookie type\n",
      "        \"\"\"\n",
      "        for hypo in self.Values():\n",
      "            like = self.Likelihood(data, hypo)\n",
      "            self.Mult(hypo, like)\n",
      "        self.Normalize()\n",
      "\n",
      "    mixes = {\n",
      "        'Bowl 1':dict(vanilla=0.7436, chocolate=0.2564),\n",
      "        'Bowl 2':dict(vanilla=0.48718, chocolate=0.51282),\n",
      "        }\n",
      "\n",
      "    def Likelihood(self, data, hypo):\n",
      "        \"\"\"The likelihood of the data under the hypothesis.\n",
      "\n",
      "        data: string cookie type\n",
      "        hypo: string bowl ID\n",
      "        \"\"\"\n",
      "        mix = self.mixes[hypo]\n",
      "        like = mix[data]\n",
      "        return like\n",
      "\n",
      "\n",
      "def main():\n",
      "    hypos = ['Bowl 1', 'Bowl 2']\n",
      "\n",
      "    pmf = Cookie(hypos)\n",
      "\n",
      "    pmf.Update('vanilla')\n",
      "\n",
      "    for hypo, prob in pmf.Items():\n",
      "        print hypo, prob\n",
      "\n",
      "\n",
      "if __name__ == '__main__':\n",
      "    main()\n"
     ],
     "language": "python",
     "metadata": {},
     "outputs": [
      {
       "output_type": "stream",
       "stream": "stdout",
       "text": [
        "Bowl 2 0.395830286485\n",
        "Bowl 1 0.604169713515\n"
       ]
      }
     ],
     "prompt_number": 42
    },
    {
     "cell_type": "code",
     "collapsed": false,
     "input": [],
     "language": "python",
     "metadata": {},
     "outputs": [],
     "prompt_number": 32
    },
    {
     "cell_type": "code",
     "collapsed": false,
     "input": [],
     "language": "python",
     "metadata": {},
     "outputs": []
    }
   ],
   "metadata": {}
  }
 ]
}