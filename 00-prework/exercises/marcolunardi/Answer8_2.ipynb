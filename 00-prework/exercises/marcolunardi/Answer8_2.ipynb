{
 "metadata": {
  "name": "",
  "signature": "sha256:8afccbf80c6212948562019fe7a920817652ab71a525310dc88224f37add1817"
 },
 "nbformat": 3,
 "nbformat_minor": 0,
 "worksheets": [
  {
   "cells": [
    {
     "cell_type": "code",
     "collapsed": false,
     "input": [
      "import random\n",
      "import thinkplot\n",
      "import thinkstats2\n",
      "import numpy as np\n",
      "from estimation import RMSE, MeanError"
     ],
     "language": "python",
     "metadata": {},
     "outputs": [],
     "prompt_number": 39
    },
    {
     "cell_type": "markdown",
     "metadata": {},
     "source": [
      "Simulates 1'000 times drawing a sample of size n=10 from an exponential distribution with lambda=2"
     ]
    },
    {
     "cell_type": "code",
     "collapsed": false,
     "input": [
      "estimates = []\n",
      "for j in range(1000):\n",
      "    xs = np.random.exponential(1.0/2, 10)\n",
      "    lamh = 1.0 / np.mean(xs)\n",
      "    estimates.append(lamh)\n",
      "cdf = thinkstats2.Cdf(estimates)\n",
      "thinkplot.Cdf(cdf)\n",
      "thinkplot.Show()"
     ],
     "language": "python",
     "metadata": {},
     "outputs": [],
     "prompt_number": 40
    },
    {
     "cell_type": "markdown",
     "metadata": {},
     "source": [
      "Computes the standard error of the estimate:"
     ]
    },
    {
     "cell_type": "code",
     "collapsed": false,
     "input": [
      "stderr = RMSE(estimates, 2)\n",
      "stderr"
     ],
     "language": "python",
     "metadata": {},
     "outputs": [
      {
       "metadata": {},
       "output_type": "pyout",
       "prompt_number": 41,
       "text": [
        "0.858298058629657"
       ]
      }
     ],
     "prompt_number": 41
    },
    {
     "cell_type": "markdown",
     "metadata": {},
     "source": [
      "Computes the 90% confidence interval"
     ]
    },
    {
     "cell_type": "code",
     "collapsed": false,
     "input": [
      "cdf.Percentile(5), cdf.Percentile(95)"
     ],
     "language": "python",
     "metadata": {},
     "outputs": [
      {
       "metadata": {},
       "output_type": "pyout",
       "prompt_number": 42,
       "text": [
        "(1.2924602543373556, 3.7194266356117178)"
       ]
      }
     ],
     "prompt_number": 42
    },
    {
     "cell_type": "markdown",
     "metadata": {},
     "source": [
      "Repeat the experiment with n from 10 to 15:"
     ]
    },
    {
     "cell_type": "code",
     "collapsed": false,
     "input": [
      "n = range(10, 16)\n",
      "stde =[]\n",
      "for nvar in n:\n",
      "    estimates = []\n",
      "    for j in range(1000):\n",
      "        xs = np.random.exponential(1.0/2, nvar)\n",
      "        lamh = 1.0 / np.mean(xs)\n",
      "        estimates.append(lamh)\n",
      "    stderr = RMSE(estimates, 2)\n",
      "    stde.append(stderr)"
     ],
     "language": "python",
     "metadata": {},
     "outputs": [],
     "prompt_number": 43
    },
    {
     "cell_type": "markdown",
     "metadata": {},
     "source": [
      "Plots standard errors versus n:"
     ]
    },
    {
     "cell_type": "code",
     "collapsed": false,
     "input": [
      "thinkplot.Plot(stde, n)\n",
      "thinkplot.Show(xlabel='RMSE',\n",
      "               ylabel='N',)"
     ],
     "language": "python",
     "metadata": {},
     "outputs": [],
     "prompt_number": 44
    },
    {
     "cell_type": "code",
     "collapsed": false,
     "input": [],
     "language": "python",
     "metadata": {},
     "outputs": []
    }
   ],
   "metadata": {}
  }
 ]
}