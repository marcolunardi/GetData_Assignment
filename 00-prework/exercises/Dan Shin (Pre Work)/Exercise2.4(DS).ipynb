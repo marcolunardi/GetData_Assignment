{
 "cells": [
  {
   "cell_type": "markdown",
   "metadata": {},
   "source": [
    "# Exercise 2.4\n",
    "### Import relevant modules from thinkstats"
   ]
  },
  {
   "cell_type": "code",
   "execution_count": 12,
   "metadata": {
    "collapsed": true
   },
   "outputs": [],
   "source": [
    "import nsfg\n",
    "import thinkstats2\n",
    "import first\n",
    "import math"
   ]
  },
  {
   "cell_type": "markdown",
   "metadata": {},
   "source": [
    "### Read data into dataframe"
   ]
  },
  {
   "cell_type": "code",
   "execution_count": 7,
   "metadata": {
    "collapsed": true
   },
   "outputs": [],
   "source": [
    "preg = nsfg.ReadFemPreg()"
   ]
  },
  {
   "cell_type": "markdown",
   "metadata": {},
   "source": [
    "### Define variable for first births and other births"
   ]
  },
  {
   "cell_type": "code",
   "execution_count": 8,
   "metadata": {
    "collapsed": true
   },
   "outputs": [],
   "source": [
    "live = preg[preg.outcome == 1]\n",
    "firsts = live[live.birthord == 1]\n",
    "others = live[live.birthord != 1]"
   ]
  },
  {
   "cell_type": "markdown",
   "metadata": {},
   "source": [
    "### Define function for calculating Cohen Effect Size"
   ]
  },
  {
   "cell_type": "code",
   "execution_count": 14,
   "metadata": {
    "collapsed": true
   },
   "outputs": [],
   "source": [
    "def CohenEffectSize(group1, group2):\n",
    "    diff = group1.mean() - group2.mean()\n",
    "    \n",
    "    var1 = group1.var()\n",
    "    var2 = group2.var()\n",
    "    n1, n2 = len(group1), len(group2)\n",
    "    \n",
    "    pooled_var = (n1 * var1 + n2 * var2) / (n1 + n2)\n",
    "    d= diff / math.sqrt(pooled_var)\n",
    "    return d"
   ]
  },
  {
   "cell_type": "markdown",
   "metadata": {},
   "source": [
    "### Comparing total weight of first children and others"
   ]
  },
  {
   "cell_type": "code",
   "execution_count": 21,
   "metadata": {
    "collapsed": false
   },
   "outputs": [
    {
     "name": "stdout",
     "output_type": "stream",
     "text": [
      "Average weight of first child: 7.20109443044\n",
      "Average weight of others: 7.32585561497\n",
      "Cohen Effect Size: -0.0886729270726\n",
      "Effect is trivial\n"
     ]
    }
   ],
   "source": [
    "firsts_avgwgt = firsts['totalwgt_lb'].mean()\n",
    "print \"Average weight of first child: \" + str(firsts_avgwgt)\n",
    "\n",
    "others_avgwgt = others['totalwgt_lb'].mean()\n",
    "print \"Average weight of others: \" + str(others_avgwgt)\n",
    "\n",
    "wgteff = CohenEffectSize(firsts['totalwgt_lb'], others['totalwgt_lb'])\n",
    "print \"Cohen Effect Size: \" + str(wgteff)\n",
    "\n",
    "if wgteff < 0.2:\n",
    "    print \"Effect is trivial\""
   ]
  },
  {
   "cell_type": "markdown",
   "metadata": {},
   "source": [
    "### Comparing pregnancy length of first children and others"
   ]
  },
  {
   "cell_type": "code",
   "execution_count": 22,
   "metadata": {
    "collapsed": false
   },
   "outputs": [
    {
     "name": "stdout",
     "output_type": "stream",
     "text": [
      "Average pregnancy length of first child: 38.6009517335\n",
      "Average pregnancy length of others: 38.5229144667\n",
      "Cohen Effect Size: 0.0288790446544\n",
      "Effect is trivial\n"
     ]
    }
   ],
   "source": [
    "firsts_avgprg = firsts['prglngth'].mean()\n",
    "print \"Average pregnancy length of first child: \" + str(firsts_avgprg)\n",
    "\n",
    "others_avgprg = others['prglngth'].mean()\n",
    "print \"Average pregnancy length of others: \" + str(others_avgprg)\n",
    "\n",
    "pregeff = CohenEffectSize(firsts['prglngth'], others['prglngth'])\n",
    "print \"Cohen Effect Size: \" + str(pregeff)\n",
    "\n",
    "if wgteff < 0.2:\n",
    "    print \"Effect is trivial\""
   ]
  },
  {
   "cell_type": "code",
   "execution_count": null,
   "metadata": {
    "collapsed": true
   },
   "outputs": [],
   "source": []
  }
 ],
 "metadata": {
  "kernelspec": {
   "display_name": "Python 2",
   "language": "python",
   "name": "python2"
  },
  "language_info": {
   "codemirror_mode": {
    "name": "ipython",
    "version": 2
   },
   "file_extension": ".py",
   "mimetype": "text/x-python",
   "name": "python",
   "nbconvert_exporter": "python",
   "pygments_lexer": "ipython2",
   "version": "2.7.9"
  }
 },
 "nbformat": 4,
 "nbformat_minor": 0
}
