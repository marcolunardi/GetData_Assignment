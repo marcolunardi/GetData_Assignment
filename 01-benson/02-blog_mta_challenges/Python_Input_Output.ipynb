{
 "cells": [
  {
   "cell_type": "markdown",
   "metadata": {},
   "source": [
    "## Let's write some textfiles with python"
   ]
  },
  {
   "cell_type": "code",
   "execution_count": 14,
   "metadata": {
    "collapsed": false
   },
   "outputs": [
    {
     "name": "stdout",
     "output_type": "stream",
     "text": [
      "1_S_Benson_ExploreMTA.ipynb      README.md\r\n",
      "Benson_Challenge_Solutions.ipynb client_emails.md\r\n",
      "Benson_Challenges.md             mta.py\r\n",
      "Benson_EDA.ipynb                 turnstile_150404.txt\r\n",
      "Python_Input_Output.ipynb\r\n"
     ]
    }
   ],
   "source": [
    "!ls"
   ]
  },
  {
   "cell_type": "code",
   "execution_count": 15,
   "metadata": {
    "collapsed": false
   },
   "outputs": [
    {
     "name": "stdout",
     "output_type": "stream",
     "text": [
      "1_S_Benson_ExploreMTA.ipynb      README.md\r\n",
      "Benson_Challenge_Solutions.ipynb client_emails.md\r\n",
      "Benson_Challenges.md             mta.py\r\n",
      "Benson_EDA.ipynb                 shiny_new_file.txt\r\n",
      "Python_Input_Output.ipynb        turnstile_150404.txt\r\n"
     ]
    }
   ],
   "source": [
    "toy_file = open(\"shiny_new_file.txt\", 'w')\n",
    "toy_file.write(\"hey guys\\n\")\n",
    "toy_file.write(\"what's up\\n\")\n",
    "toy_file.close()\n",
    "!ls"
   ]
  },
  {
   "cell_type": "code",
   "execution_count": 16,
   "metadata": {
    "collapsed": false
   },
   "outputs": [
    {
     "name": "stdout",
     "output_type": "stream",
     "text": [
      "1_S_Benson_ExploreMTA.ipynb      client_emails.md\r\n",
      "Benson_Challenge_Solutions.ipynb even_newer_file.txt\r\n",
      "Benson_Challenges.md             mta.py\r\n",
      "Benson_EDA.ipynb                 shiny_new_file.txt\r\n",
      "Python_Input_Output.ipynb        turnstile_150404.txt\r\n",
      "README.md\r\n"
     ]
    }
   ],
   "source": [
    "our_file = open(\"shiny_new_file.txt\", 'r')\n",
    "new_file = open(\"even_newer_file.txt\", 'w')\n",
    "new_file.write( our_file.read() )\n",
    "our_file.close()\n",
    "new_file.close()\n",
    "!ls\n"
   ]
  },
  {
   "cell_type": "code",
   "execution_count": 17,
   "metadata": {
    "collapsed": false
   },
   "outputs": [
    {
     "name": "stdout",
     "output_type": "stream",
     "text": [
      "hey guys\r\n",
      "what's up\r\n"
     ]
    }
   ],
   "source": [
    "!cat even_newer_file.txt"
   ]
  },
  {
   "cell_type": "code",
   "execution_count": 18,
   "metadata": {
    "collapsed": false
   },
   "outputs": [
    {
     "name": "stdout",
     "output_type": "stream",
     "text": [
      "1_S_Benson_ExploreMTA.ipynb      client_emails.md\r\n",
      "Benson_Challenge_Solutions.ipynb even_newer_file.txt\r\n",
      "Benson_Challenges.md             mta.py\r\n",
      "Benson_EDA.ipynb                 shiny_new_file.txt\r\n",
      "Python_Input_Output.ipynb        star_wars_image.jpg\r\n",
      "README.md                        turnstile_150404.txt\r\n"
     ]
    }
   ],
   "source": [
    "import urllib2\n",
    "online_image_file= urllib2.urlopen(\"http://i.kinja-img.com/gawker-media/image/upload/s--lcZ52NA8--/19c0uzmi9bmv1jpg.jpg\")\n",
    "local_file = open(\"star_wars_image.jpg\", 'w')\n",
    "local_file.write(online_image_file.read())\n",
    "local_file.close()\n",
    "online_image_file.close()\n",
    "!ls"
   ]
  },
  {
   "cell_type": "code",
   "execution_count": 19,
   "metadata": {
    "collapsed": false
   },
   "outputs": [
    {
     "name": "stdout",
     "output_type": "stream",
     "text": [
      "  % Total    % Received % Xferd  Average Speed   Time    Time     Time  Current\n",
      "                                 Dload  Upload   Total   Spent    Left  Speed\n",
      "100  557k  100  557k    0     0  4125k      0 --:--:-- --:--:-- --:--:-- 4132k\n"
     ]
    }
   ],
   "source": [
    "!curl http://i.kinja-img.com/gawker-media/image/upload/s--lcZ52NA8--/19c0uzmi9bmv1jpg.jpg > star_wars_image_curl.jpg"
   ]
  },
  {
   "cell_type": "code",
   "execution_count": 20,
   "metadata": {
    "collapsed": false
   },
   "outputs": [
    {
     "name": "stdout",
     "output_type": "stream",
     "text": [
      "--2015-04-06 19:53:24--  http://i.kinja-img.com/gawker-media/image/upload/s--lcZ52NA8--/19c0uzmi9bmv1jpg.jpg\n",
      "Resolving i.kinja-img.com... 199.27.76.192, 23.235.39.192\n",
      "Connecting to i.kinja-img.com|199.27.76.192|:80... connected.\n",
      "HTTP request sent, awaiting response... 200 OK\n",
      "Length: 571278 (558K) [image/jpeg]\n",
      "Saving to: 'star_wars_wget.jpg'\n",
      "\n",
      "100%[======================================>] 571,278     --.-K/s   in 0.09s   \n",
      "\n",
      "2015-04-06 19:53:24 (5.94 MB/s) - 'star_wars_wget.jpg' saved [571278/571278]\n",
      "\n"
     ]
    }
   ],
   "source": [
    "!wget -O star_wars_wget.jpg http://i.kinja-img.com/gawker-media/image/upload/s--lcZ52NA8--/19c0uzmi9bmv1jpg.jpg "
   ]
  },
  {
   "cell_type": "code",
   "execution_count": 21,
   "metadata": {
    "collapsed": false
   },
   "outputs": [
    {
     "name": "stdout",
     "output_type": "stream",
     "text": [
      "1_S_Benson_ExploreMTA.ipynb      even_newer_file.txt\r\n",
      "Benson_Challenge_Solutions.ipynb mta.py\r\n",
      "Benson_Challenges.md             shiny_new_file.txt\r\n",
      "Benson_EDA.ipynb                 star_wars_image.jpg\r\n",
      "Python_Input_Output.ipynb        star_wars_image_curl.jpg\r\n",
      "README.md                        star_wars_wget.jpg\r\n",
      "client_emails.md                 turnstile_150404.txt\r\n"
     ]
    }
   ],
   "source": [
    "!ls\n",
    "!open star_wars_wget.jpg"
   ]
  },
  {
   "cell_type": "code",
   "execution_count": 22,
   "metadata": {
    "collapsed": false
   },
   "outputs": [
    {
     "name": "stdout",
     "output_type": "stream",
     "text": [
      "I am reading the shiny shiny file\n",
      "hey guys\n",
      "what's up\n",
      "\n"
     ]
    }
   ],
   "source": [
    "with open(\"shiny_new_file.txt\", 'r') as our_file:\n",
    "    print \"I am reading the shiny shiny file\"\n",
    "    print our_file.read()"
   ]
  },
  {
   "cell_type": "code",
   "execution_count": 23,
   "metadata": {
    "collapsed": false
   },
   "outputs": [
    {
     "name": "stdout",
     "output_type": "stream",
     "text": [
      "3 + 7 =10.4"
     ]
    }
   ],
   "source": [
    "Bo_super_math = 3 + 7.4\n",
    "with open(\"super_math_results.txt\", 'w') as results:\n",
    "    results.write(\"3 + 7 =\")\n",
    "    results.write(str(Bo_super_math))\n",
    "    \n",
    "!cat super_math_results.txt"
   ]
  },
  {
   "cell_type": "code",
   "execution_count": 48,
   "metadata": {
    "collapsed": false
   },
   "outputs": [
    {
     "name": "stdout",
     "output_type": "stream",
     "text": [
      "Bo,is,awesome\r",
      "\r\n",
      "Aaron,is,awesomerish\r",
      "\r\n"
     ]
    }
   ],
   "source": [
    "with open(\"new_csv_toy.csv\", 'w') as csv_output:\n",
    "    writer = csv.writer(csv_output)\n",
    "    row1 = ['Bo', 'is', 'awesome']\n",
    "    row2 = ['Aaron', 'is', 'awesomerish']\n",
    "    writer.writerow(row1)\n",
    "    writer.writerow(row2)\n",
    "    \n",
    "!cat new_csv_toy.csv"
   ]
  },
  {
   "cell_type": "markdown",
   "metadata": {},
   "source": [
    "### Now let's explore some MTA data"
   ]
  },
  {
   "cell_type": "code",
   "execution_count": 24,
   "metadata": {
    "collapsed": false
   },
   "outputs": [
    {
     "name": "stdout",
     "output_type": "stream",
     "text": [
      "C/A,UNIT,SCP,STATION,LINENAME,DIVISION,DATE,TIME,DESC,ENTRIES,EXITS                                                               \r\n",
      "A002,R051,02-00-00,LEXINGTON AVE,NQR456,BMT,03/28/2015,00:00:00,REGULAR,0005065968,0001716046                                     \r\n",
      "A002,R051,02-00-00,LEXINGTON AVE,NQR456,BMT,03/28/2015,04:00:00,REGULAR,0005066006,0001716049                                     \r\n",
      "A002,R051,02-00-00,LEXINGTON AVE,NQR456,BMT,03/28/2015,08:00:00,REGULAR,0005066018,0001716072                                     \r\n",
      "A002,R051,02-00-00,LEXINGTON AVE,NQR456,BMT,03/28/2015,12:00:00,REGULAR,0005066153,0001716183                                     \r\n",
      "A002,R051,02-00-00,LEXINGTON AVE,NQR456,BMT,03/28/2015,16:00:00,REGULAR,0005066453,0001716263                                     \r\n",
      "A002,R051,02-00-00,LEXINGTON AVE,NQR456,BMT,03/28/2015,20:00:00,REGULAR,0005066883,0001716327                                     \r\n",
      "A002,R051,02-00-00,LEXINGTON AVE,NQR456,BMT,03/29/2015,00:00:00,REGULAR,0005067073,0001716368                                     \r\n",
      "A002,R051,02-00-00,LEXINGTON AVE,NQR456,BMT,03/29/2015,04:00:00,REGULAR,0005067111,0001716377                                     \r\n",
      "A002,R051,02-00-00,LEXINGTON AVE,NQR456,BMT,03/29/2015,08:00:00,REGULAR,0005067124,0001716394                                     \r\n"
     ]
    }
   ],
   "source": [
    "# download the file!!! Google: MTA turnstile data\n",
    "!head turnstile_150404.txt"
   ]
  },
  {
   "cell_type": "markdown",
   "metadata": {},
   "source": [
    "### We could also download the data directly via wget"
   ]
  },
  {
   "cell_type": "code",
   "execution_count": 44,
   "metadata": {
    "collapsed": false
   },
   "outputs": [
    {
     "name": "stdout",
     "output_type": "stream",
     "text": [
      "--2015-04-06 22:26:32--  http://web.mta.info/developers/data/nyct/turnstile/turnstile_150110.txt\n",
      "Resolving web.mta.info... 107.14.41.104, 107.14.41.112\n",
      "Connecting to web.mta.info|107.14.41.104|:80... connected.\n",
      "HTTP request sent, awaiting response... 200 OK\n",
      "Length: unspecified [text/plain]\n",
      "Saving to: 'turnstile_150110.txt'\n",
      "\n",
      "    [                  <=>                  ] 25,610,893  7.35MB/s   in 3.5s   \n",
      "\n",
      "2015-04-06 22:26:36 (7.00 MB/s) - 'turnstile_150110.txt' saved [25610893]\n",
      "\n"
     ]
    }
   ],
   "source": [
    "!wget http://web.mta.info/developers/data/nyct/turnstile/turnstile_150110.txt"
   ]
  },
  {
   "cell_type": "code",
   "execution_count": 47,
   "metadata": {
    "collapsed": false
   },
   "outputs": [
    {
     "name": "stdout",
     "output_type": "stream",
     "text": [
      "C/A,UNIT,SCP,STATION,LINENAME,DIVISION,DATE,TIME,DESC,ENTRIES,EXITS                                                               \r\n",
      "A002,R051,02-00-00,LEXINGTON AVE,NQR456,BMT,01/03/2015,03:00:00,REGULAR,0004945474,0001675324                                     \r\n",
      "A002,R051,02-00-00,LEXINGTON AVE,NQR456,BMT,01/03/2015,07:00:00,REGULAR,0004945478,0001675333                                     \r\n",
      "A002,R051,02-00-00,LEXINGTON AVE,NQR456,BMT,01/03/2015,11:00:00,REGULAR,0004945515,0001675364                                     \r\n",
      "A002,R051,02-00-00,LEXINGTON AVE,NQR456,BMT,01/03/2015,15:00:00,REGULAR,0004945679,0001675408                                     \r\n",
      "A002,R051,02-00-00,LEXINGTON AVE,NQR456,BMT,01/03/2015,19:00:00,REGULAR,0004946006,0001675469                                     \r\n",
      "A002,R051,02-00-00,LEXINGTON AVE,NQR456,BMT,01/03/2015,23:00:00,REGULAR,0004946200,0001675511                                     \r\n",
      "A002,R051,02-00-00,LEXINGTON AVE,NQR456,BMT,01/04/2015,03:00:00,REGULAR,0004946237,0001675520                                     \r\n",
      "A002,R051,02-00-00,LEXINGTON AVE,NQR456,BMT,01/04/2015,07:00:00,REGULAR,0004946240,0001675524                                     \r\n",
      "A002,R051,02-00-00,LEXINGTON AVE,NQR456,BMT,01/04/2015,11:00:00,REGULAR,0004946280,0001675542                                     \r\n"
     ]
    }
   ],
   "source": [
    "!head turnstile_150110.txt"
   ]
  },
  {
   "cell_type": "markdown",
   "metadata": {},
   "source": [
    "### Now let's open and read the file"
   ]
  },
  {
   "cell_type": "code",
   "execution_count": 52,
   "metadata": {
    "collapsed": false
   },
   "outputs": [
    {
     "name": "stdout",
     "output_type": "stream",
     "text": [
      "['A002', 'R051', '02-00-00', 'LEXINGTON AVE', 'NQR456', 'BMT', '03/28/2015', '00:00:00', 'REGULAR', '0005065968', '0001716046                                     ']\n",
      "['A002', 'R051', '02-00-00', 'LEXINGTON AVE', 'NQR456', 'BMT', '03/28/2015', '04:00:00', 'REGULAR', '0005066006', '0001716049                                     ']\n",
      "['A002', 'R051', '02-00-00', 'LEXINGTON AVE', 'NQR456', 'BMT', '03/28/2015', '08:00:00', 'REGULAR', '0005066018', '0001716072                                     ']\n",
      "['A002', 'R051', '02-00-00', 'LEXINGTON AVE', 'NQR456', 'BMT', '03/28/2015', '12:00:00', 'REGULAR', '0005066153', '0001716183                                     ']\n"
     ]
    }
   ],
   "source": [
    "import csv\n",
    "LINE_NUM = 3\n",
    "with open('turnstile_150404.txt', 'r') as turnstile_file:\n",
    "    reader = csv.reader(turnstile_file)\n",
    "    \n",
    "    # gets rid of header\n",
    "    reader.next()\n",
    "    for index,row in enumerate(reader):\n",
    "        print row\n",
    "        if index == LINE_NUM:\n",
    "            break\n"
   ]
  },
  {
   "cell_type": "code",
   "execution_count": 64,
   "metadata": {
    "collapsed": false
   },
   "outputs": [
    {
     "name": "stdout",
     "output_type": "stream",
     "text": [
      "I am processing row 0\n",
      "I am processing row 1\n",
      "I am processing row 2\n"
     ]
    },
    {
     "name": "stderr",
     "output_type": "stream",
     "text": [
      "Oh noes, row 2 failed\n"
     ]
    }
   ],
   "source": [
    "import sys\n",
    "import csv\n",
    "\n",
    "with open('turnstile_150404.txt', 'r') as turnstile_file:\n",
    "    reader = csv.reader(turnstile_file)\n",
    "    \n",
    "    three_rows = open(\"three_rows.txt\", 'w')\n",
    "    writer = csv.writer(three_rows)\n",
    "\n",
    "    for num, row in enumerate(reader):\n",
    "        try:\n",
    "            if num == 3:\n",
    "                break\n",
    "                \n",
    "            print 'I am processing row %i' % num\n",
    "            writer.writerow(row)\n",
    "            \n",
    "            if num == 2:\n",
    "                my_value = row/2\n",
    "                print my_value\n",
    "        except:\n",
    "            ## To see the difference between this and regular print, copy\n",
    "            ## this block to a python script and run with output to > kk\n",
    "            print >> sys.stderr, 'Oh noes, row %i failed' % num\n",
    "three_rows.close()     "
   ]
  },
  {
   "cell_type": "code",
   "execution_count": 65,
   "metadata": {
    "collapsed": false
   },
   "outputs": [
    {
     "name": "stdout",
     "output_type": "stream",
     "text": [
      "1_S_Benson_ExploreMTA.ipynb      new_csv_toy.csv\r\n",
      "Benson_Challenge_Solutions.ipynb shiny_new_file.txt\r\n",
      "Benson_Challenges.md             star_wars_image.jpg\r\n",
      "Benson_EDA.ipynb                 star_wars_image_curl.jpg\r\n",
      "Python_Input_Output.ipynb        star_wars_wget.jpg\r\n",
      "README.md                        super_math_results.txt\r\n",
      "client_emails.md                 testing.py\r\n",
      "even_newer_file.txt              testing.py~\r\n",
      "kk                               three_rows.txt\r\n",
      "last_file.txt                    turnstile_150110.txt\r\n",
      "mta.py                           turnstile_150404.txt\r\n"
     ]
    }
   ],
   "source": [
    "!ls"
   ]
  },
  {
   "cell_type": "code",
   "execution_count": 66,
   "metadata": {
    "collapsed": false
   },
   "outputs": [
    {
     "name": "stdout",
     "output_type": "stream",
     "text": [
      "C/A,UNIT,SCP,STATION,LINENAME,DIVISION,DATE,TIME,DESC,ENTRIES,EXITS                                                               \r",
      "\r\n",
      "A002,R051,02-00-00,LEXINGTON AVE,NQR456,BMT,03/28/2015,00:00:00,REGULAR,0005065968,0001716046                                     \r",
      "\r\n",
      "A002,R051,02-00-00,LEXINGTON AVE,NQR456,BMT,03/28/2015,04:00:00,REGULAR,0005066006,0001716049                                     \r",
      "\r\n"
     ]
    }
   ],
   "source": [
    "!cat three_rows.txt"
   ]
  }
 ],
 "metadata": {
  "kernelspec": {
   "display_name": "Python 2",
   "language": "python",
   "name": "python2"
  },
  "language_info": {
   "codemirror_mode": {
    "name": "ipython",
    "version": 2
   },
   "file_extension": ".py",
   "mimetype": "text/x-python",
   "name": "python",
   "nbconvert_exporter": "python",
   "pygments_lexer": "ipython2",
   "version": "2.7.9"
  }
 },
 "nbformat": 4,
 "nbformat_minor": 0
}
