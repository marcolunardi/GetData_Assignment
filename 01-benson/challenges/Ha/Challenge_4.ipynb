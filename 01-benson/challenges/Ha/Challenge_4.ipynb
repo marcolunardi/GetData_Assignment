{
 "cells": [
  {
   "cell_type": "code",
   "execution_count": 13,
   "metadata": {
    "collapsed": false
   },
   "outputs": [
    {
     "name": "stdout",
     "output_type": "stream",
     "text": [
      "[['03/28/2015', 1268], ['03/29/2015', 885], ['03/30/2015', 2629], ['03/31/2015', 2997], ['04/01/2015', 2764], ['04/02/2015', 2542], ['04/03/2015', 1796]]\n",
      "[datetime.datetime(2015, 3, 28, 0, 0), datetime.datetime(2015, 3, 29, 0, 0), datetime.datetime(2015, 3, 30, 0, 0), datetime.datetime(2015, 3, 31, 0, 0), datetime.datetime(2015, 4, 1, 0, 0), datetime.datetime(2015, 4, 2, 0, 0)] [1268, 885, 2629, 2997, 2764, 2542]\n"
     ]
    },
    {
     "data": {
      "text/plain": [
       "[<matplotlib.lines.Line2D at 0x10d20ed90>]"
      ]
     },
     "execution_count": 13,
     "metadata": {},
     "output_type": "execute_result"
    },
    {
     "data": {
      "image/png": "[encoded data removed]",
      "text/plain": [
       "<matplotlib.figure.Figure at 0x10b02de90>"
      ]
     },
     "metadata": {},
     "output_type": "display_data"
    }
   ],
   "source": [
    "%matplotlib inline\n",
    "import matplotlib.pyplot as plt\n",
    "import csv\n",
    "import dateutil.parser\n",
    "\n",
    "with open(\"turnstile_150404.txt\", \"r\") as MTA_new:\n",
    "    reader = csv.reader(MTA_new)\n",
    "    # Skip header line\n",
    "    reader.next()\n",
    "    \n",
    "    MTA_key1 = open(\"MTA_key1.txt\",\"w\")\n",
    "    writer = csv.writer(MTA_key1)\n",
    "    mta_list={}\n",
    "\n",
    "    \n",
    "\n",
    "    for index, row in enumerate(reader):\n",
    "        key = tuple(row[0:4])\n",
    "        value = [row[6],int(float(row[-2]))]\n",
    "            \n",
    "            \n",
    "        if key in mta_list:\n",
    "            mta_list[key].append(value)\n",
    "        else:\n",
    "            mta_list[key] = [value] \n",
    "\n",
    "#create a new dictionary\n",
    "new_list = {}\n",
    "for k, v in mta_list.iteritems():\n",
    "    i = 0\n",
    "    while i < (len(v) - 1):\n",
    "        date = v[i][0]\n",
    "        ini_count = v[i][1] \n",
    "        next_count = v[i][1]\n",
    "        while date == v[i][0] and i< (len(v)-1):\n",
    "            i += 1\n",
    "            next_count = v[i][1]\n",
    "        \n",
    "        new_value = [date, next_count - ini_count]\n",
    "        if k in new_list:\n",
    "            new_list[k].append(new_value)\n",
    "        else:\n",
    "            new_list[k]=[new_value]\n",
    "            \n",
    "First_turnstile = new_list.keys()[0]\n",
    "Turnstile1_data = new_list[First_turnstile]\n",
    "print Turnstile1_data\n",
    "dates = []\n",
    "counts = []\n",
    "for i in xrange(0,len(Turnstile1_data)-1):\n",
    "    dates.append(dateutil.parser.parse(Turnstile1_data[i][0]))\n",
    "    counts.append(Turnstile1_data[i][1])\n",
    "    \n",
    "print dates, counts\n",
    "plt.figure(figsize=(10,3))\n",
    "plt.plot(dates,counts)\n",
    "    \n",
    "        \n"
   ]
  },
  {
   "cell_type": "code",
   "execution_count": null,
   "metadata": {
    "collapsed": true
   },
   "outputs": [],
   "source": []
  }
 ],
 "metadata": {
  "kernelspec": {
   "display_name": "Python 2",
   "language": "python",
   "name": "python2"
  },
  "language_info": {
   "codemirror_mode": {
    "name": "ipython",
    "version": 2
   },
   "file_extension": ".py",
   "mimetype": "text/x-python",
   "name": "python",
   "nbconvert_exporter": "python",
   "pygments_lexer": "ipython2",
   "version": "2.7.9"
  }
 },
 "nbformat": 4,
 "nbformat_minor": 0
}
