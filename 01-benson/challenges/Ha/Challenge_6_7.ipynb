{
 "cells": [
  {
   "cell_type": "code",
   "execution_count": 4,
   "metadata": {
    "collapsed": false
   },
   "outputs": [
    {
     "name": "stdout",
     "output_type": "stream",
     "text": [
      "(('R137', 'R031', '34 ST-PENN STA'), [['03/28/2015', 0], ['03/29/2015', 0], ['03/30/2015', 1604], ['03/31/2015', 1699], ['04/01/2015', 1707], ['04/02/2015', 1697], ['04/03/2015', 1149], ['03/28/2015', 0], ['03/29/2015', 0], ['03/30/2015', 1341], ['03/31/2015', 1445], ['04/01/2015', 1396], ['04/02/2015', 1406], ['04/03/2015', 1060], ['03/28/2015', 0], ['03/29/2015', 0], ['03/30/2015', 886], ['03/31/2015', 961], ['04/01/2015', 917], ['04/02/2015', 967], ['04/03/2015', 667]])\n",
      "(('R137', 'R031', '34 ST-PENN STA'), [['03/28/2015', 0], ['03/30/2015', 3831], ['03/29/2015', 0], ['04/02/2015', 4070], ['04/01/2015', 4020], ['04/03/2015', 2876], ['03/31/2015', 4105]])\n"
     ]
    }
   ],
   "source": [
    "%matplotlib inline\n",
    "import matplotlib.pyplot as plt\n",
    "import csv\n",
    "import dateutil.parser\n",
    "\n",
    "#create a dictionary with key = (C/A,Unit,SCP,Station)\n",
    "#and the value = [date, count]\n",
    "with open(\"turnstile_150404.txt\", \"r\") as MTA_new:\n",
    "    reader = csv.reader(MTA_new)\n",
    "    # Skip header line\n",
    "    reader.next()\n",
    "    \n",
    "    MTA_key1 = open(\"MTA_key1.txt\",\"w\")\n",
    "    writer = csv.writer(MTA_key1)\n",
    "    mta_list={}\n",
    "\n",
    "    \n",
    "\n",
    "    for index, row in enumerate(reader):\n",
    "        key = tuple(row[0:4])\n",
    "        value = [row[6],int(float(row[-2]))]\n",
    "            \n",
    "            \n",
    "        if key in mta_list:\n",
    "            mta_list[key].append(value)\n",
    "        else:\n",
    "            mta_list[key] = [value] \n",
    "\n",
    "#create a new dictionary with key = (C/A,Unit,SCP,Station)\n",
    "#and the value = [date,count] \n",
    "#where all same date are group together\n",
    "#(where count = last count of the day - first count of the day)\n",
    "\n",
    "new_list = {}\n",
    "for k, v in mta_list.iteritems():\n",
    "    i = 0\n",
    "    while i < (len(v) - 1):\n",
    "        date = v[i][0]\n",
    "        ini_count = v[i][1] \n",
    "        next_count = v[i][1]\n",
    "        while date == v[i][0] and i< (len(v)-1):\n",
    "            i += 1\n",
    "            next_count = v[i][1]\n",
    "        \n",
    "        new_value = [date, next_count - ini_count]\n",
    "        if k in new_list:\n",
    "            new_list[k].append(new_value)\n",
    "        else:\n",
    "            new_list[k]=[new_value]\n",
    "            \n",
    "            \n",
    "#Creat a new dictionary where key = (C/A,Unit,Station)\n",
    "#value is (date,count)\n",
    "\n",
    "Turnstile_list = new_list.keys()\n",
    "CUS_turnstiles = {}\n",
    "\n",
    "\n",
    "while len(Turnstile_list) != 0 :\n",
    "    current_CUS = Turnstile_list[0] \n",
    "    TT_CUS      = list(current_CUS) \n",
    "    TT_CUS.remove(TT_CUS[2])\n",
    "    CUS_turnstiles[tuple(TT_CUS)] = new_list[current_CUS]\n",
    "\n",
    "    Turnstile_list.remove(current_CUS)\n",
    "    for TT_key in Turnstile_list:\n",
    "        TT_keyl = list(TT_key)\n",
    "        TT_keyl.remove(TT_keyl[2])\n",
    "        if TT_CUS == TT_keyl:\n",
    "            CUS_turnstiles[tuple(TT_CUS)].extend(new_list[TT_key])\n",
    "            Turnstile_list.remove(TT_key)\n",
    "            \n",
    "#k, v = CUS_turnstiles.items()[0]\n",
    "#tempdict = {k: v}\n",
    "#print tempdict\n",
    "\n",
    "p=CUS_turnstiles.keys()\n",
    "#print p\n",
    "#print CUS_turnstiles[p[1]]\n",
    "print CUS_turnstiles.items()[1]\n",
    "\n",
    "# print \"\"\n",
    "# print \"\"\n",
    "\n",
    "# #Creat a new dictionary where key = (C/A,Unit,Station)\n",
    "# #but group all same day count for each key together\n",
    "\n",
    "# Updated_CUS = {}\n",
    "\n",
    "# for CUS_k, CUS_v in tempdict.items():\n",
    "#     Updated_CUS[CUS_k]=[]\n",
    "   \n",
    "#     for l in CUS_v:\n",
    "#         print 'l is', l\n",
    "#         CUS_date = l[0]\n",
    "#         CUS_counts = l[1]\n",
    "#         CUS_v.remove(l)\n",
    "#         print 'CUS_v is', CUS_v\n",
    "        \n",
    "#         for h in CUS_v:\n",
    "#             print 'h is', h\n",
    "#             if h[0] == CUS_date:\n",
    "#                 CUS_counts += h[1]\n",
    "#                 CUS_v.remove(h)\n",
    "#                 print 'CUS_v in inner loop is', CUS_v\n",
    "        \n",
    "#         Updated_CUS[CUS_k].append([CUS_date,CUS_counts])\n",
    "\n",
    "            \n",
    "# print Updated_CUS.values()\n",
    "            \n",
    "            \n",
    "         \n",
    "    \n",
    "\n",
    "\n",
    "# # Second way of solving above problem:\n",
    "CUS_hash = {}\n",
    "Sorted_CUS = {}\n",
    "\n",
    "\n",
    "for hash_k, hash_v in CUS_turnstiles.iteritems():\n",
    "    my_hash={}\n",
    "    \n",
    "    \n",
    "    for date_hash in hash_v:\n",
    "        \n",
    "        if date_hash[0] in my_hash:\n",
    "            my_hash[date_hash[0]] += date_hash[1]\n",
    "        else:\n",
    "            my_hash[date_hash[0]]  = date_hash[1]\n",
    "    \n",
    "    CUS_counts_list = []\n",
    "    for my_hash_k, my_hash_v in my_hash.iteritems():\n",
    "        temp = [my_hash_k,my_hash_v]\n",
    "        CUS_counts_list.append(temp)\n",
    "#    print 'This is CUS_counts_list', CUS_counts_list   \n",
    "    CUS_hash[hash_k] = CUS_counts_list\n",
    "    \n",
    "print CUS_hash.items()[1]\n",
    "\n",
    "\n",
    "    "
   ]
  },
  {
   "cell_type": "code",
   "execution_count": 23,
   "metadata": {
    "collapsed": false
   },
   "outputs": [
    {
     "name": "stdout",
     "output_type": "stream",
     "text": [
      "[['03/28/2015', 0], ['03/29/2015', 0], ['03/30/2015', 3831], ['03/31/2015', 4105], ['04/01/2015', 4020], ['04/02/2015', 4070], ['04/03/2015', 2876]]\n",
      "(('R137', 'R031', '34 ST-PENN STA'), [[datetime.datetime(2015, 3, 28, 0, 0), datetime.datetime(2015, 3, 29, 0, 0), datetime.datetime(2015, 3, 30, 0, 0), datetime.datetime(2015, 3, 31, 0, 0), datetime.datetime(2015, 4, 1, 0, 0), datetime.datetime(2015, 4, 2, 0, 0)], [0, 0, 3831, 4105, 4020, 4070]])\n"
     ]
    }
   ],
   "source": [
    "#Need to sort dictionary before hand so that graph\n",
    "#is in order according to dates\n",
    "Sorted_list = {}\n",
    "for Sort_k in CUS_hash.keys():\n",
    "    Sorted_list[Sort_k] = sorted(CUS_hash[Sort_k]) \n",
    "\n",
    "#print Sorted_list.values()[1]\n",
    "\n",
    "Station_data={}\n",
    "for station_k, station_v in Sorted_list.iteritems():\n",
    "    station_dates = []\n",
    "    station_counts = []\n",
    "    for i in xrange(0,len(station_v)-1):\n",
    "        station_dates.append(dateutil.parser.parse(station_v[i][0]))\n",
    "        station_counts.append(station_v[i][1])\n",
    "    Station_data[station_k] = [station_dates,station_counts]\n",
    "\n",
    "print Station_data.items()[1]    "
   ]
  },
  {
   "cell_type": "code",
   "execution_count": 24,
   "metadata": {
    "collapsed": false
   },
   "outputs": [
    {
     "name": "stdout",
     "output_type": "stream",
     "text": [
      "[datetime.datetime(2015, 3, 28, 0, 0), datetime.datetime(2015, 3, 29, 0, 0), datetime.datetime(2015, 3, 30, 0, 0), datetime.datetime(2015, 3, 31, 0, 0), datetime.datetime(2015, 4, 1, 0, 0), datetime.datetime(2015, 4, 2, 0, 0)]\n"
     ]
    },
    {
     "data": {
      "text/plain": [
       "[<matplotlib.lines.Line2D at 0x111d5cd10>]"
      ]
     },
     "execution_count": 24,
     "metadata": {},
     "output_type": "execute_result"
    },
    {
     "data": {
      "image/png": "[encoded data removed]",
      "text/plain": [
       "<matplotlib.figure.Figure at 0x1119e8c90>"
      ]
     },
     "metadata": {},
     "output_type": "display_data"
    }
   ],
   "source": [
    "print Station_data.values()[0][0]\n",
    "plt.figure(figsize=(10,3))\n",
    "plt.plot(Station_data.values()[0][0],Station_data.values()[0][1])"
   ]
  },
  {
   "cell_type": "code",
   "execution_count": 3,
   "metadata": {
    "collapsed": false
   },
   "outputs": [
    {
     "ename": "NameError",
     "evalue": "name 'CUS_hash' is not defined",
     "output_type": "error",
     "traceback": [
      "\u001b[0;31m---------------------------------------------------------------------------\u001b[0m",
      "\u001b[0;31mNameError\u001b[0m                                 Traceback (most recent call last)",
      "\u001b[0;32m<ipython-input-3-6352378b8697>\u001b[0m in \u001b[0;36m<module>\u001b[0;34m()\u001b[0m\n\u001b[0;32m----> 1\u001b[0;31m \u001b[0;32mprint\u001b[0m \u001b[0mCUS_hash\u001b[0m\u001b[0;34m.\u001b[0m\u001b[0mitems\u001b[0m\u001b[0;34m(\u001b[0m\u001b[0;34m)\u001b[0m\u001b[0;34m[\u001b[0m\u001b[0;36m1\u001b[0m\u001b[0;34m]\u001b[0m\u001b[0;34m\u001b[0m\u001b[0m\n\u001b[0m",
      "\u001b[0;31mNameError\u001b[0m: name 'CUS_hash' is not defined"
     ]
    }
   ],
   "source": [
    "print CUS_hash.items()[1]"
   ]
  },
  {
   "cell_type": "code",
   "execution_count": 2,
   "metadata": {
    "collapsed": false
   },
   "outputs": [
    {
     "ename": "NameError",
     "evalue": "name 'CUS_hash' is not defined",
     "output_type": "error",
     "traceback": [
      "\u001b[0;31m---------------------------------------------------------------------------\u001b[0m",
      "\u001b[0;31mNameError\u001b[0m                                 Traceback (most recent call last)",
      "\u001b[0;32m<ipython-input-2-ad81626b3e0c>\u001b[0m in \u001b[0;36m<module>\u001b[0;34m()\u001b[0m\n\u001b[0;32m----> 1\u001b[0;31m \u001b[0mCUS_hash\u001b[0m\u001b[0;34m.\u001b[0m\u001b[0mvalues\u001b[0m\u001b[0;34m(\u001b[0m\u001b[0;34m)\u001b[0m\u001b[0;34m[\u001b[0m\u001b[0;36m1\u001b[0m\u001b[0;34m]\u001b[0m\u001b[0;34m\u001b[0m\u001b[0m\n\u001b[0m",
      "\u001b[0;31mNameError\u001b[0m: name 'CUS_hash' is not defined"
     ]
    }
   ],
   "source": [
    "CUS_hash.values()[1]"
   ]
  },
  {
   "cell_type": "code",
   "execution_count": 1,
   "metadata": {
    "collapsed": false
   },
   "outputs": [
    {
     "ename": "NameError",
     "evalue": "name 'CUS_hash' is not defined",
     "output_type": "error",
     "traceback": [
      "\u001b[0;31m---------------------------------------------------------------------------\u001b[0m",
      "\u001b[0;31mNameError\u001b[0m                                 Traceback (most recent call last)",
      "\u001b[0;32m<ipython-input-1-577b962f13da>\u001b[0m in \u001b[0;36m<module>\u001b[0;34m()\u001b[0m\n\u001b[0;32m----> 1\u001b[0;31m \u001b[0mlen\u001b[0m\u001b[0;34m(\u001b[0m\u001b[0mCUS_hash\u001b[0m\u001b[0;34m.\u001b[0m\u001b[0mkeys\u001b[0m\u001b[0;34m(\u001b[0m\u001b[0;34m)\u001b[0m\u001b[0;34m)\u001b[0m\u001b[0;34m\u001b[0m\u001b[0m\n\u001b[0m",
      "\u001b[0;31mNameError\u001b[0m: name 'CUS_hash' is not defined"
     ]
    }
   ],
   "source": [
    "len(CUS_hash.keys())"
   ]
  },
  {
   "cell_type": "code",
   "execution_count": null,
   "metadata": {
    "collapsed": true
   },
   "outputs": [],
   "source": []
  }
 ],
 "metadata": {
  "kernelspec": {
   "display_name": "Python 2",
   "language": "python",
   "name": "python2"
  },
  "language_info": {
   "codemirror_mode": {
    "name": "ipython",
    "version": 2
   },
   "file_extension": ".py",
   "mimetype": "text/x-python",
   "name": "python",
   "nbconvert_exporter": "python",
   "pygments_lexer": "ipython2",
   "version": "2.7.9"
  }
 },
 "nbformat": 4,
 "nbformat_minor": 0
}
