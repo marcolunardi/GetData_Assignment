{
 "cells": [
  {
   "cell_type": "code",
   "execution_count": 8,
   "metadata": {
    "collapsed": false
   },
   "outputs": [
    {
     "name": "stdout",
     "output_type": "stream",
     "text": [
      "(('R137', 'R031', '34 ST-PENN STA'), [['03/28/2015', 0], ['03/29/2015', 0], ['03/30/2015', 1604], ['03/31/2015', 1699], ['04/01/2015', 1707], ['04/02/2015', 1697], ['04/03/2015', 1149], ['03/28/2015', 0], ['03/29/2015', 0], ['03/30/2015', 1341], ['03/31/2015', 1445], ['04/01/2015', 1396], ['04/02/2015', 1406], ['04/03/2015', 1060], ['03/28/2015', 0], ['03/29/2015', 0], ['03/30/2015', 886], ['03/31/2015', 961], ['04/01/2015', 917], ['04/02/2015', 967], ['04/03/2015', 667]])\n",
      "(('R137', 'R031', '34 ST-PENN STA'), [['03/28/2015', 0], ['03/30/2015', 3831], ['03/29/2015', 0], ['04/02/2015', 4070], ['04/01/2015', 4020], ['04/03/2015', 2876], ['03/31/2015', 4105]])\n"
     ]
    }
   ],
   "source": [
    "%matplotlib inline\n",
    "import matplotlib.pyplot as plt\n",
    "import csv\n",
    "import dateutil.parser\n",
    "\n",
    "#create a dictionary with key = (C/A,Unit,SCP,Station)\n",
    "#and the value = [date, count]\n",
    "with open(\"turnstile_150404.txt\", \"r\") as MTA_new:\n",
    "    reader = csv.reader(MTA_new)\n",
    "    # Skip header line\n",
    "    reader.next()\n",
    "    \n",
    "    MTA_key1 = open(\"MTA_key1.txt\",\"w\")\n",
    "    writer = csv.writer(MTA_key1)\n",
    "    mta_list={}\n",
    "\n",
    "    \n",
    "\n",
    "    for index, row in enumerate(reader):\n",
    "        key = tuple(row[0:4])\n",
    "        value = [row[6],int(float(row[-2]))]\n",
    "            \n",
    "            \n",
    "        if key in mta_list:\n",
    "            mta_list[key].append(value)\n",
    "        else:\n",
    "            mta_list[key] = [value] \n",
    "\n",
    "#create a new dictionary with key = (C/A,Unit,SCP,Station)\n",
    "#and the value = [date,count] \n",
    "#where all same date are group together\n",
    "#(where count = last count of the day - first count of the day)\n",
    "\n",
    "new_list = {}\n",
    "for k, v in mta_list.iteritems():\n",
    "    i = 0\n",
    "    while i < (len(v) - 1):\n",
    "        date = v[i][0]\n",
    "        ini_count = v[i][1] \n",
    "        next_count = v[i][1]\n",
    "        while date == v[i][0] and i< (len(v)-1):\n",
    "            i += 1\n",
    "            next_count = v[i][1]\n",
    "        \n",
    "        new_value = [date, next_count - ini_count]\n",
    "        if k in new_list:\n",
    "            new_list[k].append(new_value)\n",
    "        else:\n",
    "            new_list[k]=[new_value]\n",
    "            \n",
    "            \n",
    "#Creat a new dictionary where key = (C/A,Unit,Station)\n",
    "#value is (date,count)\n",
    "\n",
    "Turnstile_list = new_list.keys()\n",
    "CUS_turnstiles = {}\n",
    "\n",
    "\n",
    "while len(Turnstile_list) != 0 :\n",
    "    current_CUS = Turnstile_list[0] \n",
    "    TT_CUS      = list(current_CUS) \n",
    "    TT_CUS.remove(TT_CUS[2])\n",
    "    CUS_turnstiles[tuple(TT_CUS)] = new_list[current_CUS]\n",
    "\n",
    "    Turnstile_list.remove(current_CUS)\n",
    "    for TT_key in Turnstile_list:\n",
    "        TT_keyl = list(TT_key)\n",
    "        TT_keyl.remove(TT_keyl[2])\n",
    "        if TT_CUS == TT_keyl:\n",
    "            CUS_turnstiles[tuple(TT_CUS)].extend(new_list[TT_key])\n",
    "            Turnstile_list.remove(TT_key)\n",
    "            \n",
    "#k, v = CUS_turnstiles.items()[0]\n",
    "#tempdict = {k: v}\n",
    "#print tempdict\n",
    "\n",
    "p=CUS_turnstiles.keys()\n",
    "#print p\n",
    "#print CUS_turnstiles[p[1]]\n",
    "print CUS_turnstiles.items()[1]\n",
    "\n",
    "# print \"\"\n",
    "# print \"\"\n",
    "\n",
    "# #Creat a new dictionary where key = (C/A,Unit,Station)\n",
    "# #but group all same day count for each key together\n",
    "\n",
    "# Updated_CUS = {}\n",
    "\n",
    "# for CUS_k, CUS_v in tempdict.items():\n",
    "#     Updated_CUS[CUS_k]=[]\n",
    "   \n",
    "#     for l in CUS_v:\n",
    "#         print 'l is', l\n",
    "#         CUS_date = l[0]\n",
    "#         CUS_counts = l[1]\n",
    "#         CUS_v.remove(l)\n",
    "#         print 'CUS_v is', CUS_v\n",
    "        \n",
    "#         for h in CUS_v:\n",
    "#             print 'h is', h\n",
    "#             if h[0] == CUS_date:\n",
    "#                 CUS_counts += h[1]\n",
    "#                 CUS_v.remove(h)\n",
    "#                 print 'CUS_v in inner loop is', CUS_v\n",
    "        \n",
    "#         Updated_CUS[CUS_k].append([CUS_date,CUS_counts])\n",
    "\n",
    "            \n",
    "# print Updated_CUS.values()\n",
    "            \n",
    "            \n",
    "         \n",
    "    \n",
    "\n",
    "\n",
    "# # Second way of solving above problem:\n",
    "CUS_hash={}\n",
    "\n",
    "\n",
    "for hash_k, hash_v in CUS_turnstiles.iteritems():\n",
    "    my_hash={}\n",
    "    \n",
    "    \n",
    "    for date_hash in hash_v:\n",
    "        \n",
    "        if date_hash[0] in my_hash:\n",
    "            my_hash[date_hash[0]] += date_hash[1]\n",
    "        else:\n",
    "            my_hash[date_hash[0]]  = date_hash[1]\n",
    "    \n",
    "    CUS_counts_list = []\n",
    "    for my_hash_k, my_hash_v in my_hash.iteritems():\n",
    "        temp = [my_hash_k,my_hash_v]\n",
    "        CUS_counts_list.append(temp)\n",
    "#    print 'This is CUS_counts_list', CUS_counts_list   \n",
    "    CUS_hash[hash_k] = CUS_counts_list\n",
    "    \n",
    "print CUS_hash.items()[1]\n",
    "    "
   ]
  },
  {
   "cell_type": "code",
   "execution_count": 23,
   "metadata": {
    "collapsed": false
   },
   "outputs": [
    {
     "name": "stdout",
     "output_type": "stream",
     "text": [
      "['b', 'c']\n",
      "('a', 'b', 'c')\n"
     ]
    }
   ],
   "source": [
    "M=('a','b', 'c')\n",
    "N=list(M)\n",
    "N.remove(N[0])\n",
    "print N\n",
    "print M"
   ]
  },
  {
   "cell_type": "code",
   "execution_count": 40,
   "metadata": {
    "collapsed": false
   },
   "outputs": [
    {
     "name": "stdout",
     "output_type": "stream",
     "text": [
      "2 [1, 3]\n"
     ]
    }
   ],
   "source": [
    "M=[1,2,3]\n",
    "N=M[1]\n",
    "M.remove(M[1])\n",
    "print N,M"
   ]
  },
  {
   "cell_type": "code",
   "execution_count": null,
   "metadata": {
    "collapsed": true
   },
   "outputs": [],
   "source": []
  }
 ],
 "metadata": {
  "kernelspec": {
   "display_name": "Python 2",
   "language": "python",
   "name": "python2"
  },
  "language_info": {
   "codemirror_mode": {
    "name": "ipython",
    "version": 2
   },
   "file_extension": ".py",
   "mimetype": "text/x-python",
   "name": "python",
   "nbconvert_exporter": "python",
   "pygments_lexer": "ipython2",
   "version": "2.7.9"
  }
 },
 "nbformat": 4,
 "nbformat_minor": 0
}
