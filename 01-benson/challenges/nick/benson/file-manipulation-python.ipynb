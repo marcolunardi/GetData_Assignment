{
 "cells": [
  {
   "cell_type": "code",
   "execution_count": 1,
   "metadata": {
    "collapsed": false
   },
   "outputs": [
    {
     "name": "stdout",
     "output_type": "stream",
     "text": [
      "Untitled.ipynb\r\n"
     ]
    }
   ],
   "source": [
    "!ls"
   ]
  },
  {
   "cell_type": "code",
   "execution_count": 2,
   "metadata": {
    "collapsed": false
   },
   "outputs": [
    {
     "name": "stdout",
     "output_type": "stream",
     "text": [
      "Untitled.ipynb     shiny_new_file.txt\r\n"
     ]
    }
   ],
   "source": [
    "toy_file = open(\"shiny_new_file.txt\", \"w\")\n",
    "toy_file.write(\"hey,yo, yolo \\n\")\n",
    "toy_file.write(\"how are you doing!? \\n\")\n",
    "toy_file.close()\n",
    "!ls"
   ]
  },
  {
   "cell_type": "code",
   "execution_count": 3,
   "metadata": {
    "collapsed": false
   },
   "outputs": [
    {
     "name": "stdout",
     "output_type": "stream",
     "text": [
      "Untitled.ipynb     new2.txt           shiny_new_file.txt\r\n"
     ]
    }
   ],
   "source": [
    "our_file = open(\"shiny_new_file.txt\",\"r\")\n",
    "nf=open(\"new2.txt\",\"w\")\n",
    "nf.write(our_file.read())\n",
    "our_file.close()\n",
    "nf.close()\n",
    "!ls"
   ]
  },
  {
   "cell_type": "code",
   "execution_count": 4,
   "metadata": {
    "collapsed": false
   },
   "outputs": [
    {
     "name": "stdout",
     "output_type": "stream",
     "text": [
      "hey,yo, yolo \r\n",
      "how are you doing!? \r\n"
     ]
    }
   ],
   "source": [
    "!cat new2.txt"
   ]
  },
  {
   "cell_type": "code",
   "execution_count": 5,
   "metadata": {
    "collapsed": false
   },
   "outputs": [
    {
     "name": "stdout",
     "output_type": "stream",
     "text": [
      "file-manipulation-python.ipynb new2.txt                       shiny_new_file.txt             star_wars.jpg\r\n"
     ]
    }
   ],
   "source": [
    "import urllib2\n",
    "webfile=urllib2.urlopen(\"http://i.kinja-img.com/gawker-media/image/upload/s--lcZ52NA8--/19c0uzmi9bmv1jpg.jpg\")\n",
    "locfile=open(\"star_wars.jpg\",\"w\")\n",
    "locfile.write(webfile.read())\n",
    "locfile.close()\n",
    "webfile.close()\n",
    "!ls"
   ]
  },
  {
   "cell_type": "code",
   "execution_count": 6,
   "metadata": {
    "collapsed": false
   },
   "outputs": [
    {
     "name": "stdout",
     "output_type": "stream",
     "text": [
      "  % Total    % Received % Xferd  Average Speed   Time    Time     Time  Current\n",
      "                                 Dload  Upload   Total   Spent    Left  Speed\n",
      "100  557k  100  557k    0     0  1737k      0 --:--:-- --:--:-- --:--:-- 1743k\n"
     ]
    }
   ],
   "source": [
    "!curl http://i.kinja-img.com/gawker-media/image/upload/s--lcZ52NA8--/19c0uzmi9bmv1jpg.jpg > star_wars_curl.jpg"
   ]
  },
  {
   "cell_type": "code",
   "execution_count": 7,
   "metadata": {
    "collapsed": false
   },
   "outputs": [
    {
     "name": "stdout",
     "output_type": "stream",
     "text": [
      "file-manipulation-python.ipynb new2.txt                       shiny_new_file.txt             star_wars.jpg                  star_wars_curl.jpg\r\n"
     ]
    }
   ],
   "source": [
    "!ls"
   ]
  },
  {
   "cell_type": "code",
   "execution_count": 8,
   "metadata": {
    "collapsed": false
   },
   "outputs": [
    {
     "name": "stdout",
     "output_type": "stream",
     "text": [
      "/bin/sh: wget: command not found\r\n"
     ]
    }
   ],
   "source": [
    "!wget -O star-wars_wget.jpg http://i.kinja-img.com/gawker-media/image/upload/s--lcZ52NA8--/19c0uzmi9bmv1jpg.jpg"
   ]
  },
  {
   "cell_type": "code",
   "execution_count": 9,
   "metadata": {
    "collapsed": false
   },
   "outputs": [
    {
     "name": "stdout",
     "output_type": "stream",
     "text": [
      "/bin/sh: wget: command not found\r\n"
     ]
    }
   ],
   "source": [
    "!wget -O star_wars_wget.jpg http://i.kinja-img.com/gawker-media/image/upload/s--lcZ52NA8--/19c0uzmi9bmv1jpg.jpg"
   ]
  },
  {
   "cell_type": "code",
   "execution_count": 10,
   "metadata": {
    "collapsed": false
   },
   "outputs": [
    {
     "name": "stdout",
     "output_type": "stream",
     "text": [
      "--2015-04-07 11:03:50--  http://i.kinja-img.com/gawker-media/image/upload/s--lcZ52NA8--/19c0uzmi9bmv1jpg.jpg\n",
      "Resolving i.kinja-img.com... 23.235.39.192, 23.235.39.129\n",
      "Connecting to i.kinja-img.com|23.235.39.192|:80... connected.\n",
      "HTTP request sent, awaiting response... 200 OK\n",
      "Length: 571278 (558K) [image/jpeg]\n",
      "Saving to: 'star_wars_wget.jpg'\n",
      "\n",
      "star_wars_wget.jpg  100%[=====================>] 557.89K  1.63MB/s   in 0.3s   \n",
      "\n",
      "2015-04-07 11:03:51 (1.63 MB/s) - 'star_wars_wget.jpg' saved [571278/571278]\n",
      "\n"
     ]
    }
   ],
   "source": [
    "!wget -O star_wars_wget.jpg http://i.kinja-img.com/gawker-media/image/upload/s--lcZ52NA8--/19c0uzmi9bmv1jpg.jpg"
   ]
  },
  {
   "cell_type": "code",
   "execution_count": 11,
   "metadata": {
    "collapsed": false
   },
   "outputs": [
    {
     "name": "stdout",
     "output_type": "stream",
     "text": [
      "3+99.4=102.4"
     ]
    }
   ],
   "source": [
    "nmath = 3 +99.4\n",
    "with open(\"super_math_res.txt\",\"w\") as results:\n",
    "    results.write(\"3+99.4=\")\n",
    "    results.write(str(nmath))\n",
    "!cat super_math_res.txt"
   ]
  },
  {
   "cell_type": "code",
   "execution_count": 12,
   "metadata": {
    "collapsed": false
   },
   "outputs": [
    {
     "ename": "AttributeError",
     "evalue": "'_csv.writer' object has no attribute 'write'",
     "output_type": "error",
     "traceback": [
      "\u001b[0;31m---------------------------------------------------------------------------\u001b[0m",
      "\u001b[0;31mAttributeError\u001b[0m                            Traceback (most recent call last)",
      "\u001b[0;32m<ipython-input-12-506cc4d46fca>\u001b[0m in \u001b[0;36m<module>\u001b[0;34m()\u001b[0m\n\u001b[1;32m      4\u001b[0m     \u001b[0mr1\u001b[0m \u001b[0;34m=\u001b[0m \u001b[0;34m[\u001b[0m\u001b[0;34m\"spades\"\u001b[0m\u001b[0;34m,\u001b[0m\u001b[0;34m\"hearts\"\u001b[0m\u001b[0;34m,\u001b[0m\u001b[0;34m\"clubs\"\u001b[0m\u001b[0;34m]\u001b[0m\u001b[0;34m\u001b[0m\u001b[0m\n\u001b[1;32m      5\u001b[0m     \u001b[0mr2\u001b[0m \u001b[0;34m=\u001b[0m \u001b[0;34m[\u001b[0m \u001b[0;34m\"ace\"\u001b[0m\u001b[0;34m,\u001b[0m \u001b[0;34m\"queen\"\u001b[0m\u001b[0;34m,\u001b[0m \u001b[0;34m\"king\"\u001b[0m\u001b[0;34m]\u001b[0m\u001b[0;34m\u001b[0m\u001b[0m\n\u001b[0;32m----> 6\u001b[0;31m     \u001b[0mwriter\u001b[0m\u001b[0;34m.\u001b[0m\u001b[0mwrite\u001b[0m\u001b[0;34m(\u001b[0m\u001b[0mr1\u001b[0m\u001b[0;34m)\u001b[0m\u001b[0;34m\u001b[0m\u001b[0m\n\u001b[0m\u001b[1;32m      7\u001b[0m     \u001b[0mwriter\u001b[0m\u001b[0;34m.\u001b[0m\u001b[0mwrite\u001b[0m\u001b[0;34m(\u001b[0m\u001b[0mr2\u001b[0m\u001b[0;34m)\u001b[0m\u001b[0;34m\u001b[0m\u001b[0m\n\u001b[1;32m      8\u001b[0m \u001b[0mget_ipython\u001b[0m\u001b[0;34m(\u001b[0m\u001b[0;34m)\u001b[0m\u001b[0;34m.\u001b[0m\u001b[0msystem\u001b[0m\u001b[0;34m(\u001b[0m\u001b[0;34mu'cat mev.csv'\u001b[0m\u001b[0;34m)\u001b[0m\u001b[0;34m\u001b[0m\u001b[0m\n",
      "\u001b[0;31mAttributeError\u001b[0m: '_csv.writer' object has no attribute 'write'"
     ]
    }
   ],
   "source": [
    "import csv\n",
    "with open(\"mev.csv\",\"w\") as csv_put:\n",
    "    t\n",
    "!cat mev.csv"
   ]
  },
  {
   "cell_type": "code",
   "execution_count": 13,
   "metadata": {
    "collapsed": false
   },
   "outputs": [
    {
     "name": "stdout",
     "output_type": "stream",
     "text": [
      "spades,hearts,clubs\r",
      "\r\n",
      "ace,queen,king\r",
      "\r\n"
     ]
    }
   ],
   "source": [
    "import csv\n",
    "with open(\"mev.csv\",\"w\") as csv_put:\n",
    "    writer = csv.writer(csv_put)\n",
    "    r1 = [\"spades\",\"hearts\",\"clubs\"]\n",
    "    r2 = [ \"ace\", \"queen\", \"king\"]\n",
    "    writer.writerow(r1)\n",
    "    writer.writerow(r2)\n",
    "!cat mev.csv"
   ]
  },
  {
   "cell_type": "code",
   "execution_count": 14,
   "metadata": {
    "collapsed": true
   },
   "outputs": [],
   "source": [
    "# Exploring MTA data"
   ]
  },
  {
   "cell_type": "code",
   "execution_count": 15,
   "metadata": {
    "collapsed": true
   },
   "outputs": [],
   "source": [
    "## Exploring MTA data"
   ]
  },
  {
   "cell_type": "markdown",
   "metadata": {},
   "source": [
    "## Exploring MTA data"
   ]
  },
  {
   "cell_type": "code",
   "execution_count": 16,
   "metadata": {
    "collapsed": false
   },
   "outputs": [
    {
     "name": "stdout",
     "output_type": "stream",
     "text": [
      "--2015-04-07 11:22:07--  http://web.mta.info/developers/data/nyct/turnstile/turnstile_150404.txt\n",
      "Resolving web.mta.info... 63.88.100.184, 63.88.100.208\n",
      "Connecting to web.mta.info|63.88.100.184|:80... connected.\n",
      "HTTP request sent, awaiting response... 200 OK\n",
      "Length: unspecified [text/plain]\n",
      "Saving to: 'mta_turn_data.txt'\n",
      "\n",
      "mta_turn_data.txt       [   <=>                ]  23.91M  2.60MB/s   in 8.4s   \n",
      "\n",
      "2015-04-07 11:22:16 (2.85 MB/s) - 'mta_turn_data.txt' saved [25071566]\n",
      "\n"
     ]
    }
   ],
   "source": [
    "!wget -O mta_turn_data.txt http://web.mta.info/developers/data/nyct/turnstile/turnstile_150404.txt"
   ]
  },
  {
   "cell_type": "code",
   "execution_count": 17,
   "metadata": {
    "collapsed": false
   },
   "outputs": [
    {
     "name": "stdout",
     "output_type": "stream",
     "text": [
      "file-manipulation-python.ipynb mta_turn_data.txt              shiny_new_file.txt             star_wars_curl.jpg             super_math_res.txt\r\n",
      "mev.csv                        new2.txt                       star_wars.jpg                  star_wars_wget.jpg\r\n"
     ]
    }
   ],
   "source": [
    "!ls"
   ]
  },
  {
   "cell_type": "code",
   "execution_count": 18,
   "metadata": {
    "collapsed": false
   },
   "outputs": [
    {
     "name": "stdout",
     "output_type": "stream",
     "text": [
      "C/A,UNIT,SCP,STATION,LINENAME,DIVISION,DATE,TIME,DESC,ENTRIES,EXITS                                                               \r\n",
      "A002,R051,02-00-00,LEXINGTON AVE,NQR456,BMT,03/28/2015,00:00:00,REGULAR,0005065968,0001716046                                     \r\n",
      "A002,R051,02-00-00,LEXINGTON AVE,NQR456,BMT,03/28/2015,04:00:00,REGULAR,0005066006,0001716049                                     \r\n",
      "A002,R051,02-00-00,LEXINGTON AVE,NQR456,BMT,03/28/2015,08:00:00,REGULAR,0005066018,0001716072                                     \r\n",
      "A002,R051,02-00-00,LEXINGTON AVE,NQR456,BMT,03/28/2015,12:00:00,REGULAR,0005066153,0001716183                                     \r\n",
      "A002,R051,02-00-00,LEXINGTON AVE,NQR456,BMT,03/28/2015,16:00:00,REGULAR,0005066453,0001716263                                     \r\n",
      "A002,R051,02-00-00,LEXINGTON AVE,NQR456,BMT,03/28/2015,20:00:00,REGULAR,0005066883,0001716327                                     \r\n",
      "A002,R051,02-00-00,LEXINGTON AVE,NQR456,BMT,03/29/2015,00:00:00,REGULAR,0005067073,0001716368                                     \r\n",
      "A002,R051,02-00-00,LEXINGTON AVE,NQR456,BMT,03/29/2015,04:00:00,REGULAR,0005067111,0001716377                                     \r\n",
      "A002,R051,02-00-00,LEXINGTON AVE,NQR456,BMT,03/29/2015,08:00:00,REGULAR,0005067124,0001716394                                     \r\n"
     ]
    }
   ],
   "source": [
    "!head mta_turn_data.txt"
   ]
  },
  {
   "cell_type": "code",
   "execution_count": 20,
   "metadata": {
    "collapsed": false
   },
   "outputs": [
    {
     "name": "stdout",
     "output_type": "stream",
     "text": [
      "['A002', 'R051', '02-00-00', 'LEXINGTON AVE', 'NQR456', 'BMT', '03/28/2015', '00:00:00', 'REGULAR', '0005065968', '0001716046                                     ']\n",
      "['A002', 'R051', '02-00-00', 'LEXINGTON AVE', 'NQR456', 'BMT', '03/28/2015', '04:00:00', 'REGULAR', '0005066006', '0001716049                                     ']\n",
      "['A002', 'R051', '02-00-00', 'LEXINGTON AVE', 'NQR456', 'BMT', '03/28/2015', '08:00:00', 'REGULAR', '0005066018', '0001716072                                     ']\n",
      "['A002', 'R051', '02-00-00', 'LEXINGTON AVE', 'NQR456', 'BMT', '03/28/2015', '12:00:00', 'REGULAR', '0005066153', '0001716183                                     ']\n"
     ]
    }
   ],
   "source": [
    "line_num = 3\n",
    "with open(\"mta_turn_data.txt\", \"r\") as mtav:\n",
    "    reader = csv.reader(mtav)\n",
    "    # Skip header line\n",
    "    reader.next()\n",
    "    for index,row in enumerate(reader):\n",
    "        print row\n",
    "        if index == line_num:\n",
    "            break"
   ]
  },
  {
   "cell_type": "code",
   "execution_count": 21,
   "metadata": {
    "collapsed": false
   },
   "outputs": [
    {
     "name": "stdout",
     "output_type": "stream",
     "text": [
      "I am processing row 0\n",
      "I am processing row 1\n",
      "I am processing row 2\n"
     ]
    },
    {
     "name": "stderr",
     "output_type": "stream",
     "text": [
      "Cant divide row 2 by numer, you goddamned FOOL!!\n"
     ]
    }
   ],
   "source": [
    "import sys\n",
    "with open(\"mta_turn_data.txt\",\"r\") as mtav:\n",
    "    reader=csv.reader(mtav)\n",
    "    three_rows = open(\"three_rows.txt\",\"w\")\n",
    "    writer=csv.writer(three_rows)\n",
    "    for num, row in enumerate(reader):\n",
    "        try:\n",
    "            if num == 3:\n",
    "                break\n",
    "            print \"I am processing row %i\" % num\n",
    "            # Some other fancy processing goes here\n",
    "            writer.writerow(row)\n",
    "            if num == 2:\n",
    "                mval=row/2\n",
    "        except:\n",
    "            print >> sys.stderr, \"Cant divide row %i by numer, you goddamned FOOL!!\" % num\n",
    "\n",
    "three_rows.close()"
   ]
  },
  {
   "cell_type": "code",
   "execution_count": 22,
   "metadata": {
    "collapsed": false
   },
   "outputs": [
    {
     "name": "stdout",
     "output_type": "stream",
     "text": [
      "C/A,UNIT,SCP,STATION,LINENAME,DIVISION,DATE,TIME,DESC,ENTRIES,EXITS                                                               \r",
      "\r\n",
      "A002,R051,02-00-00,LEXINGTON AVE,NQR456,BMT,03/28/2015,00:00:00,REGULAR,0005065968,0001716046                                     \r",
      "\r\n",
      "A002,R051,02-00-00,LEXINGTON AVE,NQR456,BMT,03/28/2015,04:00:00,REGULAR,0005066006,0001716049                                     \r",
      "\r\n"
     ]
    }
   ],
   "source": [
    "!cat three_rows.txt"
   ]
  },
  {
   "cell_type": "code",
   "execution_count": null,
   "metadata": {
    "collapsed": true
   },
   "outputs": [],
   "source": []
  }
 ],
 "metadata": {
  "kernelspec": {
   "display_name": "Python 2",
   "language": "python",
   "name": "python2"
  },
  "language_info": {
   "codemirror_mode": {
    "name": "ipython",
    "version": 2
   },
   "file_extension": ".py",
   "mimetype": "text/x-python",
   "name": "python",
   "nbconvert_exporter": "python",
   "pygments_lexer": "ipython2",
   "version": "2.7.9"
  }
 },
 "nbformat": 4,
 "nbformat_minor": 0
}
