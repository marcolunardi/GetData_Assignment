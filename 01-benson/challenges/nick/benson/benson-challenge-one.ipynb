{
 "cells": [
  {
   "cell_type": "code",
   "execution_count": 1,
   "metadata": {
    "collapsed": false
   },
   "outputs": [
    {
     "name": "stdout",
     "output_type": "stream",
     "text": [
      "--2015-04-07 11:47:17--  http://web.mta.info/developers/data/nyct/turnstile/turnstile_150404.txt\n",
      "Resolving web.mta.info... 63.88.100.184, 63.88.100.202\n",
      "Connecting to web.mta.info|63.88.100.184|:80... connected.\n",
      "HTTP request sent, awaiting response... 200 OK\n",
      "Length: unspecified [text/plain]\n",
      "Saving to: 'turnstile_150404.txt'\n",
      "\n",
      "turnstile_150404.tx     [    <=>               ]  23.91M  3.56MB/s   in 6.9s   \n",
      "\n",
      "2015-04-07 11:47:25 (3.46 MB/s) - 'turnstile_150404.txt' saved [25071566]\n",
      "\n"
     ]
    }
   ],
   "source": [
    "!wget http://web.mta.info/developers/data/nyct/turnstile/turnstile_150404.txt"
   ]
  },
  {
   "cell_type": "code",
   "execution_count": 2,
   "metadata": {
    "collapsed": false
   },
   "outputs": [
    {
     "name": "stdout",
     "output_type": "stream",
     "text": [
      "--2015-04-07 11:47:57--  http://web.mta.info/developers/data/nyct/turnstile/turnstile_150321.txt\n",
      "Resolving web.mta.info... 63.88.100.170, 63.88.100.184\n",
      "Connecting to web.mta.info|63.88.100.170|:80... connected.\n",
      "HTTP request sent, awaiting response... 200 OK\n",
      "Length: unspecified [text/plain]\n",
      "Saving to: 'turnstile_150321.txt'\n",
      "\n",
      "turnstile_150321.tx     [   <=>                ]  23.92M  2.04MB/s   in 9.1s   \n",
      "\n",
      "2015-04-07 11:48:07 (2.62 MB/s) - 'turnstile_150321.txt' saved [25079688]\n",
      "\n"
     ]
    }
   ],
   "source": [
    "!wget http://web.mta.info/developers/data/nyct/turnstile/turnstile_150321.txt"
   ]
  },
  {
   "cell_type": "code",
   "execution_count": null,
   "metadata": {
    "collapsed": false
   },
   "outputs": [],
   "source": [
    "import csv\n",
    "with open(\"turnstile_150404.txt\", \"r\") as turn_data:\n",
    "    reader=csv.reader(turn_data)\n",
    "    my_hash={}\n",
    "    for row in reader:\n",
    "        key = tuple(row[0:4])\n",
    "        val = row[4:-1]\n",
    "        # check if the key, val exists\n",
    "        if key in my_hash:\n",
    "            my_hash[key].append( val )\n",
    "        else:\n",
    "            my_hash[key] = [ val ] \n",
    "print my_hash"
   ]
  },
  {
   "cell_type": "code",
   "execution_count": 14,
   "metadata": {
    "collapsed": false
   },
   "outputs": [],
   "source": [
    "with open(\"formatted.csv\", \"w\") as formed:\n",
    "    reader = csv.reader(formed)\n"
   ]
  },
  {
   "cell_type": "code",
   "execution_count": null,
   "metadata": {
    "collapsed": true
   },
   "outputs": [],
   "source": []
  }
 ],
 "metadata": {
  "kernelspec": {
   "display_name": "Python 2",
   "language": "python",
   "name": "python2"
  },
  "language_info": {
   "codemirror_mode": {
    "name": "ipython",
    "version": 2
   },
   "file_extension": ".py",
   "mimetype": "text/x-python",
   "name": "python",
   "nbconvert_exporter": "python",
   "pygments_lexer": "ipython2",
   "version": "2.7.9"
  }
 },
 "nbformat": 4,
 "nbformat_minor": 0
}
