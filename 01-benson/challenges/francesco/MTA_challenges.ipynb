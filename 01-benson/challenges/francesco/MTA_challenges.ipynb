{
 "cells": [
  {
   "cell_type": "markdown",
   "metadata": {},
   "source": [
    "##Challenge 1"
   ]
  },
  {
   "cell_type": "code",
   "execution_count": 22,
   "metadata": {
    "collapsed": false
   },
   "outputs": [
    {
     "name": "stdout",
     "output_type": "stream",
     "text": [
      "('A002', 'R051', '02-00-00', 'LEXINGTON AVE')\n"
     ]
    }
   ],
   "source": [
    "import csv\n",
    "from collections import OrderedDict\n",
    "import random\n",
    "\n",
    "def open_file(filename):\n",
    "    with open(filename, \"r\") as turnstile_data:\n",
    "        reader = csv.reader(turnstile_data)\n",
    "        #gets rid of header\n",
    "        reader.next()\n",
    "        keys = []\n",
    "        values = []\n",
    "        for row in reader:\n",
    "            if tuple(row[:4]) not in keys:\n",
    "                keys.append(tuple(row[:4]))\n",
    "                values.append([row[4:]])\n",
    "            else:\n",
    "                values[keys.index(tuple(row[:4]))].append(row[4:])\n",
    "    return keys, values\n",
    "\n",
    "keys, values = open_file(\"turnstile_150314.txt\")\n",
    "\n",
    "#answer : d = dict(zip(keys, values))\n",
    "print keys[0]"
   ]
  },
  {
   "cell_type": "markdown",
   "metadata": {},
   "source": [
    "##Challenge 2"
   ]
  },
  {
   "cell_type": "code",
   "execution_count": 23,
   "metadata": {
    "collapsed": false
   },
   "outputs": [
    {
     "name": "stdout",
     "output_type": "stream",
     "text": [
      "[[datetime.datetime(2015, 3, 14, 0, 0), '5044592'], [datetime.datetime(2015, 3, 14, 0, 0), '5044645'], [datetime.datetime(2015, 3, 14, 0, 0), '5044659'], [datetime.datetime(2015, 3, 14, 0, 0), '5044760'], [datetime.datetime(2015, 3, 14, 0, 0), '5045000'], [datetime.datetime(2015, 3, 14, 0, 0), '5045378'], [datetime.datetime(2015, 3, 15, 0, 0), '5045551'], [datetime.datetime(2015, 3, 15, 0, 0), '5045585'], [datetime.datetime(2015, 3, 15, 0, 0), '5045595'], [datetime.datetime(2015, 3, 15, 0, 0), '5045681'], [datetime.datetime(2015, 3, 15, 0, 0), '5045866'], [datetime.datetime(2015, 3, 15, 0, 0), '5046149'], [datetime.datetime(2015, 3, 16, 0, 0), '5046246'], [datetime.datetime(2015, 3, 16, 0, 0), '5046260'], [datetime.datetime(2015, 3, 16, 0, 0), '5046298'], [datetime.datetime(2015, 3, 16, 0, 0), '5046468'], [datetime.datetime(2015, 3, 16, 0, 0), '5046817'], [datetime.datetime(2015, 3, 16, 0, 0), '5047759'], [datetime.datetime(2015, 3, 17, 0, 0), '5047969'], [datetime.datetime(2015, 3, 17, 0, 0), '5047983'], [datetime.datetime(2015, 3, 17, 0, 0), '5048018'], [datetime.datetime(2015, 3, 17, 0, 0), '5048026'], [datetime.datetime(2015, 3, 17, 0, 0), '5048191'], [datetime.datetime(2015, 3, 17, 0, 0), '5048513'], [datetime.datetime(2015, 3, 17, 0, 0), '5049492'], [datetime.datetime(2015, 3, 18, 0, 0), '5049746'], [datetime.datetime(2015, 3, 18, 0, 0), '5049762'], [datetime.datetime(2015, 3, 18, 0, 0), '5049806'], [datetime.datetime(2015, 3, 18, 0, 0), '5049989'], [datetime.datetime(2015, 3, 18, 0, 0), '5050330'], [datetime.datetime(2015, 3, 18, 0, 0), '5051275'], [datetime.datetime(2015, 3, 19, 0, 0), '5051500'], [datetime.datetime(2015, 3, 19, 0, 0), '5051517'], [datetime.datetime(2015, 3, 19, 0, 0), '5051572'], [datetime.datetime(2015, 3, 19, 0, 0), '5051746'], [datetime.datetime(2015, 3, 19, 0, 0), '5052108'], [datetime.datetime(2015, 3, 19, 0, 0), '5053062'], [datetime.datetime(2015, 3, 20, 0, 0), '5053328'], [datetime.datetime(2015, 3, 20, 0, 0), '5053344'], [datetime.datetime(2015, 3, 20, 0, 0), '5053392'], [datetime.datetime(2015, 3, 20, 0, 0), '5053552'], [datetime.datetime(2015, 3, 20, 0, 0), '5053903'], [datetime.datetime(2015, 3, 20, 0, 0), '5054788']]\n"
     ]
    }
   ],
   "source": [
    "import dateutil.parser\n",
    "\n",
    "def trim_fat(keys, values):\n",
    "    '''\n",
    "    given two lists, keys and values, cleans up unwated fields in the data\n",
    "    returns the two lists cleaned up\n",
    "    '''\n",
    "    for value in values:\n",
    "        for i in xrange(len(value)):\n",
    "            try:\n",
    "                date = dateutil.parser.parse(value[i][2])\n",
    "                entries = value[i][5].lstrip('0')\n",
    "            except:\n",
    "                date = 'N/A'\n",
    "                entries = 'N/A'\n",
    "            value[i] = [date, entries]\n",
    "    return keys, values\n",
    "\n",
    "keys, values = trim_fat(keys, values)\n",
    "print values[0]\n",
    "#answer : d = dict(zip(keys, values))"
   ]
  },
  {
   "cell_type": "markdown",
   "metadata": {},
   "source": [
    "##Challenge 3"
   ]
  },
  {
   "cell_type": "code",
   "execution_count": 24,
   "metadata": {
    "collapsed": false
   },
   "outputs": [
    {
     "name": "stdout",
     "output_type": "stream",
     "text": [
      "[[datetime.datetime(2015, 3, 14, 0, 0), 656], [datetime.datetime(2015, 3, 15, 0, 0), 505], [datetime.datetime(2015, 3, 16, 0, 0), 1262], [datetime.datetime(2015, 3, 17, 0, 0), 1220], [datetime.datetime(2015, 3, 18, 0, 0), 1256], [datetime.datetime(2015, 3, 19, 0, 0), 1267], [datetime.datetime(2015, 3, 20, 0, 0), 1279]]\n"
     ]
    }
   ],
   "source": [
    "def combine_same_days(values, sign):\n",
    "    '''\n",
    "    given a list of values and a sign which must be either '+' or '-'\n",
    "    it returns an updated list of values where entries are combined for same days\n",
    "    if sign = '+' it adds up the numbers (good for combining different turnstiles)\n",
    "    if sign = '-' it takes the difference between max(entry) and min(entry) good for combining from same turnstile\n",
    "    '''\n",
    "    new_vals = []\n",
    "    for i,value in enumerate(values):\n",
    "        d = {}\n",
    "        for val in value:\n",
    "            if val[0] not in d.keys():\n",
    "                d[val[0]] = [val[1]]\n",
    "            else:\n",
    "                d[val[0]].append(val[1])\n",
    "        temp = []\n",
    "        d = OrderedDict(sorted(d.items(), key=lambda t: t[0]))\n",
    "        for k, v in d.items():\n",
    "            if v[0] == '': #gets rid of blank space problems from data\n",
    "                continue\n",
    "            else:\n",
    "                if sign == '+':\n",
    "                    entries = sum(v)\n",
    "                elif sign == '-':\n",
    "                    entries = int(max(v)) - int(min(v))\n",
    "                else:\n",
    "                    print \"the sign needs to be either '-' or '+'\"\n",
    "                temp.append([k, entries])\n",
    "        values[i] = temp\n",
    "    return values\n",
    "\n",
    "values = combine_same_days(values, '-')\n",
    "print values[1]\n",
    "\n",
    "#answer : d = dict(zip(keys, values))"
   ]
  },
  {
   "cell_type": "markdown",
   "metadata": {},
   "source": [
    "##Challenge 4"
   ]
  },
  {
   "cell_type": "code",
   "execution_count": 25,
   "metadata": {
    "collapsed": false
   },
   "outputs": [
    {
     "name": "stdout",
     "output_type": "stream",
     "text": [
      "[datetime.datetime(2015, 3, 14, 0, 0), datetime.datetime(2015, 3, 15, 0, 0), datetime.datetime(2015, 3, 16, 0, 0), datetime.datetime(2015, 3, 17, 0, 0), datetime.datetime(2015, 3, 18, 0, 0), datetime.datetime(2015, 3, 19, 0, 0), datetime.datetime(2015, 3, 20, 0, 0)]\n",
      "[1263, 1372, 2333, 2570, 2597, 2628, 2544]\n"
     ]
    },
    {
     "data": {
      "text/plain": [
       "(0, 3300)"
      ]
     },
     "execution_count": 25,
     "metadata": {},
     "output_type": "execute_result"
    },
    {
     "data": {
      "image/png": "[encoded data removed]",
      "text/plain": [
       "<matplotlib.figure.Figure at 0x1094be2d0>"
      ]
     },
     "metadata": {},
     "output_type": "display_data"
    }
   ],
   "source": [
    "%matplotlib inline\n",
    "\n",
    "import matplotlib.pyplot as plt\n",
    "\n",
    "rand_station = random.randint(0, len(values) - 1)\n",
    "\n",
    "one_turnstile = values[rand_station]\n",
    "dates = []\n",
    "counts = []\n",
    "for i in xrange(len(one_turnstile)):\n",
    "    dates.append(one_turnstile[i][0])\n",
    "    counts.append(one_turnstile[i][1])\n",
    "\n",
    "print dates\n",
    "print counts\n",
    "plt.figure(figsize=(10,3))\n",
    "plt.plot(dates,counts)\n",
    "plt.ylim([0, 3300])"
   ]
  },
  {
   "cell_type": "markdown",
   "metadata": {},
   "source": [
    "##Challenge 5"
   ]
  },
  {
   "cell_type": "code",
   "execution_count": 26,
   "metadata": {
    "collapsed": false
   },
   "outputs": [
    {
     "name": "stdout",
     "output_type": "stream",
     "text": [
      "('A006', 'R079', '00-00-00', '5 AVE-59 ST')\n",
      "-------------------\n",
      "[[datetime.datetime(2015, 3, 14, 0, 0), 912], [datetime.datetime(2015, 3, 15, 0, 0), 855], [datetime.datetime(2015, 3, 16, 0, 0), 1976], [datetime.datetime(2015, 3, 17, 0, 0), 1904], [datetime.datetime(2015, 3, 18, 0, 0), 1818], [datetime.datetime(2015, 3, 19, 0, 0), 1714], [datetime.datetime(2015, 3, 20, 0, 0), 1793], [datetime.datetime(2015, 3, 14, 0, 0), 924], [datetime.datetime(2015, 3, 15, 0, 0), 799], [datetime.datetime(2015, 3, 16, 0, 0), 1273], [datetime.datetime(2015, 3, 17, 0, 0), 1877], [datetime.datetime(2015, 3, 18, 0, 0), 1829], [datetime.datetime(2015, 3, 19, 0, 0), 1917], [datetime.datetime(2015, 3, 20, 0, 0), 1767], [datetime.datetime(2015, 3, 14, 0, 0), 624], [datetime.datetime(2015, 3, 15, 0, 0), 631], [datetime.datetime(2015, 3, 16, 0, 0), 1634], [datetime.datetime(2015, 3, 17, 0, 0), 1607], [datetime.datetime(2015, 3, 18, 0, 0), 1503], [datetime.datetime(2015, 3, 19, 0, 0), 1517], [datetime.datetime(2015, 3, 20, 0, 0), 1465], [datetime.datetime(2015, 3, 14, 0, 0), 516], [datetime.datetime(2015, 3, 15, 0, 0), 505], [datetime.datetime(2015, 3, 16, 0, 0), 1156], [datetime.datetime(2015, 3, 17, 0, 0), 1322], [datetime.datetime(2015, 3, 18, 0, 0), 1210], [datetime.datetime(2015, 3, 19, 0, 0), 1163], [datetime.datetime(2015, 3, 20, 0, 0), 1138], [datetime.datetime(2015, 3, 14, 0, 0), 446], [datetime.datetime(2015, 3, 15, 0, 0), 441], [datetime.datetime(2015, 3, 16, 0, 0), 1135], [datetime.datetime(2015, 3, 17, 0, 0), 1388], [datetime.datetime(2015, 3, 18, 0, 0), 1218], [datetime.datetime(2015, 3, 19, 0, 0), 1176], [datetime.datetime(2015, 3, 20, 0, 0), 1098], [datetime.datetime(2015, 3, 14, 0, 0), 566], [datetime.datetime(2015, 3, 15, 0, 0), 517], [datetime.datetime(2015, 3, 16, 0, 0), 1593], [datetime.datetime(2015, 3, 17, 0, 0), 1830], [datetime.datetime(2015, 3, 18, 0, 0), 1673], [datetime.datetime(2015, 3, 19, 0, 0), 1670], [datetime.datetime(2015, 3, 20, 0, 0), 1456], [datetime.datetime(2015, 3, 14, 0, 0), 772], [datetime.datetime(2015, 3, 15, 0, 0), 683], [datetime.datetime(2015, 3, 16, 0, 0), 2037], [datetime.datetime(2015, 3, 17, 0, 0), 2250], [datetime.datetime(2015, 3, 18, 0, 0), 2097], [datetime.datetime(2015, 3, 19, 0, 0), 2098], [datetime.datetime(2015, 3, 20, 0, 0), 1955], [datetime.datetime(2015, 3, 14, 0, 0), 981], [datetime.datetime(2015, 3, 15, 0, 0), 885], [datetime.datetime(2015, 3, 16, 0, 0), 2608], [datetime.datetime(2015, 3, 17, 0, 0), 2822], [datetime.datetime(2015, 3, 18, 0, 0), 2707], [datetime.datetime(2015, 3, 19, 0, 0), 2574], [datetime.datetime(2015, 3, 20, 0, 0), 2454], [datetime.datetime(2015, 3, 14, 0, 0), 1], [datetime.datetime(2015, 3, 15, 0, 0), 3], [datetime.datetime(2015, 3, 16, 0, 0), 0], [datetime.datetime(2015, 3, 17, 0, 0), 0], [datetime.datetime(2015, 3, 18, 0, 0), 0], [datetime.datetime(2015, 3, 19, 0, 0), 1], [datetime.datetime(2015, 3, 20, 0, 0), 0], [datetime.datetime(2015, 3, 14, 0, 0), 0], [datetime.datetime(2015, 3, 15, 0, 0), 0], [datetime.datetime(2015, 3, 16, 0, 0), 0], [datetime.datetime(2015, 3, 17, 0, 0), 0], [datetime.datetime(2015, 3, 18, 0, 0), 0], [datetime.datetime(2015, 3, 19, 0, 0), 0], [datetime.datetime(2015, 3, 20, 0, 0), 0], [datetime.datetime(2015, 3, 14, 0, 0), 323], [datetime.datetime(2015, 3, 15, 0, 0), 379], [datetime.datetime(2015, 3, 16, 0, 0), 568], [datetime.datetime(2015, 3, 17, 0, 0), 660], [datetime.datetime(2015, 3, 18, 0, 0), 488], [datetime.datetime(2015, 3, 19, 0, 0), 621], [datetime.datetime(2015, 3, 20, 0, 0), 441], [datetime.datetime(2015, 3, 14, 0, 0), 716], [datetime.datetime(2015, 3, 15, 0, 0), 629], [datetime.datetime(2015, 3, 16, 0, 0), 1246], [datetime.datetime(2015, 3, 17, 0, 0), 1462], [datetime.datetime(2015, 3, 18, 0, 0), 1323], [datetime.datetime(2015, 3, 19, 0, 0), 1382], [datetime.datetime(2015, 3, 20, 0, 0), 1339], [datetime.datetime(2015, 3, 14, 0, 0), 618], [datetime.datetime(2015, 3, 15, 0, 0), 650], [datetime.datetime(2015, 3, 16, 0, 0), 901], [datetime.datetime(2015, 3, 17, 0, 0), 1129], [datetime.datetime(2015, 3, 18, 0, 0), 822], [datetime.datetime(2015, 3, 19, 0, 0), 870], [datetime.datetime(2015, 3, 20, 0, 0), 854], [datetime.datetime(2015, 3, 14, 0, 0), 1022], [datetime.datetime(2015, 3, 15, 0, 0), 1083], [datetime.datetime(2015, 3, 16, 0, 0), 1456], [datetime.datetime(2015, 3, 17, 0, 0), 1806], [datetime.datetime(2015, 3, 18, 0, 0), 1496], [datetime.datetime(2015, 3, 19, 0, 0), 1554], [datetime.datetime(2015, 3, 20, 0, 0), 1664]]\n"
     ]
    }
   ],
   "source": [
    "def combine_stations(keys, values):\n",
    "    '''\n",
    "    takes in two lists of keys and values\n",
    "    different data for same station into one\n",
    "    returns updates keys and values\n",
    "    '''\n",
    "    i = 0\n",
    "    while i < len(values) - 2:\n",
    "        station_one = keys[i][3]\n",
    "        station_two = keys[i+1][3]\n",
    "        if station_one == station_two:\n",
    "            values[i] += values[i+1]\n",
    "            del keys[i+1]\n",
    "            del values [i+1]\n",
    "        else:\n",
    "            i += 1\n",
    "    return keys, values\n",
    "\n",
    "keys, values = combine_stations(keys, values)\n",
    "\n",
    "print keys[1]\n",
    "print '-------------------'\n",
    "print values[1]\n",
    "\n",
    "#answer : d = dict(zip(keys, values))"
   ]
  },
  {
   "cell_type": "markdown",
   "metadata": {},
   "source": [
    "##Challenge 6"
   ]
  },
  {
   "cell_type": "code",
   "execution_count": 27,
   "metadata": {
    "collapsed": false
   },
   "outputs": [
    {
     "name": "stdout",
     "output_type": "stream",
     "text": [
      "[[datetime.datetime(2015, 3, 14, 0, 0), 8421], [datetime.datetime(2015, 3, 15, 0, 0), 8060], [datetime.datetime(2015, 3, 16, 0, 0), 17583], [datetime.datetime(2015, 3, 17, 0, 0), 20057], [datetime.datetime(2015, 3, 18, 0, 0), 18184], [datetime.datetime(2015, 3, 19, 0, 0), 18257], [datetime.datetime(2015, 3, 20, 0, 0), 17424]]\n"
     ]
    }
   ],
   "source": [
    "values = combine_same_days(values, '+')\n",
    "print values[1]"
   ]
  },
  {
   "cell_type": "markdown",
   "metadata": {},
   "source": [
    "##Challenge 7"
   ]
  },
  {
   "cell_type": "code",
   "execution_count": 28,
   "metadata": {
    "collapsed": false
   },
   "outputs": [
    {
     "name": "stdout",
     "output_type": "stream",
     "text": [
      "[datetime.datetime(2015, 3, 14, 0, 0), datetime.datetime(2015, 3, 15, 0, 0), datetime.datetime(2015, 3, 16, 0, 0), datetime.datetime(2015, 3, 17, 0, 0), datetime.datetime(2015, 3, 18, 0, 0), datetime.datetime(2015, 3, 19, 0, 0), datetime.datetime(2015, 3, 20, 0, 0)]\n",
      "[14402, 12961, 24683, 26784, 26550, 26662, 24987]\n"
     ]
    },
    {
     "data": {
      "text/plain": [
       "(0, 30000)"
      ]
     },
     "execution_count": 28,
     "metadata": {},
     "output_type": "execute_result"
    },
    {
     "data": {
      "image/png": "[encoded data removed]",
      "text/plain": [
       "<matplotlib.figure.Figure at 0x10988a2d0>"
      ]
     },
     "metadata": {},
     "output_type": "display_data"
    }
   ],
   "source": [
    "rand_station = random.randint(0, len(values) - 1)\n",
    "\n",
    "one_station = values[rand_station]\n",
    "dates = []\n",
    "counts = []\n",
    "for i in xrange(len(one_station)):\n",
    "    dates.append(one_station[i][0])\n",
    "    counts.append(one_station[i][1])\n",
    "    \n",
    "print dates\n",
    "print counts\n",
    "\n",
    "plt.figure(figsize=(10,3))\n",
    "plt.plot(dates,counts)\n",
    "plt.ylim([0, 30000])"
   ]
  },
  {
   "cell_type": "markdown",
   "metadata": {
    "collapsed": true
   },
   "source": [
    "##Challenge 8"
   ]
  },
  {
   "cell_type": "code",
   "execution_count": 55,
   "metadata": {
    "collapsed": false
   },
   "outputs": [
    {
     "name": "stdout",
     "output_type": "stream",
     "text": [
      "[5, 6, 0, 1, 2, 3, 4]\n"
     ]
    },
    {
     "data": {
      "text/plain": [
       "(0, 30000)"
      ]
     },
     "execution_count": 55,
     "metadata": {},
     "output_type": "execute_result"
    },
    {
     "data": {
      "image/png": "[encoded data removed]",
      "text/plain": [
       "<matplotlib.figure.Figure at 0x109febfd0>"
      ]
     },
     "metadata": {},
     "output_type": "display_data"
    }
   ],
   "source": [
    "#getting data ready for different weeks\n",
    "keys_w1, values_w1 = open_file(\"small_1.txt\")\n",
    "keys_w1, values_w1 = trim_fat(keys_w1, values_w1)\n",
    "values_w1 = combine_same_days(values_w1, '-')\n",
    "keys_w1, values_w1 = combine_stations(keys_w1, values_w1)\n",
    "values_w1 = combine_same_days(values_w1, '+')\n",
    "\n",
    "keys_w2, values_w2 = open_file(\"small_2.txt\")\n",
    "keys_w2, values_w2 = trim_fat(keys_w2, values_w2)\n",
    "values_w2 = combine_same_days(values_w2, '-')\n",
    "keys_w2, values_w2 = combine_stations(keys_w2, values_w2)\n",
    "values_w2 = combine_same_days(values_w2, '+')\n",
    "\n",
    "keys_w3, values_w3 = open_file(\"small_3.txt\")\n",
    "keys_w3, values_w3 = trim_fat(keys_w3, values_w3)\n",
    "values_w3 = combine_same_days(values_w3, '-')\n",
    "keys_w3, values_w3 = combine_stations(keys_w3, values_w3)\n",
    "values_w3 = combine_same_days(values_w3, '+')\n",
    "\n",
    "keys_w4, values_w4 = open_file(\"small_4.txt\")\n",
    "keys_w4, values_w4 = trim_fat(keys_w4, values_w4)\n",
    "values_w4 = combine_same_days(values_w4, '-')\n",
    "keys_w4, values_w4 = combine_stations(keys_w4, values_w4)\n",
    "values_w4 = combine_same_days(values_w4, '+')\n",
    "\n",
    "\n",
    "\n",
    "def int_to_weekday_name(int):\n",
    "    d = {0:\"Monday\", 1:\"Tuesday\", 2:\"Wednesday\", 3:\"Thursday\",\n",
    "        4:\"Friday\", 5:\"Saturday\", 6:\"Sunday\"}\n",
    "    return d[int]\n",
    "\n",
    "def plot_by_week(values):\n",
    "    values = [[[date.weekday(), entries] for date, entries in value] for value in values]\n",
    "    return values\n",
    "\n",
    "plot_entries_w1 = [entries for _, entries in plot_by_week(values_w1)[0]]\n",
    "plot_entries_w2 = [entries for _, entries in plot_by_week(values_w2)[0]]\n",
    "plot_entries_w3 = [entries for _, entries in plot_by_week(values_w3)[0]]\n",
    "plot_entries_w4 = [entries for _, entries in plot_by_week(values_w4)[0]]\n",
    "plot_weekdays = [day for day, _ in plot_by_week(values_w1)[0]]\n",
    "\n",
    "#print plot_values_w1\n",
    "#print plot_values_w2\n",
    "print plot_weekdays\n",
    "\n",
    "LABELS = ['Thursday', 'Friday','Saturday', 'Sunday', 'Monday', 'Tuesday', 'Wednesday', ]\n",
    "\n",
    "plt.figure(figsize=(10,3))\n",
    "plt.plot(plot_entries_w1)\n",
    "plt.plot(plot_entries_w2)\n",
    "plt.plot(plot_entries_w3)\n",
    "plt.plot(plot_entries_w4)\n",
    "plt.xticks(plot_weekdays, LABELS)\n",
    "plt.ylim([0, 30000])"
   ]
  },
  {
   "cell_type": "markdown",
   "metadata": {},
   "source": [
    "##Challenge 9 and 10"
   ]
  },
  {
   "cell_type": "code",
   "execution_count": 56,
   "metadata": {
    "collapsed": false
   },
   "outputs": [
    {
     "data": {
      "text/plain": [
       "(0, 200000)"
      ]
     },
     "execution_count": 56,
     "metadata": {},
     "output_type": "execute_result"
    },
    {
     "data": {
      "image/png": "[encoded data removed]",
      "text/plain": [
       "<matplotlib.figure.Figure at 0x109fdc310>"
      ]
     },
     "metadata": {},
     "output_type": "display_data"
    }
   ],
   "source": [
    "def get_sum_of_station_entries(values):\n",
    "    total_values = [sum([entries for time, entries in value]) for value in values]\n",
    "    return total_values\n",
    "\n",
    "#this is for a small sample of stations that i used to run the code quickly. Can be change to big file\n",
    "values_w1 = get_sum_of_station_entries(values_w1)\n",
    "values_w2 = get_sum_of_station_entries(values_w2)\n",
    "values_w3 = get_sum_of_station_entries(values_w3)\n",
    "values_w4 = get_sum_of_station_entries(values_w4)\n",
    "\n",
    "plt.figure(figsize=(10,3))\n",
    "indices = range(len(values_w1))\n",
    "plt.bar(indices, values_w1)\n",
    "plt.bar(indices, values_w2)\n",
    "plt.bar(indices, values_w3)\n",
    "plt.bar(indices, values_w4)\n",
    "plt.ylim([0, 200000])"
   ]
  }
 ],
 "metadata": {
  "kernelspec": {
   "display_name": "Python 2",
   "language": "python",
   "name": "python2"
  },
  "language_info": {
   "codemirror_mode": {
    "name": "ipython",
    "version": 2
   },
   "file_extension": ".py",
   "mimetype": "text/x-python",
   "name": "python",
   "nbconvert_exporter": "python",
   "pygments_lexer": "ipython2",
   "version": "2.7.5"
  }
 },
 "nbformat": 4,
 "nbformat_minor": 0
}
