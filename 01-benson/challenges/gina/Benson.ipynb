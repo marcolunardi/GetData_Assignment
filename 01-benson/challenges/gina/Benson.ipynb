{
 "cells": [
  {
   "cell_type": "markdown",
   "metadata": {},
   "source": [
    "# MTA Data Challenges"
   ]
  },
  {
   "cell_type": "code",
   "execution_count": 79,
   "metadata": {
    "collapsed": true
   },
   "outputs": [],
   "source": [
    "from __future__ import division\n",
    "import csv\n",
    "from datetime import datetime\n",
    "from collections import Counter\n",
    "import matplotlib.pyplot as plt"
   ]
  },
  {
   "cell_type": "markdown",
   "metadata": {},
   "source": [
    "### Challenge 1"
   ]
  },
  {
   "cell_type": "code",
   "execution_count": null,
   "metadata": {
    "collapsed": true
   },
   "outputs": [],
   "source": [
    "# !curl -O http://web.mta.info/developers/data/nyct/turnstile/turnstile_150404.txt"
   ]
  },
  {
   "cell_type": "code",
   "execution_count": 16,
   "metadata": {
    "collapsed": false
   },
   "outputs": [],
   "source": [
    "with open('turnstile_150404.txt') as f:\n",
    "    reader = csv.reader(f)\n",
    "    rows = [[cell.strip() for cell in row] for row in reader] "
   ]
  },
  {
   "cell_type": "code",
   "execution_count": 17,
   "metadata": {
    "collapsed": false
   },
   "outputs": [],
   "source": [
    "assert rows.pop(0) == ['C/A', 'UNIT', 'SCP', 'STATION', 'LINENAME',\n",
    "                       'DIVISION', 'DATE', 'TIME', 'DESC', 'ENTRIES',\n",
    "                       'EXITS']"
   ]
  },
  {
   "cell_type": "code",
   "execution_count": 60,
   "metadata": {
    "collapsed": false
   },
   "outputs": [],
   "source": [
    "raw_readings = {}\n",
    "for row in rows:\n",
    "    raw_readings.setdefault(tuple(row[:4]), []).append(tuple(row[4:]))\n",
    "#print raw_readings"
   ]
  },
  {
   "cell_type": "markdown",
   "metadata": {},
   "source": [
    "`raw_readings` is a solution to Challenge 1."
   ]
  },
  {
   "cell_type": "markdown",
   "metadata": {},
   "source": [
    "### Challenge 2"
   ]
  },
  {
   "cell_type": "code",
   "execution_count": 19,
   "metadata": {
    "collapsed": false
   },
   "outputs": [],
   "source": [
    "datetime_cumulative = {turnstile: [(datetime.strptime(date + time,\n",
    "                                                      '%m/%d/%Y%X'),\n",
    "                                    int(in_cumulative))\n",
    "                                   for _, _, date, time,\n",
    "                                       _, in_cumulative, _ in rows]\n",
    "                       for turnstile, rows in raw_readings.items()}"
   ]
  },
  {
   "cell_type": "code",
   "execution_count": 20,
   "metadata": {
    "collapsed": true
   },
   "outputs": [],
   "source": [
    "for rows in datetime_cumulative.values():\n",
    "    assert rows == sorted(rows)"
   ]
  },
  {
   "cell_type": "code",
   "execution_count": 21,
   "metadata": {
    "collapsed": true
   },
   "outputs": [],
   "source": [
    "datetime_count_times = {turnstile: [[rows[i][0],\n",
    "                                     rows[i+1][1] - rows[i][1],\n",
    "                                     rows[i+1][0] - rows[i][0]]\n",
    "                                    for i in range(len(rows) - 1)]\n",
    "                        for turnstile, rows in datetime_cumulative.items()}"
   ]
  },
  {
   "cell_type": "code",
   "execution_count": 22,
   "metadata": {
    "collapsed": false
   },
   "outputs": [
    {
     "name": "stdout",
     "output_type": "stream",
     "text": [
      "[3132, 3502, 3854, 407303, 407345]\n"
     ]
    }
   ],
   "source": [
    "all_counts = [count for rows in datetime_count_times.values() for _, count, _ in rows]\n",
    "all_counts.sort()\n",
    "print all_counts[-5:]"
   ]
  },
  {
   "cell_type": "code",
   "execution_count": 40,
   "metadata": {
    "collapsed": false
   },
   "outputs": [],
   "source": [
    "#print all_counts[:1200]"
   ]
  },
  {
   "cell_type": "markdown",
   "metadata": {},
   "source": []
  },
  {
   "cell_type": "code",
   "execution_count": 24,
   "metadata": {
    "collapsed": false
   },
   "outputs": [
    {
     "name": "stdout",
     "output_type": "stream",
     "text": [
      "[(4.0, 173343), (4.2, 10545), (8.0, 192), (4.433333333333334, 155), (4.000277777777778, 33), (3.999722222222222, 33), (0.02222222222222222, 32), (0.02777777777777778, 20), (0.15277777777777776, 17), (2.7925, 17)]\n"
     ]
    }
   ],
   "source": [
    "all_times = [duration.seconds / 60 / 60\n",
    "             for rows in datetime_count_times.values()\n",
    "             for _, _, duration in rows]\n",
    "print Counter(all_times).most_common(10)"
   ]
  },
  {
   "cell_type": "code",
   "execution_count": 25,
   "metadata": {
    "collapsed": true
   },
   "outputs": [],
   "source": [
    "datetime_counts = {turnstile: [(time, count)\n",
    "                               for (time, count, _) in rows\n",
    "                               if 0 <= count <= 5000]\n",
    "                   for turnstile, rows in datetime_count_times.items()}"
   ]
  },
  {
   "cell_type": "markdown",
   "metadata": {},
   "source": [
    "`datetime_counts` is a solution to Challenge 2."
   ]
  },
  {
   "cell_type": "code",
   "execution_count": 26,
   "metadata": {
    "collapsed": false
   },
   "outputs": [
    {
     "name": "stdout",
     "output_type": "stream",
     "text": [
      "0.994133610238\n"
     ]
    }
   ],
   "source": [
    "all_good_counts = [count for rows in datetime_counts.values() for _, count in rows]\n",
    "print len(all_good_counts) / len(all_counts)"
   ]
  },
  {
   "cell_type": "code",
   "execution_count": 27,
   "metadata": {
    "collapsed": false
   },
   "outputs": [
    {
     "name": "stdout",
     "output_type": "stream",
     "text": [
      "[3045, 3052, 3132, 3502, 3854]\n"
     ]
    }
   ],
   "source": [
    "all_good_counts.sort()\n",
    "print all_good_counts[-5:]"
   ]
  },
  {
   "cell_type": "code",
   "execution_count": 28,
   "metadata": {
    "collapsed": false
   },
   "outputs": [
    {
     "name": "stdout",
     "output_type": "stream",
     "text": [
      "[0, 0, 0, 0, 0]\n"
     ]
    }
   ],
   "source": [
    "print all_good_counts[:5]"
   ]
  },
  {
   "cell_type": "markdown",
   "metadata": {},
   "source": [
    "### Challenge 3"
   ]
  },
  {
   "cell_type": "code",
   "execution_count": 36,
   "metadata": {
    "collapsed": false
   },
   "outputs": [
    {
     "name": "stdout",
     "output_type": "stream",
     "text": [
      "[(datetime.date(2015, 3, 28), 1024), (datetime.date(2015, 3, 29), 869), (datetime.date(2015, 3, 30), 2410), (datetime.date(2015, 3, 31), 2427), (datetime.date(2015, 4, 1), 2419), (datetime.date(2015, 4, 2), 2582), (datetime.date(2015, 4, 3), 1809)]\n"
     ]
    },
    {
     "data": {
      "text/plain": [
       "list"
      ]
     },
     "execution_count": 36,
     "metadata": {},
     "output_type": "execute_result"
    }
   ],
   "source": [
    "day_counts = {}\n",
    "for turnstile, rows in datetime_counts.items():\n",
    "    by_day = {}\n",
    "    for time, count in rows:\n",
    "        day = time.date()\n",
    "        by_day[day] = by_day.get(day, 0) + count\n",
    "    day_counts[turnstile] = sorted(by_day.items())\n",
    "    \n",
    "\n",
    "print day_counts.values()[1]\n",
    "type(day_counts.values()[1])"
   ]
  },
  {
   "cell_type": "code",
   "execution_count": 39,
   "metadata": {
    "collapsed": false
   },
   "outputs": [],
   "source": [
    "#Challege 5\n",
    "station_counts = {}\n",
    "\n",
    "for daycounts_key, daycounts_value in day_counts.items():\n",
    "    daycounts_key_list = list(daycounts_key)\n",
    "    daycounts_key_list.remove(daycounts_key_list[2])\n",
    "    station_key = tuple(daycounts_key_list)\n",
    "    station_counts.setdefault(station_key, []).extend(daycounts_value)\n",
    "    #print station_key\n",
    "# for daycounts_key, daycounts_value in day_counts.items():\n",
    "#     station_key = daycounts_key[0],daycounts_key[1],daycounts_key[3]\n",
    "#     print station_key\n",
    "\n",
    "    "
   ]
  },
  {
   "cell_type": "code",
   "execution_count": 51,
   "metadata": {
    "collapsed": false
   },
   "outputs": [
    {
     "name": "stdout",
     "output_type": "stream",
     "text": [
      "(('N325A', 'R218', 'ELMHURST AVE'), [(datetime.date(2015, 3, 28), 9685), (datetime.date(2015, 3, 29), 8384), (datetime.date(2015, 3, 30), 13796), (datetime.date(2015, 3, 31), 13979), (datetime.date(2015, 4, 1), 14182), (datetime.date(2015, 4, 2), 14296), (datetime.date(2015, 4, 3), 11503)])\n"
     ]
    }
   ],
   "source": [
    "#challege 5\n",
    "merge_date_counts = {}\n",
    "for station_counts_key, station_counts_value in station_counts.items():\n",
    "    merge_day = {}\n",
    "    for merge_time, merge_count in station_counts_value:\n",
    "        new_date = merge_time\n",
    "        merge_day[new_date] = merge_day.get(new_date, 0) + merge_count\n",
    "    merge_date_counts[station_counts_key] = sorted(merge_day.items())\n",
    "print merge_date_counts.items()[0]"
   ]
  },
  {
   "cell_type": "code",
   "execution_count": 53,
   "metadata": {
    "collapsed": false
   },
   "outputs": [
    {
     "name": "stdout",
     "output_type": "stream",
     "text": [
      "(('N325A', 'R218', 'ELMHURST AVE'), 85825)\n"
     ]
    }
   ],
   "source": [
    "station_weekly_counts = {}\n",
    "\n",
    "for mdc_key, mdc_value in merge_date_counts.items():\n",
    "    for mdc_time, mdc_counts in mdc_value:\n",
    "        station_weekly_counts[mdc_key] = station_weekly_counts.get(mdc_key,0) + mdc_counts\n",
    "print station_weekly_counts.items()[0]"
   ]
  },
  {
   "cell_type": "code",
   "execution_count": 78,
   "metadata": {
    "collapsed": false
   },
   "outputs": [
    {
     "name": "stdout",
     "output_type": "stream",
     "text": [
      "[('59 ST-COLUMBUS', 454134), ('125 ST', 484752), ('96 ST', 485493), ('42 ST-PA BUS TE', 576786), ('42 ST-TIMES SQ', 606133), ('14 ST-UNION SQ', 678753), ('86 ST', 697851), ('34 ST-HERALD SQ', 737871), ('42 ST-GRD CNTRL', 882054), ('34 ST-PENN STA', 1057842)]\n"
     ]
    },
    {
     "data": {
      "text/plain": [
       "list"
      ]
     },
     "execution_count": 78,
     "metadata": {},
     "output_type": "execute_result"
    }
   ],
   "source": [
    "#challenge 6\n",
    "entire_station_data = {}\n",
    "for station_unit_key, station_unit_value in station_weekly_counts.items():\n",
    "    esd_key = (station_unit_key[2])\n",
    "    entire_station_data[esd_key] = entire_station_data.get(esd_key,0) + station_unit_value\n",
    "\n",
    "all_stations_sorted = sorted(station_weekly_counts.items(), key = lambda x : x[1])\n",
    "#type(all_stations_sorted)\n",
    "# print all_stations_sorted[-10:]\n",
    "# print \" \"\n",
    "# print \" \"\n",
    "all_stations_sorted = sorted(entire_station_data.items(),key = lambda x : x[1])\n",
    "print all_stations_sorted[-10:]\n",
    "plot_stations = all_stations_sorted[-10:]\n",
    "type(all_stations_sorted)\n",
    "\n",
    "# for daycounts_key, daycounts_value in day_counts.items():\n",
    "#     station_key = daycounts_key[0],daycounts_key[1],daycounts_key[3]\n",
    "#     print station_key\n"
   ]
  },
  {
   "cell_type": "code",
   "execution_count": 138,
   "metadata": {
    "collapsed": false
   },
   "outputs": [
    {
     "name": "stdout",
     "output_type": "stream",
     "text": [
      "[]\n",
      "[454134, 484752, 485493, 576786, 606133, 678753, 697851, 737871, 882054, 1057842]\n"
     ]
    }
   ],
   "source": [
    "plot_top_station = []\n",
    "labels_top_station = plot_top_station\n",
    "print plot_top_station\n",
    "print plot_top_value\n",
    "plot_top_value = []\n",
    "plot_x = range(0,10)\n",
    "\n",
    "for i in range(0,len(plot_stations)):\n",
    "    \n",
    "    plot_top_station.append(plot_stations[i][0])\n",
    "    plot_top_value.append(plot_stations[i][1])\n",
    "    \n",
    "\n",
    "plt.bar(plot_x, plot_top_value)\n",
    "plt.xticks(plot_x,labels_top_station,rotation=45)\n",
    "plt.title(\"Top Ten Busiest Subway Station in NYC\")\n",
    "plt.xlabel(\"Station\")\n",
    "plt.ylabel(\"Turnstile Entrances\")\n",
    "plt.show()\n",
    "\n"
   ]
  },
  {
   "cell_type": "code",
   "execution_count": null,
   "metadata": {
    "collapsed": true
   },
   "outputs": [],
   "source": []
  },
  {
   "cell_type": "markdown",
   "metadata": {},
   "source": [
    "`day_counts` is a solution to Challenge 3."
   ]
  }
 ],
 "metadata": {
  "kernelspec": {
   "display_name": "Python 2",
   "language": "python",
   "name": "python2"
  },
  "language_info": {
   "codemirror_mode": {
    "name": "ipython",
    "version": 2
   },
   "file_extension": ".py",
   "mimetype": "text/x-python",
   "name": "python",
   "nbconvert_exporter": "python",
   "pygments_lexer": "ipython2",
   "version": "2.7.9"
  }
 },
 "nbformat": 4,
 "nbformat_minor": 0
}
