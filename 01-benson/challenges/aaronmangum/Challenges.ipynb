{
 "cells": [
  {
   "cell_type": "markdown",
   "metadata": {},
   "source": [
    "###Challenge 1"
   ]
  },
  {
   "cell_type": "code",
   "execution_count": 282,
   "metadata": {
    "collapsed": false
   },
   "outputs": [],
   "source": [
    "import datetime\n",
    "import dateutil.parser\n",
    "\n",
    "def turnstile_dictt(filename=\"turnstile_150404.txt\"):\n",
    "    import csv\n",
    "    turnstile_dict = {}\n",
    "    with open(filename, \"r\") as creepy_data:\n",
    "        reader = csv.reader(creepy_data)\n",
    "        reader.next()\n",
    "        for item in reader:\n",
    "            key = tuple([i for index, i in enumerate(item) if index < 4])\n",
    "            value = [i for index, i in enumerate(item) if index > 3]\n",
    "            if key in turnstile_dict:\n",
    "                turnstile_dict[key] += [value]\n",
    "            else:\n",
    "                turnstile_dict[key] = [value]\n",
    "    return turnstile_dict"
   ]
  },
  {
   "cell_type": "markdown",
   "metadata": {
    "collapsed": true
   },
   "source": [
    "###Challenge 2"
   ]
  },
  {
   "cell_type": "code",
   "execution_count": 326,
   "metadata": {
    "collapsed": false,
    "scrolled": false
   },
   "outputs": [],
   "source": [
    "def time_dictt(filename=\"turnstile_150404.txt\"):\n",
    "    time_dict = {}\n",
    "    for key, value in turnstile_dictt(filename).items():\n",
    "        for item in value:\n",
    "            new_value = [dateutil.parser.parse(item[2] + \" \" + item[3]), int(item[5])]\n",
    "            if key in time_dict:        \n",
    "                time_dict[key] += [new_value]\n",
    "            else:\n",
    "                time_dict[key] = [new_value]\n",
    "    return time_dict\n",
    "#print time_dictt(filename=\"sample_data.txt\") "
   ]
  },
  {
   "cell_type": "markdown",
   "metadata": {
    "collapsed": true
   },
   "source": [
    "###Challenge 3"
   ]
  },
  {
   "cell_type": "code",
   "execution_count": 428,
   "metadata": {
    "collapsed": false
   },
   "outputs": [
    {
     "data": {
      "text/plain": [
       "{('A002',\n",
       "  'R051',\n",
       "  '02-00-00',\n",
       "  'LEXINGTON AVE'): [[datetime.date(2015, 3, 28),\n",
       "   915], [datetime.date(2015, 4, 2), 1597], [datetime.date(2015, 4, 3),\n",
       "   1268], [datetime.date(2015, 4, 1), 1564], [datetime.date(2015, 3, 31),\n",
       "   1455], [datetime.date(2015, 3, 30), 1560], [datetime.date(2015, 3, 29),\n",
       "   681]],\n",
       " ('A002',\n",
       "  'R051',\n",
       "  '02-00-01',\n",
       "  'LEXINGTON AVE'): [[datetime.date(2015, 3, 28),\n",
       "   761], [datetime.date(2015, 4, 2), 1321], [datetime.date(2015, 4, 3),\n",
       "   836], [datetime.date(2015, 4, 1), 1357], [datetime.date(2015, 3, 31),\n",
       "   1284], [datetime.date(2015, 3, 30), 1238], [datetime.date(2015, 3, 29),\n",
       "   647]],\n",
       " ('A002',\n",
       "  'R051',\n",
       "  '02-03-00',\n",
       "  'LEXINGTON AVE'): [[datetime.date(2015, 3, 28),\n",
       "   373], [datetime.date(2015, 4, 2), 520], [datetime.date(2015, 4, 3),\n",
       "   450], [datetime.date(2015, 4, 1), 543], [datetime.date(2015, 3, 31),\n",
       "   578], [datetime.date(2015, 3, 30), 530], [datetime.date(2015, 3, 29), 227]],\n",
       " ('A002',\n",
       "  'R051',\n",
       "  '02-03-01',\n",
       "  'LEXINGTON AVE'): [[datetime.date(2015, 3, 28),\n",
       "   860], [datetime.date(2015, 4, 2), 1155], [datetime.date(2015, 4, 3),\n",
       "   949], [datetime.date(2015, 4, 1), 1154], [datetime.date(2015, 3, 31),\n",
       "   1120], [datetime.date(2015, 3, 30), 1147], [datetime.date(2015, 3, 29),\n",
       "   724]],\n",
       " ('A002',\n",
       "  'R051',\n",
       "  '02-03-02',\n",
       "  'LEXINGTON AVE'): [[datetime.date(2015, 3, 28),\n",
       "   778], [datetime.date(2015, 4, 2), 1199], [datetime.date(2015, 4, 3),\n",
       "   1076], [datetime.date(2015, 4, 1), 1270], [datetime.date(2015, 3, 31),\n",
       "   1182], [datetime.date(2015, 3, 30), 1273], [datetime.date(2015, 3, 29),\n",
       "   667]],\n",
       " ('A002',\n",
       "  'R051',\n",
       "  '02-03-03',\n",
       "  'LEXINGTON AVE'): [[datetime.date(2015, 3, 28),\n",
       "   748], [datetime.date(2015, 4, 2), 1311], [datetime.date(2015, 4, 3),\n",
       "   1010], [datetime.date(2015, 4, 1), 1320], [datetime.date(2015, 3, 31),\n",
       "   1283], [datetime.date(2015, 3, 30), 1274], [datetime.date(2015, 3, 29),\n",
       "   610]],\n",
       " ('A002',\n",
       "  'R051',\n",
       "  '02-03-04',\n",
       "  'LEXINGTON AVE'): [[datetime.date(2015, 3, 28),\n",
       "   931], [datetime.date(2015, 4, 2), 1695], [datetime.date(2015, 4, 3),\n",
       "   1295], [datetime.date(2015, 4, 1), 1667], [datetime.date(2015, 3, 31),\n",
       "   1697], [datetime.date(2015, 3, 30), 1612], [datetime.date(2015, 3, 29),\n",
       "   736]],\n",
       " ('A002',\n",
       "  'R051',\n",
       "  '02-03-05',\n",
       "  'LEXINGTON AVE'): [[datetime.date(2015, 3, 28),\n",
       "   1545], [datetime.date(2015, 4, 2), 2624], [datetime.date(2015, 4, 3),\n",
       "   2055], [datetime.date(2015, 4, 1), 2581], [datetime.date(2015, 3, 31),\n",
       "   2601], [datetime.date(2015, 3, 30), 2422], [datetime.date(2015, 3, 29),\n",
       "   1289]],\n",
       " ('A002',\n",
       "  'R051',\n",
       "  '02-03-06',\n",
       "  'LEXINGTON AVE'): [[datetime.date(2015, 3, 28),\n",
       "   1019], [datetime.date(2015, 4, 2), 2162], [datetime.date(2015, 4, 3),\n",
       "   1759], [datetime.date(2015, 4, 1), 2218], [datetime.date(2015, 3, 31),\n",
       "   2203], [datetime.date(2015, 3, 30), 2028], [datetime.date(2015, 3, 29),\n",
       "   814]],\n",
       " ('A002',\n",
       "  'R051',\n",
       "  '02-05-00',\n",
       "  'LEXINGTON AVE'): [[datetime.date(2015, 3, 28),\n",
       "   1], [datetime.date(2015, 4, 2), 1144], [datetime.date(2015, 4, 3),\n",
       "   1], [datetime.date(2015, 4, 1), 1144], [datetime.date(2015, 3, 31),\n",
       "   1144], [datetime.date(2015, 3, 30), 2], [datetime.date(2015, 3, 29), 1142]],\n",
       " ('A002',\n",
       "  'R051',\n",
       "  '02-05-01',\n",
       "  'LEXINGTON AVE'): [[datetime.date(2015, 3, 28),\n",
       "   0], [datetime.date(2015, 4, 2), 0], [datetime.date(2015, 4, 3),\n",
       "   0], [datetime.date(2015, 4, 1), 0], [datetime.date(2015, 3, 31),\n",
       "   0], [datetime.date(2015, 3, 30), 0], [datetime.date(2015, 3, 29), 0]],\n",
       " ('A002',\n",
       "  'R051',\n",
       "  '02-06-00',\n",
       "  'LEXINGTON AVE'): [[datetime.date(2015, 3, 28),\n",
       "   1089], [datetime.date(2015, 4, 2), 2317], [datetime.date(2015, 4, 3),\n",
       "   1878], [datetime.date(2015, 4, 1), 2329], [datetime.date(2015, 3, 31),\n",
       "   2297], [datetime.date(2015, 3, 30), 2071], [datetime.date(2015, 3, 29),\n",
       "   871]],\n",
       " ('A006',\n",
       "  'R079',\n",
       "  '00-00-00',\n",
       "  '5 AVE-59 ST'): [[datetime.date(2015, 3, 28),\n",
       "   1054], [datetime.date(2015, 4, 2), 1844], [datetime.date(2015, 4, 3),\n",
       "   1597], [datetime.date(2015, 4, 1), 1843], [datetime.date(2015, 3, 31),\n",
       "   1834], [datetime.date(2015, 3, 30), 1817], [datetime.date(2015, 3, 29),\n",
       "   1048]],\n",
       " ('A006',\n",
       "  'R079',\n",
       "  '00-00-01',\n",
       "  '5 AVE-59 ST'): [[datetime.date(2015, 3, 28),\n",
       "   977], [datetime.date(2015, 4, 2), 1979], [datetime.date(2015, 4, 3),\n",
       "   1571], [datetime.date(2015, 4, 1), 1924], [datetime.date(2015, 3, 31),\n",
       "   1854], [datetime.date(2015, 3, 30), 1819], [datetime.date(2015, 3, 29),\n",
       "   1048]],\n",
       " ('A006',\n",
       "  'R079',\n",
       "  '00-00-02',\n",
       "  '5 AVE-59 ST'): [[datetime.date(2015, 3, 28),\n",
       "   748], [datetime.date(2015, 4, 2), 1549], [datetime.date(2015, 4, 3),\n",
       "   1163], [datetime.date(2015, 4, 1), 1535], [datetime.date(2015, 3, 31),\n",
       "   1564], [datetime.date(2015, 3, 30), 1452], [datetime.date(2015, 3, 29),\n",
       "   831]],\n",
       " ('A006',\n",
       "  'R079',\n",
       "  '00-00-03',\n",
       "  '5 AVE-59 ST'): [[datetime.date(2015, 3, 28),\n",
       "   604], [datetime.date(2015, 4, 2), 1293], [datetime.date(2015, 4, 3),\n",
       "   908], [datetime.date(2015, 4, 1), 1199], [datetime.date(2015, 3, 31),\n",
       "   1249], [datetime.date(2015, 3, 30), 1182], [datetime.date(2015, 3, 29),\n",
       "   782]],\n",
       " ('A006',\n",
       "  'R079',\n",
       "  '00-00-04',\n",
       "  '5 AVE-59 ST'): [[datetime.date(2015, 3, 28),\n",
       "   568], [datetime.date(2015, 4, 2), 1309], [datetime.date(2015, 4, 3),\n",
       "   924], [datetime.date(2015, 4, 1), 1189], [datetime.date(2015, 3, 31),\n",
       "   1218], [datetime.date(2015, 3, 30), 1149], [datetime.date(2015, 3, 29),\n",
       "   849]],\n",
       " ('A006',\n",
       "  'R079',\n",
       "  '00-03-00',\n",
       "  '5 AVE-59 ST'): [[datetime.date(2015, 3, 28),\n",
       "   619], [datetime.date(2015, 4, 2), 1858], [datetime.date(2015, 4, 3),\n",
       "   1208], [datetime.date(2015, 4, 1), 1718], [datetime.date(2015, 3, 31),\n",
       "   1756], [datetime.date(2015, 3, 30), 1600], [datetime.date(2015, 3, 29),\n",
       "   1036]],\n",
       " ('A006',\n",
       "  'R079',\n",
       "  '00-03-01',\n",
       "  '5 AVE-59 ST'): [[datetime.date(2015, 3, 28),\n",
       "   937], [datetime.date(2015, 4, 2), 2214], [datetime.date(2015, 4, 3),\n",
       "   1634], [datetime.date(2015, 4, 1), 2173], [datetime.date(2015, 3, 31),\n",
       "   2261], [datetime.date(2015, 3, 30), 1984], [datetime.date(2015, 3, 29),\n",
       "   1129]],\n",
       " ('A006',\n",
       "  'R079',\n",
       "  '00-03-02',\n",
       "  '5 AVE-59 ST'): [[datetime.date(2015, 3, 28),\n",
       "   1214], [datetime.date(2015, 4, 2), 2854], [datetime.date(2015, 4, 3),\n",
       "   2067], [datetime.date(2015, 4, 1), 2716], [datetime.date(2015, 3, 31),\n",
       "   2856], [datetime.date(2015, 3, 30), 2636], [datetime.date(2015, 3, 29),\n",
       "   1245]],\n",
       " ('A007',\n",
       "  'R079',\n",
       "  '01-05-00',\n",
       "  '5 AVE-59 ST'): [[datetime.date(2015, 3, 28),\n",
       "   2520], [datetime.date(2015, 4, 2), 2524], [datetime.date(2015, 4, 3),\n",
       "   2524], [datetime.date(2015, 4, 1), 1], [datetime.date(2015, 3, 31),\n",
       "   2], [datetime.date(2015, 3, 30), 1], [datetime.date(2015, 3, 29), 2520]],\n",
       " ('A007', 'R079', '01-05-01', '5 AVE-59 ST'): [[datetime.date(2015, 3, 28), 1],\n",
       "  [datetime.date(2015, 4, 2), 1],\n",
       "  [datetime.date(2015, 4, 3), 1],\n",
       "  [datetime.date(2015, 4, 1), 1],\n",
       "  [datetime.date(2015, 3, 31), 1],\n",
       "  [datetime.date(2015, 3, 30), 1],\n",
       "  [datetime.date(2015, 3, 29), 1]],\n",
       " ('A007',\n",
       "  'R079',\n",
       "  '01-06-00',\n",
       "  '5 AVE-59 ST'): [[datetime.date(2015, 3, 28),\n",
       "   470], [datetime.date(2015, 4, 2), 813], [datetime.date(2015, 4, 3),\n",
       "   532], [datetime.date(2015, 4, 1), 686], [datetime.date(2015, 3, 31),\n",
       "   443], [datetime.date(2015, 3, 30), 589], [datetime.date(2015, 3, 29), 517]],\n",
       " ('A007',\n",
       "  'R079',\n",
       "  '01-06-01',\n",
       "  '5 AVE-59 ST'): [[datetime.date(2015, 3, 28),\n",
       "   831], [datetime.date(2015, 3, 30), 700], [datetime.date(2015, 3, 29), 747]]}"
      ]
     },
     "execution_count": 428,
     "metadata": {},
     "output_type": "execute_result"
    }
   ],
   "source": [
    "import pdb\n",
    "import operator\n",
    "def total_dictt(filename=\"turnstile_150404.txt\"):\n",
    "    new_dict = {}\n",
    "    for key,value in time_dictt(filename).iteritems():\n",
    "        tempdict = {}\n",
    "        for old_list in value:\n",
    "            date = old_list[0].date()\n",
    "            count = old_list[1]\n",
    "            if date in tempdict:\n",
    "                tempdict[date].append(count)\n",
    "            else:\n",
    "                tempdict[date] = [count]\n",
    "        new_dict[key] = tempdict\n",
    "    \n",
    "    total_dict = {}\n",
    "    for key, value in new_dict.iteritems():\n",
    "        temp_list = []\n",
    "        for date, count_list in value.iteritems():\n",
    "            new_count = 0\n",
    "            if count_list[0] < count_list[-1]:\n",
    "                # no reset\n",
    "                new_count = count_list[-1] - count_list[0]\n",
    "            elif count_list[0] == count_list[-1]:\n",
    "                # only one count in list\n",
    "                new_count = count_list[0]\n",
    "            else:\n",
    "                # reset\n",
    "                reset_index = 0\n",
    "                for index, count in enumerate(count_list):\n",
    "                    if count < count_list[index-1]: reset_index = index\n",
    "                before_reset = count_list[0] if reset_index == 1 else count_list[reset_index-1] - count_list[0]\n",
    "                after_reset = count_list[-1] if reset_index == len(count_list) else count_list[-1] - count_list[reset_index]\n",
    "                new_count = before_reset + after_reset\n",
    "            temp_list.append([date, new_count])\n",
    "        total_dict[key] = temp_list\n",
    "    return total_dict\n",
    "\n",
    "total_dictt(filename=\"sample.txt\")\n",
    "# error at 01-05-01', '5 AVE'"
   ]
  },
  {
   "cell_type": "code",
   "execution_count": 426,
   "metadata": {
    "collapsed": true
   },
   "outputs": [],
   "source": [
    "# temp = total_dictt()\n",
    "# print temp.items()[0]"
   ]
  },
  {
   "cell_type": "code",
   "execution_count": 425,
   "metadata": {
    "collapsed": false,
    "scrolled": true
   },
   "outputs": [],
   "source": [
    "# all_counts = [count for rows in temp.values() for time, count in rows]\n",
    "# all_counts.sort()\n",
    "# print all_counts[:3000]"
   ]
  },
  {
   "cell_type": "markdown",
   "metadata": {},
   "source": [
    "###Challenge 4"
   ]
  },
  {
   "cell_type": "code",
   "execution_count": 429,
   "metadata": {
    "collapsed": false,
    "scrolled": true
   },
   "outputs": [
    {
     "name": "stdout",
     "output_type": "stream",
     "text": [
      "turnstile: ('R604', 'R108', '03-00-02', 'BOROUGH HALL/CT')\n"
     ]
    },
    {
     "data": {
      "text/plain": [
       "[<matplotlib.lines.Line2D at 0x11ab07190>]"
      ]
     },
     "execution_count": 429,
     "metadata": {},
     "output_type": "execute_result"
    },
    {
     "data": {
      "image/png": "[encoded data removed]",
      "text/plain": [
       "<matplotlib.figure.Figure at 0x11d637710>"
      ]
     },
     "metadata": {},
     "output_type": "display_data"
    }
   ],
   "source": [
    "import random\n",
    "import operator\n",
    "total_dict = total_dictt()\n",
    "turnstile = random.choice(total_dict.keys())\n",
    "print(\"turnstile: \" + str(turnstile))\n",
    "%matplotlib inline\n",
    "import matplotlib.pyplot as plt\n",
    "total_dict[turnstile].sort(key=lambda x: x[0])\n",
    "dates, counts = [list(t) for t in zip(*total_dict[turnstile])]\n",
    "plt.figure(figsize=(10,3))\n",
    "plt.plot(dates,counts)"
   ]
  },
  {
   "cell_type": "markdown",
   "metadata": {},
   "source": [
    "###Challenge 5"
   ]
  },
  {
   "cell_type": "code",
   "execution_count": 430,
   "metadata": {
    "collapsed": false
   },
   "outputs": [],
   "source": [
    "def combo_dictt(filename=\"turnstile_150404.txt\"):\n",
    "    combo_dict = {}\n",
    "    for key,value in total_dictt(filename).items():\n",
    "        new_keys = (key[0],key[1],key[3])\n",
    "        if new_keys in combo_dict:\n",
    "            holder = {}\n",
    "            for k,v in combo_dict[new_keys] + value:\n",
    "                holder[k] = holder.get(k, 0) + v\n",
    "            combo_dict[new_keys] = [(i[0],holder[i[0]]) for i in value]\n",
    "        else:\n",
    "            combo_dict[new_keys] = value\n",
    "    return combo_dict"
   ]
  },
  {
   "cell_type": "markdown",
   "metadata": {},
   "source": [
    "###Challenge 6"
   ]
  },
  {
   "cell_type": "code",
   "execution_count": 431,
   "metadata": {
    "collapsed": true
   },
   "outputs": [],
   "source": [
    "def station_dictt(filename=\"turnstile_150404.txt\"):\n",
    "    station_dict = {}\n",
    "    for key,value in total_dictt(filename).items():\n",
    "        new_key = key[3]\n",
    "        if new_key in station_dict:\n",
    "            holder = {}\n",
    "            for k,v in station_dict[new_key] + value:\n",
    "                holder[k] = holder.get(k, 0) + v\n",
    "            station_dict[new_key] = [(i[0],holder[i[0]]) for i in value]\n",
    "        else:\n",
    "            station_dict[new_key] = value\n",
    "    return station_dict"
   ]
  },
  {
   "cell_type": "markdown",
   "metadata": {},
   "source": [
    "###Challenge 7"
   ]
  },
  {
   "cell_type": "code",
   "execution_count": 432,
   "metadata": {
    "collapsed": false,
    "scrolled": true
   },
   "outputs": [
    {
     "name": "stdout",
     "output_type": "stream",
     "text": [
      "station: JOURNAL SQUARE\n"
     ]
    },
    {
     "data": {
      "text/plain": [
       "[<matplotlib.lines.Line2D at 0x1285401d0>]"
      ]
     },
     "execution_count": 432,
     "metadata": {},
     "output_type": "execute_result"
    },
    {
     "data": {
      "image/png": "[encoded data removed]",
      "text/plain": [
       "<matplotlib.figure.Figure at 0x11a433a10>"
      ]
     },
     "metadata": {},
     "output_type": "display_data"
    }
   ],
   "source": [
    "import random\n",
    "station_dict = station_dictt()\n",
    "station = random.choice(station_dict.keys())\n",
    "#station = \"JOURNAL SQUARE\"\n",
    "print(\"station: \" + station)\n",
    "station_dict[station].sort(key=lambda x: x[0])\n",
    "dates, counts = [list(t) for t in zip(*station_dict[station])]\n",
    "plt.figure(figsize=(10,3))\n",
    "plt.plot(dates,counts)"
   ]
  },
  {
   "cell_type": "markdown",
   "metadata": {},
   "source": [
    "###Challenge 8"
   ]
  },
  {
   "cell_type": "code",
   "execution_count": 434,
   "metadata": {
    "collapsed": false
   },
   "outputs": [
    {
     "name": "stdout",
     "output_type": "stream",
     "text": [
      "station: NEWKIRK PLAZA\n"
     ]
    },
    {
     "data": {
      "text/plain": [
       "[<matplotlib.lines.Line2D at 0x12a0836d0>]"
      ]
     },
     "execution_count": 434,
     "metadata": {},
     "output_type": "execute_result"
    },
    {
     "data": {
      "image/png": "[encoded data removed]",
      "text/plain": [
       "<matplotlib.figure.Figure at 0x1284c30d0>"
      ]
     },
     "metadata": {},
     "output_type": "display_data"
    },
    {
     "data": {
      "image/png": "[encoded data removed]",
      "text/plain": [
       "<matplotlib.figure.Figure at 0x11de1af50>"
      ]
     },
     "metadata": {},
     "output_type": "display_data"
    },
    {
     "data": {
      "image/png": "[encoded data removed]",
      "text/plain": [
       "<matplotlib.figure.Figure at 0x12a5f8d90>"
      ]
     },
     "metadata": {},
     "output_type": "display_data"
    }
   ],
   "source": [
    "import random\n",
    "station_dict = station_dictt()\n",
    "turnstile = random.choice(station_dict.keys())\n",
    "print(\"station: \" + turnstile)\n",
    "station_dict[station].sort(key=lambda x: x[0])\n",
    "week_count_list = [i[1] for i in station_dict[turnstile]]\n",
    "plt.figure(figsize=(10,3))\n",
    "plt.plot(week_count_list)\n",
    "\n",
    "station_dict = station_dictt(\"turnstile_150321.txt\")\n",
    "station_dict[station].sort(key=lambda x: x[0])\n",
    "week_count_list2 = [i[1] for i in station_dict[turnstile]]\n",
    "plt.figure(figsize=(10,3))\n",
    "plt.plot(week_count_list2)\n",
    "\n",
    "station_dict = station_dictt(\"turnstile_150314.txt\")\n",
    "station_dict[station].sort(key=lambda x: x[0])\n",
    "week_count_list3 = [i[1] for i in station_dict[turnstile]]\n",
    "plt.figure(figsize=(10,3))\n",
    "plt.plot(week_count_list3)"
   ]
  },
  {
   "cell_type": "markdown",
   "metadata": {},
   "source": [
    "###Challenge 9"
   ]
  },
  {
   "cell_type": "code",
   "execution_count": 438,
   "metadata": {
    "collapsed": false
   },
   "outputs": [
    {
     "data": {
      "text/plain": [
       "[('BROAD CHANNEL', 1740),\n",
       " ('PATH WTC 2', 2965),\n",
       " ('BEACH 44 ST', 3976),\n",
       " ('E 143 ST', 5324),\n",
       " ('AQUEDUCT-N CNDT', 6679),\n",
       " ('CYPRESS HILLS', 8644),\n",
       " ('22 AVE-BAY PKY', 8779),\n",
       " ('VAN ALSTON-21ST', 9473),\n",
       " ('TOMPKINSVILLE', 9919),\n",
       " ('BOTANIC GARDEN', 10053),\n",
       " ('NEPTUNE AVE', 10060),\n",
       " ('ATLANTIC AVE', 10372),\n",
       " ('AQUEDUCT TRACK', 10857),\n",
       " ('BEACH 25 ST', 10872),\n",
       " ('55 ST', 11034),\n",
       " ('104 ST', 11124),\n",
       " ('BEACH 105 ST', 11318),\n",
       " ('BUSHWICK AVE', 11432),\n",
       " ('JFK HOWARD BCH', 12153),\n",
       " ('215 ST', 13001),\n",
       " ('AVE I', 13411),\n",
       " ('JUNIUS ST', 13840),\n",
       " ('BEACH 67 ST', 13881),\n",
       " ('121 ST', 13915),\n",
       " ('BOWERY', 14255),\n",
       " ('ALABAMA AVE', 14568),\n",
       " ('SENECA AVE', 15058),\n",
       " ('BEVERLEY ROAD', 15567),\n",
       " ('BOYD-88 ST', 15610),\n",
       " ('LIBERTY AVE', 15712),\n",
       " ('AVE P', 16516),\n",
       " ('BRONX PARK EAST', 16626),\n",
       " ('AVE X', 16652),\n",
       " ('W 8 ST-AQUARIUM', 16724),\n",
       " ('BAY 50 ST', 16817),\n",
       " ('74 ST-BROADWAY', 17567),\n",
       " ('AVE H', 18221),\n",
       " ('CHAUNCEY ST', 18251),\n",
       " ('138 ST-GR CONC', 18702),\n",
       " ('SHEPHERD AVE', 19438),\n",
       " ('BEEBE-39 AVE', 20022),\n",
       " ('INTERVALE-163', 20315),\n",
       " ('HEWES ST', 20362),\n",
       " ('CENTRAL AVE', 20593),\n",
       " ('CLEVELAND ST', 20800),\n",
       " ('219 ST', 20877),\n",
       " ('NORWOOD AVE', 20914),\n",
       " ('75 AVE', 21253),\n",
       " ('BURKE AVE', 21526),\n",
       " ('NEREID AVE', 21810),\n",
       " ('25 ST', 22014),\n",
       " ('EAST 105 ST', 22103),\n",
       " ('ELDERTS LANE', 22215),\n",
       " ('CYPRESS AVE', 22388),\n",
       " ('FOREST PARKWAY', 22970),\n",
       " ('PRESIDENT ST', 22976),\n",
       " ('MIDDLETOWN ROAD', 22999),\n",
       " ('KNICKERBOCKER', 23213),\n",
       " ('65 ST', 23363),\n",
       " ('148 ST-LENOX', 24081),\n",
       " ('BROADWAY', 24369),\n",
       " ('HOWARD BCH-JFK', 25307),\n",
       " ('ST LAWRENCE AVE', 25521),\n",
       " ('BEVERLY ROAD', 25567),\n",
       " ('163 ST-AMSTERDM', 26143),\n",
       " ('RIT-MANHATTAN', 26393),\n",
       " ('71 ST', 26446),\n",
       " ('E 149 ST', 26608),\n",
       " ('WILSON AVE', 26895),\n",
       " ('LAFAYETTE AVE', 27418),\n",
       " ('225 ST', 27581),\n",
       " ('190 ST', 27699),\n",
       " ('VAN WYCK BLVD', 27785),\n",
       " ('KINGSTON AVE', 27837),\n",
       " ('9TH STREET', 28224),\n",
       " ('FREEMAN ST', 28546),\n",
       " ('69 ST-FISK AVE', 28580),\n",
       " ('25 AVE', 28684),\n",
       " ('KOSCIUSZKO ST', 28838),\n",
       " ('174 ST', 29270),\n",
       " ('CLASSON AVE', 29303),\n",
       " ('CRESCENT ST', 29494),\n",
       " ('182-183 ST', 29548),\n",
       " ('EASTERN PKWY', 29595),\n",
       " ('DITMAS AVE', 29721),\n",
       " ('PARKSIDE AVE', 29829),\n",
       " ('SMITH-9 ST', 29907),\n",
       " ('4 AVE', 30093),\n",
       " ('FAR ROCKAWAY', 30222),\n",
       " ('174-175 ST', 30317),\n",
       " ('WAKEFIELD-241', 30729),\n",
       " ('6 AVE', 31323),\n",
       " ('FRANKLIN ST', 31818),\n",
       " ('CITY HALL', 32468),\n",
       " ('MT EDEN AVE', 33030),\n",
       " ('PENNSYLVANIA AV', 33177),\n",
       " ('STERLING ST', 33572),\n",
       " ('FRESH POND ROAD', 33648),\n",
       " ('JACKSON AVE', 33710),\n",
       " ('HUNTERS PT AVE', 34040),\n",
       " ('SARATOGA AVE', 34313),\n",
       " ('CLARK ST', 34619),\n",
       " ('CORTELYOU ROAD', 34706),\n",
       " ('ALLERTON AVE', 34721),\n",
       " ('RALPH AVE', 34921),\n",
       " ('176 ST', 35374),\n",
       " ('KINGSTON-THROOP', 35646),\n",
       " ('PARK PLACE', 35749),\n",
       " ('MYRTLE-WILLOUGH', 35877),\n",
       " ('ROOSEVELT IS', 35983),\n",
       " ('3 AVE', 36903),\n",
       " ('183 ST', 37115),\n",
       " ('207 ST', 37387),\n",
       " ('BROOK AVE', 37396),\n",
       " ('233 ST', 37438),\n",
       " ('15 ST-PROSPECT', 37986),\n",
       " ('GRANT AVE', 38064),\n",
       " ('GATES AVE', 38208),\n",
       " ('HARRISON', 39739),\n",
       " ('WESTCHESTER SQ', 39848),\n",
       " ('HOYT ST', 39889),\n",
       " ('NEW UTRECHT AVE', 40185),\n",
       " ('TWENTY THIRD ST', 40320),\n",
       " ('155 ST', 40478),\n",
       " ('52 ST-LINCOLN', 40520),\n",
       " ('DYCKMAN-200 ST', 41044),\n",
       " ('WOODLAWN ROAD', 42125),\n",
       " ('CASTLE HILL AVE', 42210),\n",
       " ('45 ST', 42584),\n",
       " ('DYCKMAN ST', 43062),\n",
       " ('MORGAN AVE', 43143),\n",
       " ('HUDSON-80 ST', 43219),\n",
       " ('WINTHROP ST', 43287),\n",
       " ('53 ST', 43295),\n",
       " ('MONTROSE AVE', 43346),\n",
       " ('NORTHERN BLVD', 43856),\n",
       " ('WASHINGTON-36 A', 43916),\n",
       " ('JEFFERSON ST', 44493),\n",
       " ('GRAND ARMY PLAZ', 44754),\n",
       " ('242 ST', 45240),\n",
       " ('CATHEDRL-110 ST', 45703),\n",
       " ('138 ST-3 AVE', 46117),\n",
       " ('JFK JAMAICA CT1', 46146),\n",
       " ('18 ST', 46458),\n",
       " ('HIGH ST', 46847),\n",
       " ('PARSONS BLVD', 47859),\n",
       " ('COURT SQ-23 ST', 48925),\n",
       " ('BAY RIDGE AVE', 48941),\n",
       " ('191 ST', 49568),\n",
       " ('E 180 ST', 50244),\n",
       " ('14TH STREET', 51033),\n",
       " ('NASSAU AV', 51270),\n",
       " ('NORWOOD-205 ST', 51334),\n",
       " ('YORK ST', 51710),\n",
       " ('JAMAICA-VAN WYC', 51774),\n",
       " ('ESSEX ST', 52829),\n",
       " ('NEWKIRK AVE', 52969),\n",
       " ('MOSHOLU PARKWAY', 53305),\n",
       " ('169 ST', 53735),\n",
       " ('HOYT/SCHERMER', 53765),\n",
       " ('BROADWAY-ENY', 54403),\n",
       " ('21 ST', 54883),\n",
       " ('7 AVE', 55118),\n",
       " ('20 AVE', 55214),\n",
       " ('110 ST-CPN', 55235),\n",
       " ('EAST BROADWAY', 56381),\n",
       " ('46 ST', 56649),\n",
       " ('67 AVE', 56666),\n",
       " ('VAN SICLEN AVE', 56694),\n",
       " ('GREENPOINT AVE', 57019),\n",
       " ('5 AVE-BRYANT PK', 57479),\n",
       " ('HUNTS POINT AVE', 59682),\n",
       " ('NEVINS ST', 60112),\n",
       " ('EXCHANGE PLACE', 60584),\n",
       " ('40 ST-LOWERY ST', 60907),\n",
       " ('EUCLID AVE', 61100),\n",
       " ('GRAHAM AVE', 61419),\n",
       " ('GROVE STREET', 63251),\n",
       " ('157 ST', 64161),\n",
       " ('LORIMER ST', 65143),\n",
       " ('NEWKIRK PLAZA', 65281),\n",
       " ('CARROLL ST', 66264),\n",
       " ('INWOOD-207 ST', 66595),\n",
       " ('ROCKAWAY AVE', 67503),\n",
       " ('QUEENSBORO PLZ', 67626),\n",
       " ('RIT-ROOSEVELT', 68166),\n",
       " ('28 ST-BROADWAY', 68256),\n",
       " ('NEW LOTS AVE', 68454),\n",
       " ('QUEENS PLAZA', 69467),\n",
       " ('7 AV-PARK SLOPE', 70331),\n",
       " ('BRIGHTON BEACH', 71140),\n",
       " ('SIMPSON ST', 71568),\n",
       " ('HOYT ST-ASTORIA', 72478),\n",
       " ('SUTTER AVE', 74391),\n",
       " ('ST. GEORGE', 74703),\n",
       " ('PROSPECT PARK', 75485),\n",
       " ('NEWARK BM BW', 77164),\n",
       " ('COURT SQ', 78654),\n",
       " ('WORLD TRADE CTR', 79062),\n",
       " ('BROADWAY-31 ST', 79699),\n",
       " ('33 ST/RAWSON ST', 79818),\n",
       " ('BLEECKER ST', 79945),\n",
       " ('57 ST', 80415),\n",
       " ('CHRISTOPHER ST', 80485),\n",
       " ('SHEEPSHEAD BAY', 80581),\n",
       " ('ROCKAWAY PKY', 81227),\n",
       " ('WHITEHALL ST', 81682),\n",
       " ('ELMHURST AVE', 82286),\n",
       " ('111 ST', 82812),\n",
       " ('HALSEY ST', 84085),\n",
       " ('STEINWAY ST', 84346),\n",
       " ('SOUTH FERRY', 84946),\n",
       " ('175 ST', 87053),\n",
       " ('STILLWELL AVE', 87176),\n",
       " ('GRAND AV-NEWTON', 87354),\n",
       " ('GRAND-30 AVE', 88196),\n",
       " ('82 ST-JACKSON H', 88792),\n",
       " ('7 AVE-53 ST', 89717),\n",
       " (\"PRINCE ST-B'WAY\", 90650),\n",
       " ('46 ST-BLISS ST', 90656),\n",
       " ('81 ST-MUSEUM', 90913),\n",
       " ('DELANCEY ST', 91155),\n",
       " ('137 ST-CITY COL', 92896),\n",
       " ('ASTOR PLACE', 95793),\n",
       " (\"8 ST-B'WAY NYU\", 96315),\n",
       " ('FRANKLIN AVE', 96393),\n",
       " ('2 AVE', 96767),\n",
       " ('14 ST-6 AVE', 96927),\n",
       " ('57 ST-7 AVE', 98450),\n",
       " ('CITY / BUS', 98528),\n",
       " ('RECTOR ST', 98849),\n",
       " ('E 177 ST-PARKCH', 100486),\n",
       " ('36 ST', 100686),\n",
       " ('DITMARS BL-31 S', 101411),\n",
       " ('UTICA AVE', 103056),\n",
       " ('63 DR-REGO PARK', 104273),\n",
       " ('PAVONIA/NEWPORT', 107099),\n",
       " ('KINGSBRIDGE RD', 107930),\n",
       " ('61 ST/WOODSIDE', 108559),\n",
       " ('18 AVE', 111638),\n",
       " ('FLATBUSH AVE', 112094),\n",
       " ('167 ST', 115232),\n",
       " ('103 ST-CORONA', 120190),\n",
       " ('5 AVE-59 ST', 121900),\n",
       " ('149 ST-3 AVE', 122473),\n",
       " ('THIRTY THIRD ST', 125813),\n",
       " ('NOSTRAND AVE', 128980),\n",
       " ('49 ST-7 AVE', 129067),\n",
       " ('1 AVE', 129490),\n",
       " ('23 ST-5 AVE', 132225),\n",
       " ('JAMAICA-179 ST', 132706),\n",
       " ('23 ST-6 AVE', 132924),\n",
       " ('JUNCTION BLVD', 133766),\n",
       " ('JOURNAL SQUARE', 134439),\n",
       " ('181 ST', 137054),\n",
       " ('79 ST', 139421),\n",
       " ('SPRING ST', 140962),\n",
       " ('BEDFORD AVE', 144899),\n",
       " ('LEXINGTON AVE', 161358),\n",
       " ('UNION TPK-KEW G', 167351),\n",
       " ('KINGS HIGHWAY', 169597),\n",
       " ('CROWN HTS-UTICA', 170594),\n",
       " ('GRAND ST', 181121),\n",
       " ('FOREST HILLS-71', 182151),\n",
       " ('68ST-HUNTER COL', 187050),\n",
       " ('MYRTLE AVE', 193275),\n",
       " ('BOROUGH HALL/CT', 214202),\n",
       " ('LEXINGTON-53 ST', 214691),\n",
       " ('145 ST', 216915),\n",
       " ('14 ST', 218203),\n",
       " ('W 4 ST-WASH SQ', 231622),\n",
       " ('JAMAICA CENTER', 249635),\n",
       " ('NEWARK HW BMEBE', 250626),\n",
       " ('BERGEN ST', 289545),\n",
       " ('72 ST', 314753),\n",
       " ('LACKAWANNA', 400199),\n",
       " ('125 ST', 421086),\n",
       " ('MARCY AVE', 457277),\n",
       " ('THIRTY ST', 574733),\n",
       " ('14 ST-UNION SQ', 587402),\n",
       " ('34 ST-HERALD SQ', 625869),\n",
       " ('86 ST', 634331),\n",
       " ('50 ST', 772947),\n",
       " ('BEACH 98 ST', 1183180),\n",
       " ('AVE J', 1234658),\n",
       " ('LIVONIA AVE', 1384820),\n",
       " ('PATH WTC', 1392863),\n",
       " ('NEWARK C', 1541061),\n",
       " ('168 ST-BROADWAY', 1686110),\n",
       " ('28 ST', 2040292),\n",
       " ('NEWARK HM HE', 2191845),\n",
       " ('MORRISON AVE', 2791090),\n",
       " ('DEKALB AVE', 3263917),\n",
       " ('96 ST', 3276369),\n",
       " ('CANAL ST', 3610968),\n",
       " ('BEACH 90 ST', 3632442),\n",
       " ('METROPOLITAN AV', 3749281),\n",
       " ('9 AVE', 4164206),\n",
       " ('UNION ST', 4237414),\n",
       " ('MAIN ST', 4336872),\n",
       " ('PELHAM PARKWAY', 4740181),\n",
       " ('FT HAMILTON PKY', 5099900),\n",
       " ('E TREMONT AVE', 5477026),\n",
       " ('MARBLE HILL-225', 5675101),\n",
       " ('LONGWOOD AVE', 6765333),\n",
       " ('59 ST', 6908491),\n",
       " ('FOREST AVE', 7222043),\n",
       " ('BROOKLYN BRIDGE', 9251424),\n",
       " ('BEACH 36 ST', 9488793),\n",
       " ('OXFORD-104 ST', 10063845),\n",
       " ('47-50 ST-ROCK', 10148490),\n",
       " ('110 ST', 10499481),\n",
       " ('GREENWOOD-111', 11138479),\n",
       " ('MORRIS PARK', 11542027),\n",
       " ('BAYCHESTER AVE', 12546458),\n",
       " ('231 ST', 12957775),\n",
       " ('238 ST', 13066358),\n",
       " ('GUN HILL ROAD', 15961388),\n",
       " ('42 ST-TIMES SQ', 18322191),\n",
       " ('9 ST', 20896787),\n",
       " ('ROCKAWAY BLVD', 21306336),\n",
       " ('PROSPECT AVE', 21446141),\n",
       " ('BURNSIDE AVE', 22826465),\n",
       " ('VERNON/JACKSON', 23238129),\n",
       " ('LEFFERTS BLVD', 23900301),\n",
       " ('CLINTON-WASH AV', 24878814),\n",
       " ('90 ST-ELMHURST', 25782189),\n",
       " ('116 ST', 29027339),\n",
       " ('116 ST-COLUMBIA', 31080730),\n",
       " ('5 AVE-53 ST', 31136628),\n",
       " ('BROAD ST', 35394630),\n",
       " ('51 ST', 41727929),\n",
       " ('77 ST', 45991682),\n",
       " ('CHURCH AVE', 51758779),\n",
       " ('42 ST-BRYANT PK', 56565326),\n",
       " ('161 ST-YANKEE', 62150316),\n",
       " ('CHAMBERS ST', 69668432),\n",
       " ('103 ST', 70682989),\n",
       " ('110 ST-CATHEDRL', 71352418),\n",
       " ('PELHAM BAY PARK', 151039106),\n",
       " ('SUTPHIN BLVD', 167944355),\n",
       " ('AVE N', 201346532),\n",
       " ('149 ST-GR CONC', 234961900),\n",
       " ('WOODHAVEN BLVD', 235040277),\n",
       " ('METS-WILLETS PT', 300372711),\n",
       " ('33 ST', 352496134),\n",
       " ('ROOSEVELT AVE', 360841112),\n",
       " ('BROADWAY/LAFAY', 372591898),\n",
       " ('WALL ST', 381000443),\n",
       " ('23 ST', 406543124),\n",
       " ('BEDFORD/NOSTRAN', 469828756),\n",
       " ('DYRE AVE', 548344380),\n",
       " ('42 ST-PA BUS TE', 604477477),\n",
       " ('34 ST-PENN STA', 644240388),\n",
       " ('ROCKAWAY PK 116', 704648456),\n",
       " ('NECK ROAD', 704668606),\n",
       " ('AVE M', 704677876),\n",
       " ('BAY PARKWAY', 704689737),\n",
       " ('BAY PKY-22 AVE', 704689995),\n",
       " ('135 ST', 704782633),\n",
       " ('FORDHAM ROAD', 704804296),\n",
       " ('HOUSTON ST', 705666196),\n",
       " ('ELDER AVE', 755027824),\n",
       " ('BEDFORD PARK BL', 805382656),\n",
       " ('BEACH 60 ST', 822098513),\n",
       " ('OCEAN PARKWAY', 822103799),\n",
       " ('BAY RIDGE-95 ST', 822124227),\n",
       " ('BOWLING GREEN', 822268664),\n",
       " ('JAY ST-METROTEC', 822337531),\n",
       " ('AVE U', 835718200),\n",
       " ('8 AVE', 942941048),\n",
       " ('FLUSHING AVE', 1057043213),\n",
       " ('59 ST-COLUMBUS', 1190852817),\n",
       " ('66 ST-LINCOLN', 1295625583),\n",
       " ('42 ST-GRD CNTRL', 1842701607),\n",
       " ('TREMONT AVE', 2142678145),\n",
       " ('WHITLOCK AVE', 2148763151),\n",
       " ('BARCLAYS CENTER', 6874620917),\n",
       " ('170 ST', 7122680620),\n",
       " ('CORTLANDT ST', 10820906124),\n",
       " ('FULTON ST', 13798354732)]"
      ]
     },
     "execution_count": 438,
     "metadata": {},
     "output_type": "execute_result"
    }
   ],
   "source": [
    "import random\n",
    "station_dict = station_dictt()\n",
    "total_riders_1 = {key: sum([i[1] for i in value]) for key, value in station_dict.iteritems()}\n",
    "sorted_1 = sorted(total_riders_1.items(), key=operator.itemgetter(1))\n",
    "sorted_1\n",
    "\n",
    "# station_dict = station_dictt(\"turnstile_150321.txt\")\n",
    "# total_riders_2 = {key: sum([i[1] for i in value]) for key, value in station_dict.iteritems()}\n",
    "\n",
    "# station_dict = station_dictt(\"turnstile_150314.txt\")\n",
    "# total_riders_3 = {key: sum([i[1] for i in value]) for key, value in station_dict.iteritems()}\n"
   ]
  },
  {
   "cell_type": "markdown",
   "metadata": {},
   "source": [
    "###Challenge 10"
   ]
  },
  {
   "cell_type": "code",
   "execution_count": 202,
   "metadata": {
    "collapsed": false
   },
   "outputs": [
    {
     "data": {
      "text/plain": [
       "(array([ 1.,  0.,  0.,  0.,  0.,  0.,  0.,  0.,  0.,  2.]),\n",
       " array([  2.48516206e+08,   2.49604190e+08,   2.50692174e+08,\n",
       "          2.51780158e+08,   2.52868142e+08,   2.53956126e+08,\n",
       "          2.55044110e+08,   2.56132094e+08,   2.57220078e+08,\n",
       "          2.58308062e+08,   2.59396046e+08]),\n",
       " <a list of 10 Patch objects>)"
      ]
     },
     "execution_count": 202,
     "metadata": {},
     "output_type": "execute_result"
    },
    {
     "data": {
      "image/png": "[encoded data removed]",
      "text/plain": [
       "<matplotlib.figure.Figure at 0x119898510>"
      ]
     },
     "metadata": {},
     "output_type": "display_data"
    }
   ],
   "source": [
    "total_ridership_counts = [total_]\n",
    "plt.hist(total_ridership_counts)"
   ]
  }
 ],
 "metadata": {
  "kernelspec": {
   "display_name": "Python 2",
   "language": "python",
   "name": "python2"
  },
  "language_info": {
   "codemirror_mode": {
    "name": "ipython",
    "version": 2
   },
   "file_extension": ".py",
   "mimetype": "text/x-python",
   "name": "python",
   "nbconvert_exporter": "python",
   "pygments_lexer": "ipython2",
   "version": "2.7.9"
  }
 },
 "nbformat": 4,
 "nbformat_minor": 0
}
