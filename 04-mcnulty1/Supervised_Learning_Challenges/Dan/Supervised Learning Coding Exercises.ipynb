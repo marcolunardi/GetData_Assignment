{
 "cells": [
  {
   "cell_type": "markdown",
   "metadata": {},
   "source": [
    "# McNulty Challenges\n",
    "###Supervised Learning"
   ]
  },
  {
   "cell_type": "code",
   "execution_count": 2,
   "metadata": {
    "collapsed": false
   },
   "outputs": [],
   "source": [
    "# python frameworks\n",
    "\n",
    "import pandas as pd\n",
    "import numpy as np\n",
    "import matplotlib.pyplot as plt\n",
    "import seaborn as sns\n",
    "%matplotlib inline\n",
    "\n",
    "# sklearn packages\n",
    "\n",
    "from sklearn.cross_validation import train_test_split\n",
    "from sklearn.neighbors import KNeighborsClassifier\n",
    "from sklearn.metrics import accuracy_score\n",
    "from sklearn.linear_model import LogisticRegression\n",
    "from sklearn.learning_curve import learning_curve\n",
    "from sklearn.svm import SVC\n",
    "from sklearn.tree import DecisionTreeClassifier\n",
    "from sklearn.ensemble import RandomForestClassifier\n",
    "from sklearn.naive_bayes import GaussianNB\n",
    "from sklearn.cross_validation import cross_val_score"
   ]
  },
  {
   "cell_type": "code",
   "execution_count": 3,
   "metadata": {
    "collapsed": false,
    "scrolled": true
   },
   "outputs": [
    {
     "name": "stdout",
     "output_type": "stream",
     "text": [
      "  % Total    % Received % Xferd  Average Speed   Time    Time     Time  Current\n",
      "                                 Dload  Upload   Total   Spent    Left  Speed\n",
      "100 18171  100 18171    0     0  22062      0 --:--:-- --:--:-- --:--:-- 22052\n"
     ]
    }
   ],
   "source": [
    "# download congressional vote data\n",
    "\n",
    "!curl https://archive.ics.uci.edu/ml/machine-learning-databases/voting-records/house-votes-84.data > \"house-vote-84.txt\""
   ]
  },
  {
   "cell_type": "markdown",
   "metadata": {},
   "source": [
    "### Challenge 1 \n",
    "\n",
    "Load the data into a pandas dataframe. Replace 'y's with 1s, 'n's with 0s.\n",
    "\n",
    "Now, almost every representative has a ?. This represents a no vote (they were absent or some other similar reason). If we dropped all the rows that had a ?, we would throw out most of our data. Instead, we will replace ? with the best guess in the Bayesian sense: in the absence of any other information, we will say that the probability of the representative saying YES is the ratio of others that said YES over the whole votes.\n",
    "\n",
    "So, convert each ? to this probability (when yes=1 and no=0, this is the mean of the column)"
   ]
  },
  {
   "cell_type": "code",
   "execution_count": 4,
   "metadata": {
    "collapsed": false
   },
   "outputs": [],
   "source": [
    "# read file into pandas dataframe\n",
    "\n",
    "with open(\"house-vote-84.txt\") as f:\n",
    "    house_data = pd.read_csv(f, header = None)\n",
    "    \n",
    "column_names = [\"party\"]\n",
    "column_names.extend(list(range(1,17)))\n",
    "\n",
    "house_data.columns = column_names"
   ]
  },
  {
   "cell_type": "code",
   "execution_count": 5,
   "metadata": {
    "collapsed": false
   },
   "outputs": [],
   "source": [
    "# convert all data to numeric: y -> 1 ; n -> 0 ; ? -> avg vote\n",
    "\n",
    "house_data = house_data.replace(\"y\", 1).replace(\"n\", 0).replace(\"?\", np.nan)\n",
    "for column in house_data.columns[1:]:\n",
    "    house_data[column] = house_data[column].replace(np.nan, house_data[column].mean())"
   ]
  },
  {
   "cell_type": "markdown",
   "metadata": {},
   "source": [
    "###Challenge 2\n",
    "\n",
    "Split the data into a test and training set. But this time, use this function:\n",
    "\n",
    "```python\n",
    "from sklearn.cross_validation import train_test_split\n",
    "```"
   ]
  },
  {
   "cell_type": "code",
   "execution_count": 6,
   "metadata": {
    "collapsed": false
   },
   "outputs": [],
   "source": [
    "# divide data into predictor (votes) and outcome (party)\n",
    "# create training and test data partitions\n",
    "\n",
    "party = house_data[\"party\"]\n",
    "votes = house_data.loc[:, 1:]\n",
    "\n",
    "train_input, test_input, train_outcome, test_outcome = train_test_split(votes, party, test_size = 0.33, random_state = 42)"
   ]
  },
  {
   "cell_type": "markdown",
   "metadata": {},
   "source": [
    "###Challenge 3\n",
    "\n",
    "Using scikit.learn's KNN algorithm, train a model that predicts the party (republican/democrat):\n",
    "\n",
    "```python\n",
    "from sklearn.neighbors import KNeighborsClassifier\n",
    "```\n",
    "Try it with a lot of different k values (number of neighbors), from 1 to 20, and on the test set calculate the accuracy (number of correct predictions / number of all predictions) for each k\n",
    "\n",
    "You can use this to calculate accuracy:\n",
    "\n",
    "```python\n",
    "from sklearn.metrics import accuracy_score\n",
    "```\n",
    "Which k value gives the highest accuracy?"
   ]
  },
  {
   "cell_type": "code",
   "execution_count": 7,
   "metadata": {
    "collapsed": false
   },
   "outputs": [
    {
     "name": "stdout",
     "output_type": "stream",
     "text": [
      "optimal k: 3 ------ knn accuracy: 0.951388888889\n",
      "optimal k: 5 ------ knn accuracy: 0.951388888889\n"
     ]
    }
   ],
   "source": [
    "# find accuracy of knn with different k's\n",
    "# find k that gives the max accuracy\n",
    "\n",
    "def accuracy_knn(k):\n",
    "    neigh = KNeighborsClassifier(n_neighbors = k)\n",
    "    neigh.fit(train_input, train_outcome)\n",
    "    test_pred = neigh.predict(test_input)\n",
    "    return accuracy_score(test_outcome, test_pred)\n",
    "\n",
    "accuracies = []\n",
    "for k in range(1, 21):\n",
    "    accuracies.append(accuracy_knn(k))\n",
    "    \n",
    "max_acc_k = max(accuracies)\n",
    "for i,j in enumerate(accuracies):\n",
    "    if j == max_acc_k:\n",
    "        print \"optimal k: \" + str(i+1) + \" ------\" + \" knn accuracy: \" + str(j)"
   ]
  },
  {
   "cell_type": "markdown",
   "metadata": {},
   "source": [
    "###Challenge 4\n",
    "\n",
    "Make a similar model but with LogisticRegression instead, calculate test accuracy."
   ]
  },
  {
   "cell_type": "code",
   "execution_count": 8,
   "metadata": {
    "collapsed": false
   },
   "outputs": [
    {
     "name": "stdout",
     "output_type": "stream",
     "text": [
      "logistic regression accuracy: 0.972222222222\n"
     ]
    }
   ],
   "source": [
    "# find accuracy of logistic regression mode\n",
    "\n",
    "log_reg = LogisticRegression()\n",
    "log_reg.fit(train_input, train_outcome)\n",
    "test_predict = log_reg.predict(test_input)\n",
    "log_acc = accuracy_score(test_outcome, test_predict)\n",
    "print \"logistic regression accuracy: \" + str(log_acc)"
   ]
  },
  {
   "cell_type": "markdown",
   "metadata": {},
   "source": [
    "###Challenge 5\n",
    "\n",
    "Make a bar graph of democrats and republicans. How many of each are there?\n",
    "\n",
    "Make a very simple predictor that predicts 'democrat' for every incoming example.\n",
    "\n",
    "Just make a function that takes in an X --an array or matrix with input examples--, and returns an array of the same length as X, where each value is 'democrat'. For example, if X is three rows, your function should return ['democrat','democrat','democrat']. Make a y_predicted vector using this and measure its accuracy.\n",
    "\n",
    "Do the same with predicting 'republican' all the time and measure its accuracy."
   ]
  },
  {
   "cell_type": "code",
   "execution_count": 9,
   "metadata": {
    "collapsed": false
   },
   "outputs": [
    {
     "data": {
      "image/png": "[encoded data removed]",
      "text/plain": [
       "<matplotlib.figure.Figure at 0x10b60b590>"
      ]
     },
     "metadata": {},
     "output_type": "display_data"
    }
   ],
   "source": [
    "# create a bar plot of outcome variable\n",
    "\n",
    "party_bar = house_data[\"party\"].value_counts().plot(kind = \"bar\", title = \"Number of Democrats/Republicans\")"
   ]
  },
  {
   "cell_type": "code",
   "execution_count": 10,
   "metadata": {
    "collapsed": false
   },
   "outputs": [],
   "source": [
    "# return an array (same # rows as dataframe) with all democrats\n",
    "# return an array (same # rows as dataframe) with all republicans\n",
    "\n",
    "def all_dems(data_array):\n",
    "    return [\"democrat\"] * len(data_array)\n",
    "\n",
    "def all_reps(data_array):\n",
    "    return [\"republican\"] * len(data_array)"
   ]
  },
  {
   "cell_type": "code",
   "execution_count": 11,
   "metadata": {
    "collapsed": false
   },
   "outputs": [
    {
     "name": "stdout",
     "output_type": "stream",
     "text": [
      "accuracy by guessing all democrats: 0.673611111111\n",
      "accuracy by guessing all republicans: 0.326388888889\n"
     ]
    }
   ],
   "source": [
    "# calculate accuracy of guessing all democrats\n",
    "# calculate accuracy of guessing all republicans\n",
    "\n",
    "dem_predict = all_dems(test_outcome)\n",
    "dem_acc = accuracy_score(test_outcome, dem_predict)\n",
    "rep_predict = all_reps(test_outcome)\n",
    "rep_acc = accuracy_score(test_outcome, rep_predict)\n",
    "print \"accuracy by guessing all democrats: \" + str(dem_acc)\n",
    "print \"accuracy by guessing all republicans: \" + str(rep_acc)"
   ]
  },
  {
   "cell_type": "markdown",
   "metadata": {},
   "source": [
    "###Challenge 6\n",
    "\n",
    "Plot the accuracies as a function of k. Since k only matters for KNN, your logistic regression accuracy, 'democrat' predictor accuracy and 'republican' predictor accuracy will stay the same over all k, so each of these three will be a horizontal line. But the KNN accuracy will change with k."
   ]
  },
  {
   "cell_type": "code",
   "execution_count": 12,
   "metadata": {
    "collapsed": false
   },
   "outputs": [],
   "source": [
    "# create a dataframe with accuracies using different methods\n",
    "\n",
    "diff_accs = pd.DataFrame(accuracies, index = range(1,21))\n",
    "diff_accs.columns = [\"knn\"]\n",
    "diff_accs[\"logistic\"] = log_acc\n",
    "diff_accs[\"all_democrats\"] = dem_acc\n",
    "diff_accs[\"all_republicans\"] = rep_acc"
   ]
  },
  {
   "cell_type": "code",
   "execution_count": 13,
   "metadata": {
    "collapsed": false
   },
   "outputs": [
    {
     "data": {
      "text/plain": [
       "<matplotlib.text.Text at 0x10b745610>"
      ]
     },
     "execution_count": 13,
     "metadata": {},
     "output_type": "execute_result"
    },
    {
     "data": {
      "image/png": "[encoded data removed]",
      "text/plain": [
       "<matplotlib.figure.Figure at 0x10b673590>"
      ]
     },
     "metadata": {},
     "output_type": "display_data"
    }
   ],
   "source": [
    "# plot accuracy of different predictors \n",
    "\n",
    "ax = diff_accs.plot(title = \"Accuracy of various models\")\n",
    "ax.set_xlabel(\"Value of K\")\n",
    "ax.set_ylabel(\"Accuracy\")"
   ]
  },
  {
   "cell_type": "markdown",
   "metadata": {},
   "source": [
    "###Challenge 7\n",
    "\n",
    "Plot a learning curve for the logistic regression model. But instead of going through the painstaking steps of doing it yourself, use this function:\n",
    "\n",
    "```python\n",
    "from sklearn.learning_curve import learning_curve\n",
    "```\n",
    "This will give you the m, training errors and testing errors. All you need to do is plot them. You don't even need to give it separate training/test sets. It will do crossvalidation all by itself. Easy, isn't it? : ) Remember, since it does cross-validation, it doesn't have a single training error or test error per m value. Instead, it has one for each fold (separate partition) of the cross validation. A good idea is to take the mean of these errors from different folds. This gives you a meaningful single number per m. What I mean is that doing something like:\n",
    "```python\n",
    "train_cv_err = np.mean(train_err,axis=1)\n",
    "test_cv_err = np.mean(ts_err,axis=1)\n",
    "```\n",
    "Before plotting m vs train_cv_err and m vs test_cv_err, where train_err and test_err are the vectors returned by the learning curve function. The np.mean(...., axis=1) means take the mean along axis 1 (axis 1 is the columns axis-- for each row, you have a bunch of columns, each corresponding to a cross validation fold, you are averaging these columns for each row).\n",
    "\n",
    "Draw the learning curve for KNN with the best k value as well."
   ]
  },
  {
   "cell_type": "code",
   "execution_count": 14,
   "metadata": {
    "collapsed": false
   },
   "outputs": [],
   "source": [
    "# calculate training and test set errors\n",
    "# calculate the mean of errors for each cv-fold\n",
    "\n",
    "log_train_sizes, log_train_scores, log_test_scores = learning_curve(LogisticRegression(), votes, party)\n",
    "\n",
    "log_train_cv_err = np.mean(log_train_scores,axis=1)\n",
    "log_test_cv_err = np.mean(log_test_scores,axis=1)"
   ]
  },
  {
   "cell_type": "code",
   "execution_count": 15,
   "metadata": {
    "collapsed": false
   },
   "outputs": [
    {
     "data": {
      "text/plain": [
       "<matplotlib.text.Text at 0x10b8c4a90>"
      ]
     },
     "execution_count": 15,
     "metadata": {},
     "output_type": "execute_result"
    },
    {
     "data": {
      "image/png": "[encoded data removed]",
      "text/plain": [
       "<matplotlib.figure.Figure at 0x10b68a090>"
      ]
     },
     "metadata": {},
     "output_type": "display_data"
    }
   ],
   "source": [
    "# create a learning curve of a logistic regression model\n",
    "\n",
    "plt.figure()\n",
    "plt.plot(log_train_sizes, log_train_cv_err, 'o-', label = \"Training Score\")\n",
    "plt.plot(log_train_sizes, log_test_cv_err, 'o-', label = \"Test Score\")\n",
    "plt.legend(loc=\"best\")\n",
    "plt.title(\"Learning Curve\")\n",
    "plt.xlabel(\"Training Size\")\n",
    "plt.ylabel(\"Accuracy\")"
   ]
  },
  {
   "cell_type": "code",
   "execution_count": 16,
   "metadata": {
    "collapsed": false
   },
   "outputs": [],
   "source": [
    "# calculate training and test set errors\n",
    "# calculate the mean of errors for each cv-fold\n",
    "\n",
    "knn_train_sizes, knn_train_scores, knn_test_scores = learning_curve(KNeighborsClassifier(n_neighbors=5), votes, party)\n",
    "\n",
    "knn_train_cv_err = np.mean(knn_train_scores,axis=1)\n",
    "knn_test_cv_err = np.mean(knn_test_scores,axis=1)"
   ]
  },
  {
   "cell_type": "code",
   "execution_count": 17,
   "metadata": {
    "collapsed": false
   },
   "outputs": [
    {
     "data": {
      "text/plain": [
       "<matplotlib.text.Text at 0x10b87a090>"
      ]
     },
     "execution_count": 17,
     "metadata": {},
     "output_type": "execute_result"
    },
    {
     "data": {
      "image/png": "[encoded data removed]",
      "text/plain": [
       "<matplotlib.figure.Figure at 0x10b869ed0>"
      ]
     },
     "metadata": {},
     "output_type": "display_data"
    }
   ],
   "source": [
    "# create a learning curve of a logistic regression model\n",
    "\n",
    "plt.figure()\n",
    "plt.plot(knn_train_sizes, knn_train_cv_err, 'o-', label = \"Training Score\")\n",
    "plt.plot(knn_train_sizes, knn_test_cv_err, 'o-', label = \"Test Score\")\n",
    "plt.legend(loc=\"best\")\n",
    "plt.title(\"Learning Curve\")\n",
    "plt.xlabel(\"Training Size\")\n",
    "plt.ylabel(\"Accuracy\")"
   ]
  },
  {
   "cell_type": "markdown",
   "metadata": {},
   "source": [
    "###Challenge 8\n",
    "\n",
    "This is a preview of many other classification algorithms that we will go over. Scikit.learn has the same interface for all of these, so you can use them exactly the same way as you did LogisticRegression and KNeighborsClassifier. Use each of these to classify your data and print the test accuracy of each:\n",
    "\n",
    "Gaussian Naive Bayes\n",
    "\n",
    "```python\n",
    "from sklearn.naive_bayes import GaussianNB\n",
    "```\n",
    "SVM (Support Vector Machine) Classifier\n",
    "```python\n",
    "from sklearn.svm import SVC\n",
    "```\n",
    "Decision Tree\n",
    "```python\n",
    "from sklearn.tree import DecisionTreeClassifier\n",
    "```\n",
    "Random Forest\n",
    "```python\n",
    "from sklearn.ensemble import RandomForestClassifier\n",
    "```"
   ]
  },
  {
   "cell_type": "code",
   "execution_count": 18,
   "metadata": {
    "collapsed": false
   },
   "outputs": [
    {
     "name": "stdout",
     "output_type": "stream",
     "text": [
      "Gaussian Naive Bayes accuracy: 0.930555555556\n"
     ]
    }
   ],
   "source": [
    "# find accuracy of model using Gaussian Naive Bayes\n",
    "\n",
    "GNB = GaussianNB()\n",
    "GNB.fit(train_input, train_outcome)\n",
    "GNB_test_predict = GNB.predict(test_input)\n",
    "GNB_acc = accuracy_score(test_outcome, GNB_test_predict)\n",
    "print \"Gaussian Naive Bayes accuracy: \" + str(GNB_acc)"
   ]
  },
  {
   "cell_type": "code",
   "execution_count": 19,
   "metadata": {
    "collapsed": false
   },
   "outputs": [
    {
     "name": "stdout",
     "output_type": "stream",
     "text": [
      "Support Vector Machine classifier accuracy: 0.965277777778\n"
     ]
    }
   ],
   "source": [
    "# find accuracy of model using Support Vector Machines\n",
    "\n",
    "SVM_c = SVC()\n",
    "SVM_c.fit(train_input, train_outcome)\n",
    "SVM_c_test_predict = SVM_c.predict(test_input)\n",
    "SVM_c_acc = accuracy_score(test_outcome, SVM_c_test_predict)\n",
    "print \"Support Vector Machine classifier accuracy: \" + str(SVM_c_acc)"
   ]
  },
  {
   "cell_type": "code",
   "execution_count": 20,
   "metadata": {
    "collapsed": false
   },
   "outputs": [
    {
     "name": "stdout",
     "output_type": "stream",
     "text": [
      "Decision Tree classifier accuracy: 0.944444444444\n"
     ]
    }
   ],
   "source": [
    "# find accuracy of model using a Decision Tree\n",
    "\n",
    "dtree = DecisionTreeClassifier()\n",
    "dtree.fit(train_input, train_outcome)\n",
    "dtree_test_predict = dtree.predict(test_input)\n",
    "dtree_acc = accuracy_score(test_outcome, dtree_test_predict)\n",
    "print \"Decision Tree classifier accuracy: \" + str(dtree_acc)"
   ]
  },
  {
   "cell_type": "code",
   "execution_count": 21,
   "metadata": {
    "collapsed": false
   },
   "outputs": [
    {
     "name": "stdout",
     "output_type": "stream",
     "text": [
      "Random Forest classifier accuracy: 0.972222222222\n"
     ]
    }
   ],
   "source": [
    "# find accuracy of model using a Random Forest\n",
    "\n",
    "rforest = RandomForestClassifier()\n",
    "rforest.fit(train_input, train_outcome)\n",
    "rforest_test_predict = rforest.predict(test_input)\n",
    "rforest_acc = accuracy_score(test_outcome, rforest_test_predict)\n",
    "print \"Random Forest classifier accuracy: \" + str(rforest_acc)"
   ]
  },
  {
   "cell_type": "code",
   "execution_count": 22,
   "metadata": {
    "collapsed": false
   },
   "outputs": [
    {
     "name": "stdout",
     "output_type": "stream",
     "text": [
      "Accuracy\n",
      "Logistic Regression: 0.972222222222\n",
      "Gaussian Naive Bayes: 0.930555555556\n",
      "Support Vector Machine classifier: 0.965277777778\n",
      "Decision Tree classifier: 0.944444444444\n",
      "Random Forest classifier: 0.972222222222\n"
     ]
    }
   ],
   "source": [
    "# accuracy of different classifiers\n",
    "\n",
    "print \"Accuracy\"\n",
    "print \"Logistic Regression: \" + str(log_acc)\n",
    "print \"Gaussian Naive Bayes: \" + str(GNB_acc)\n",
    "print \"Support Vector Machine classifier: \" + str(SVM_c_acc)\n",
    "print \"Decision Tree classifier: \" + str(dtree_acc)\n",
    "print \"Random Forest classifier: \" + str(rforest_acc)"
   ]
  },
  {
   "cell_type": "markdown",
   "metadata": {},
   "source": [
    "###Challenge 9\n",
    "\n",
    "There is actually a way to do cross validation quickly to get your accuracy results for an algorithm, without separating training and test yourself:\n",
    "\n",
    "```python\n",
    "from sklearn.cross_validation import cross_val_score\n",
    "```\n",
    "Just like the learning_curve function, this takes a classifier object, X and Y. Returns accuracy (or whatever score you prefer by using the scoring keyword argument). Of course, it will return a score for each cross validation fold, so to get the generalized accuracy, you need to take the mean of what it returns.\n",
    "\n",
    "Use this function to calculate the cross validation score of each of the classifiers you tried before."
   ]
  },
  {
   "cell_type": "code",
   "execution_count": 23,
   "metadata": {
    "collapsed": false
   },
   "outputs": [
    {
     "name": "stdout",
     "output_type": "stream",
     "text": [
      "Cross Validation Score\n",
      "Logistic Regression: 0.96091954023\n",
      "Gaussian Naive Bayes: 0.931034482759\n",
      "Support Vector Machine classifier: 0.954022988506\n",
      "Decision Tree classifier: 0.954022988506\n",
      "Random Forest classifier: 0.96091954023\n"
     ]
    }
   ],
   "source": [
    "# calculate the cv score of different supervised leraning models\n",
    "\n",
    "log_cv_score = cross_val_score(LogisticRegression(), votes, party)\n",
    "log_cv_score = np.mean(log_cv_score)\n",
    "\n",
    "gnb_cv_score = cross_val_score(GaussianNB(), votes, party)\n",
    "gnb_cv_score = np.mean(gnb_cv_score)\n",
    "\n",
    "SVM_cv_score = cross_val_score(SVC(), votes, party)\n",
    "SVM_cv_score = np.mean(SVM_cv_score)\n",
    "\n",
    "dtree_cv_score = cross_val_score(DecisionTreeClassifier(), votes, party)\n",
    "dtree_cv_score = np.mean(dtree_cv_score)\n",
    "\n",
    "rforest_cv_score = cross_val_score(RandomForestClassifier(), votes, party)\n",
    "rforest_cv_score = np.mean(rforest_cv_score)\n",
    "\n",
    "print \"Cross Validation Score\"\n",
    "print \"Logistic Regression: \" + str(log_cv_score)\n",
    "print \"Gaussian Naive Bayes: \" + str(gnb_cv_score)\n",
    "print \"Support Vector Machine classifier: \" + str(SVM_cv_score)\n",
    "print \"Decision Tree classifier: \" + str(dtree_cv_score)\n",
    "print \"Random Forest classifier: \" + str(rforest_cv_score)"
   ]
  },
  {
   "cell_type": "markdown",
   "metadata": {},
   "source": [
    "###Challenge 10\n",
    "\n",
    "Instead of 'democrat' or 'republican', can you predict the vote of a representative based on their other votes?\n",
    "\n",
    "Reload the data from scratch. Convert y-->1, n-->0.\n",
    "\n",
    "Choose one vote. Build a classifier (logistic regression or KNN), that uses the other votes (do not use the party as a feature) to predict if the vote will be 1 or 0.\n",
    "\n",
    "Convert each ? to the mode of the column (if a senator has not voted, make their vote 1 if most others voted 1, make it 0 if most others voted 0).\n",
    "\n",
    "Calculate the cross validation accuracy of your classifier for predicting how each representative will vote on the issue."
   ]
  },
  {
   "cell_type": "code",
   "execution_count": 24,
   "metadata": {
    "collapsed": true
   },
   "outputs": [],
   "source": [
    "# read file into pandas dataframe\n",
    "\n",
    "with open(\"house-vote-84.txt\") as f:\n",
    "    house_data2 = pd.read_csv(f, header = None)\n",
    "    \n",
    "column_names = [\"party\"]\n",
    "column_names.extend(list(range(1,17)))\n",
    "\n",
    "house_data2.columns = column_names"
   ]
  },
  {
   "cell_type": "code",
   "execution_count": 25,
   "metadata": {
    "collapsed": false
   },
   "outputs": [],
   "source": [
    "# replace \"y\" with 1 and \"n\" with 0\n",
    "\n",
    "house_data2 = house_data2.replace(\"y\", 1).replace(\"n\", 0).replace(\"?\", np.nan)\n",
    "for column in house_data2.columns[1:]:\n",
    "    house_data2[column] = house_data2[column].replace(np.nan, int(house_data2[column].mode()))"
   ]
  },
  {
   "cell_type": "code",
   "execution_count": 26,
   "metadata": {
    "collapsed": false
   },
   "outputs": [
    {
     "name": "stdout",
     "output_type": "stream",
     "text": [
      "Cross validation score of Logistic Regression classifier using other votes: 0.848223595584\n"
     ]
    }
   ],
   "source": [
    "# divide data into predictor (vote in issue 1-15) and outcome (vote on issue 16)\n",
    "# compute the cross validation score of logistic regression using other votes as predictors\n",
    "\n",
    "issue16 = house_data2.loc[:,16]\n",
    "other_votes = house_data2.loc[:, 1:15]\n",
    "\n",
    "cv_score_pred16_log = cross_val_score(LogisticRegression(), other_votes, issue16).mean()\n",
    "print \"Cross validation score of Logistic Regression classifier using other votes: \" + str(cv_score_pred16_log)"
   ]
  },
  {
   "cell_type": "markdown",
   "metadata": {
    "collapsed": true
   },
   "source": [
    "###Challenge 11\n",
    "\n",
    "Back to your movie data! Choose one categoric feature to predict. I chose MPAA Rating, but genre, month, etc. are all decent choices. If you don't have any non-numeric features, you can make two bins out of a numeric one (like \"Runtime>100 mins\" and \"Runtime<=100 mins\")\n",
    "\n",
    "Make a bar graph of how many of each movie there is in the data. For example, with Ratings, show how many G, PG, PG-13, R movies there are, etc. (basically a histogram of your labels).\n",
    "\n",
    "Predict your outcome variable (labels) using KNN and logistic regression. Calculate their accuracies.\n",
    "\n",
    "Make a baseline stupid predictor that always predicts the label that is present the most in the data. Calculate its accuracy on a test set.\n",
    "\n",
    "How much better do KNN and logistic regression do versus the baseline?\n",
    "\n",
    "What are the coefficients of logistic regression? Which features affect the outcome how?"
   ]
  },
  {
   "cell_type": "code",
   "execution_count": null,
   "metadata": {
    "collapsed": true
   },
   "outputs": [],
   "source": []
  }
 ],
 "metadata": {
  "kernelspec": {
   "display_name": "Python 2",
   "language": "python",
   "name": "python2"
  },
  "language_info": {
   "codemirror_mode": {
    "name": "ipython",
    "version": 2
   },
   "file_extension": ".py",
   "mimetype": "text/x-python",
   "name": "python",
   "nbconvert_exporter": "python",
   "pygments_lexer": "ipython2",
   "version": "2.7.9"
  }
 },
 "nbformat": 4,
 "nbformat_minor": 0
}
