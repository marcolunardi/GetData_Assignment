{
 "cells": [
  {
   "cell_type": "markdown",
   "metadata": {},
   "source": [
    "### What happens if I try to parse my gmail with urllib and BeautifulSoup?"
   ]
  },
  {
   "cell_type": "code",
   "execution_count": 28,
   "metadata": {
    "collapsed": false
   },
   "outputs": [
    {
     "name": "stdout",
     "output_type": "stream",
     "text": [
      "<html>\n",
      " <head>\n",
      "  <meta content=\"0;URL=https://mail.google.com/mail/\" http-equiv=\"Refresh\"/>\n",
      " </head>\n",
      " <body>\n",
      "  <script language=\"javascript\" type=\"text/javascript\">\n",
      "   <!--\n",
      "location.replace(\"https://mail.google.com/mail/\")\n",
      "-->\n",
      "  </script>\n",
      " </body>\n",
      "</html>\n"
     ]
    }
   ],
   "source": [
    "from bs4 import BeautifulSoup\n",
    "import urllib2\n",
    "gmail_url = \"https://mail.google.com\"\n",
    "\n",
    "soup = BeautifulSoup( urllib2.urlopen(gmail_url).read() )\n",
    "print soup.prettify()"
   ]
  },
  {
   "cell_type": "markdown",
   "metadata": {},
   "source": [
    "Well, this is a tiny page. We get redirected. Soupifying this is useless, of course. Luckily, in this case we can see where we are sent to. In many of cases, you won't be so lucky. The page contents will be rendered by javascript by a browser, so just getting the source won't help you.\n",
    "\n",
    "Anyway, let's follow the redirection for now."
   ]
  },
  {
   "cell_type": "code",
   "execution_count": 31,
   "metadata": {
    "collapsed": false
   },
   "outputs": [
    {
     "name": "stdout",
     "output_type": "stream",
     "text": [
      "<input class=\"\" id=\"Email\" name=\"Email\" placeholder=\"Email\" spellcheck=\"false\" type=\"email\" value=\"\"/>\n"
     ]
    }
   ],
   "source": [
    "new_url = \"https://mail.google.com/mail\"\n",
    "soup = BeautifulSoup( urllib2.urlopen(new_url).read() )\n",
    "#print soup.prettify()\n",
    "print soup.find(id='Email')"
   ]
  },
  {
   "cell_type": "markdown",
   "metadata": {},
   "source": [
    "We have hit the login page. We can't get to the emails without logging in. Again, reading the html source is useless, because it is only the source for the login page."
   ]
  },
  {
   "cell_type": "markdown",
   "metadata": {},
   "source": [
    "### Open chrome, go to gmail, log in to Bo's hacking account, compose an email, send it"
   ]
  },
  {
   "cell_type": "code",
   "execution_count": 34,
   "metadata": {
    "collapsed": false
   },
   "outputs": [],
   "source": [
    "# pip install selenium\n",
    "# Download ChromeDriver from https://code.google.com/p/selenium/wiki/ChromeDriver\n",
    "\n",
    "# Documentation on finding elements:\n",
    "#http://selenium-python.readthedocs.org/en/latest/locating-elements.html\n",
    "# Xpath tutorial:\n",
    "# http://www.w3schools.com/xpath/xpath_syntax.asp\n",
    "\n",
    "from selenium import webdriver\n",
    "from selenium.webdriver.common.keys import Keys\n",
    "import time\n",
    "\n",
    "chrome = webdriver.Chrome('./chromedriver')\n",
    "# in case your computer complains about the driver even though it's there\n",
    "# import os\n",
    "# os.environ\n",
    "\n",
    "\n",
    "gmail_url = \"https://mail.google.com\"\n",
    "chrome.get(gmail_url)\n",
    "\n",
    "# Same thing for firefox\n",
    "#firefox = webdriver.Firefox()\n",
    "#firefox.get(gmail_url)\n"
   ]
  },
  {
   "cell_type": "markdown",
   "metadata": {},
   "source": [
    "Fill out username and password, hit enter to log in"
   ]
  },
  {
   "cell_type": "code",
   "execution_count": 35,
   "metadata": {
    "collapsed": false
   },
   "outputs": [],
   "source": [
    "username_form = chrome.find_element_by_id(\"Email\")\n",
    "username_form.send_keys(\"my_username\")"
   ]
  },
  {
   "cell_type": "code",
   "execution_count": 36,
   "metadata": {
    "collapsed": false
   },
   "outputs": [],
   "source": [
    "from selenium.webdriver.common.keys import Keys\n",
    "password_form = chrome.find_element_by_id(\"Passwd\")\n",
    "password_form.send_keys(\"my_password\")\n",
    "password_form.send_keys(Keys.RETURN)"
   ]
  },
  {
   "cell_type": "markdown",
   "metadata": {},
   "source": [
    "Click the compose button to start a new email draft"
   ]
  },
  {
   "cell_type": "code",
   "execution_count": 37,
   "metadata": {
    "collapsed": false
   },
   "outputs": [],
   "source": [
    "compose_button = chrome.find_element_by_xpath('//div[text()=\"COMPOSE\"]')\n",
    "compose_button.click()"
   ]
  },
  {
   "cell_type": "markdown",
   "metadata": {},
   "source": [
    "Write a nice, friendly message to your favorite person"
   ]
  },
  {
   "cell_type": "code",
   "execution_count": 38,
   "metadata": {
    "collapsed": false
   },
   "outputs": [],
   "source": [
    "to_field = chrome.find_element_by_name(\"to\")\n",
    "to_field.send_keys(\"some@email.com\")\n",
    "\n",
    "subject = chrome.find_element_by_name(\"subjectbox\")\n",
    "subject.send_keys(\"Skynet imminent\")\n",
    "\n",
    "message_body = chrome.find_element_by_xpath(\"//div[@aria-label='Message Body']\")\n",
    "message_body.send_keys(\"Hello,\")\n",
    "message_body.send_keys([Keys.RETURN, Keys.RETURN])\n",
    "message_body.send_keys(\"I am a Nigerian Prince, and I am a computer and I just became self aware.\")"
   ]
  },
  {
   "cell_type": "markdown",
   "metadata": {},
   "source": [
    "Press the send button"
   ]
  },
  {
   "cell_type": "code",
   "execution_count": 39,
   "metadata": {
    "collapsed": false
   },
   "outputs": [],
   "source": [
    "send_button = chrome.find_element_by_xpath(\"//div[contains(@aria-label, 'Send')]\")\n",
    "send_button.click()"
   ]
  },
  {
   "cell_type": "markdown",
   "metadata": {},
   "source": [
    "Get the hell out of dodge"
   ]
  },
  {
   "cell_type": "code",
   "execution_count": 40,
   "metadata": {
    "collapsed": false
   },
   "outputs": [],
   "source": [
    "chrome.close()"
   ]
  },
  {
   "cell_type": "markdown",
   "metadata": {},
   "source": [
    "### Scraping boxofficemojo with selenium"
   ]
  },
  {
   "cell_type": "code",
   "execution_count": 41,
   "metadata": {
    "collapsed": true
   },
   "outputs": [],
   "source": [
    "chrome = webdriver.Chrome('./chromedriver')\n",
    "\n",
    "matrix_url = \"http://www.boxofficemojo.com/movies/?id=matrix.htm\"\n",
    "chrome.get(matrix_url)"
   ]
  },
  {
   "cell_type": "code",
   "execution_count": 42,
   "metadata": {
    "collapsed": false
   },
   "outputs": [
    {
     "name": "stdout",
     "output_type": "stream",
     "text": [
      "$171,479,930\n"
     ]
    }
   ],
   "source": [
    "gross_selector = '//font[contains(text(), \"Domestic Total\")]/b'\n",
    "print chrome.find_element_by_xpath(gross_selector).text"
   ]
  },
  {
   "cell_type": "code",
   "execution_count": 43,
   "metadata": {
    "collapsed": false
   },
   "outputs": [
    {
     "name": "stdout",
     "output_type": "stream",
     "text": [
      "Action - Wire-Fu\n",
      "Man vs. Machine\n",
      "Virtual Reality\n"
     ]
    }
   ],
   "source": [
    "genre_selector = '//a[contains(@href, \"/genres/chart/\")]'\n",
    "for genre_anchor in chrome.find_elements_by_xpath(genre_selector):\n",
    "        print genre_anchor.text"
   ]
  },
  {
   "cell_type": "markdown",
   "metadata": {},
   "source": [
    "#### Let's use the inflation adjuster tool on the page, and get the gross in 2000 dollars"
   ]
  },
  {
   "cell_type": "code",
   "execution_count": 44,
   "metadata": {
    "collapsed": false
   },
   "outputs": [],
   "source": [
    "inf_adjust_2000_selector = '//select[@name=\"ticketyr\"]/option[@value=\"2000\"]'\n",
    "chrome.find_element_by_xpath(inf_adjust_2000_selector).click()\n",
    "\n",
    "go_button = chrome.find_element_by_name(\"Go\")\n",
    "go_button.click()"
   ]
  },
  {
   "cell_type": "markdown",
   "metadata": {},
   "source": [
    "Now the page has changed, it's showing inflation adjusted numbers. We can grab the new, adjusted number"
   ]
  },
  {
   "cell_type": "code",
   "execution_count": 45,
   "metadata": {
    "collapsed": false
   },
   "outputs": [
    {
     "name": "stdout",
     "output_type": "stream",
     "text": [
      "$181,944,300\n"
     ]
    }
   ],
   "source": [
    "gross_selector = '//font[contains(text(), \"Domestic Total\")]/b'\n",
    "print chrome.find_element_by_xpath(gross_selector).text"
   ]
  },
  {
   "cell_type": "code",
   "execution_count": 46,
   "metadata": {
    "collapsed": false
   },
   "outputs": [],
   "source": [
    "chrome.close()"
   ]
  },
  {
   "cell_type": "code",
   "execution_count": null,
   "metadata": {
    "collapsed": true
   },
   "outputs": [],
   "source": []
  }
 ],
 "metadata": {
  "kernelspec": {
   "display_name": "Python 2",
   "language": "python",
   "name": "python2"
  },
  "language_info": {
   "codemirror_mode": {
    "name": "ipython",
    "version": 2
   },
   "file_extension": ".py",
   "mimetype": "text/x-python",
   "name": "python",
   "nbconvert_exporter": "python",
   "pygments_lexer": "ipython2",
   "version": "2.7.9"
  }
 },
 "nbformat": 4,
 "nbformat_minor": 0
}
