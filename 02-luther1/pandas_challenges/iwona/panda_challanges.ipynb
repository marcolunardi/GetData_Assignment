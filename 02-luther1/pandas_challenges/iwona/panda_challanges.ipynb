{
 "cells": [
  {
   "cell_type": "markdown",
   "metadata": {},
   "source": [
    "Challenge 1\n",
    "Plot domestic total gross over time"
   ]
  },
  {
   "cell_type": "code",
   "execution_count": 3,
   "metadata": {
    "collapsed": false
   },
   "outputs": [],
   "source": [
    "#!pip install matplotlib\n",
    "import pandas as pd\n",
    "import numpy as np\n",
    "import matplotlib.pyplot as plt"
   ]
  },
  {
   "cell_type": "code",
   "execution_count": 6,
   "metadata": {
    "collapsed": false
   },
   "outputs": [
    {
     "data": {
      "text/html": [
       "<div style=\"max-height:1000px;max-width:1500px;overflow:auto;\">\n",
       "<table border=\"1\" class=\"dataframe\">\n",
       "  <thead>\n",
       "    <tr style=\"text-align: right;\">\n",
       "      <th></th>\n",
       "      <th>Title</th>\n",
       "      <th>Budget</th>\n",
       "      <th>DomesticTotalGross</th>\n",
       "      <th>Director</th>\n",
       "      <th>Rating</th>\n",
       "      <th>Runtime</th>\n",
       "    </tr>\n",
       "    <tr>\n",
       "      <th>ReleaseDate</th>\n",
       "      <th></th>\n",
       "      <th></th>\n",
       "      <th></th>\n",
       "      <th></th>\n",
       "      <th></th>\n",
       "      <th></th>\n",
       "    </tr>\n",
       "  </thead>\n",
       "  <tbody>\n",
       "    <tr>\n",
       "      <th>2013-11-22</th>\n",
       "      <td>The Hunger Games: Catching Fire</td>\n",
       "      <td>130000000</td>\n",
       "      <td>424668047</td>\n",
       "      <td>Francis Lawrence</td>\n",
       "      <td>PG-13</td>\n",
       "      <td>146</td>\n",
       "    </tr>\n",
       "    <tr>\n",
       "      <th>2013-05-03</th>\n",
       "      <td>Iron Man 3</td>\n",
       "      <td>200000000</td>\n",
       "      <td>409013994</td>\n",
       "      <td>Shane Black</td>\n",
       "      <td>PG-13</td>\n",
       "      <td>129</td>\n",
       "    </tr>\n",
       "    <tr>\n",
       "      <th>2013-11-22</th>\n",
       "      <td>Frozen</td>\n",
       "      <td>150000000</td>\n",
       "      <td>400738009</td>\n",
       "      <td>Chris BuckJennifer Lee</td>\n",
       "      <td>PG</td>\n",
       "      <td>108</td>\n",
       "    </tr>\n",
       "    <tr>\n",
       "      <th>2013-07-03</th>\n",
       "      <td>Despicable Me 2</td>\n",
       "      <td>76000000</td>\n",
       "      <td>368061265</td>\n",
       "      <td>Pierre CoffinChris Renaud</td>\n",
       "      <td>PG</td>\n",
       "      <td>98</td>\n",
       "    </tr>\n",
       "    <tr>\n",
       "      <th>2013-06-14</th>\n",
       "      <td>Man of Steel</td>\n",
       "      <td>225000000</td>\n",
       "      <td>291045518</td>\n",
       "      <td>Zack Snyder</td>\n",
       "      <td>PG-13</td>\n",
       "      <td>143</td>\n",
       "    </tr>\n",
       "  </tbody>\n",
       "</table>\n",
       "</div>"
      ],
      "text/plain": [
       "                                       Title     Budget  DomesticTotalGross  \\\n",
       "ReleaseDate                                                                   \n",
       "2013-11-22   The Hunger Games: Catching Fire  130000000           424668047   \n",
       "2013-05-03                        Iron Man 3  200000000           409013994   \n",
       "2013-11-22                            Frozen  150000000           400738009   \n",
       "2013-07-03                   Despicable Me 2   76000000           368061265   \n",
       "2013-06-14                      Man of Steel  225000000           291045518   \n",
       "\n",
       "                              Director Rating  Runtime  \n",
       "ReleaseDate                                             \n",
       "2013-11-22            Francis Lawrence  PG-13      146  \n",
       "2013-05-03                 Shane Black  PG-13      129  \n",
       "2013-11-22      Chris BuckJennifer Lee     PG      108  \n",
       "2013-07-03   Pierre CoffinChris Renaud     PG       98  \n",
       "2013-06-14                 Zack Snyder  PG-13      143  "
      ]
     },
     "execution_count": 6,
     "metadata": {},
     "output_type": "execute_result"
    }
   ],
   "source": [
    "movies = pd.read_csv('2013_movies.csv',header=0,index_col=6,parse_dates=True)\n",
    "#movies = pd.read_csv('2013_movies.csv')\n",
    "movies.head()\n",
    "#type(movies['Runtime'])"
   ]
  },
  {
   "cell_type": "code",
   "execution_count": 15,
   "metadata": {
    "collapsed": false
   },
   "outputs": [
    {
     "name": "stdout",
     "output_type": "stream",
     "text": [
      "Index([u'Title', u'Budget', u'DomesticTotalGross', u'Director', u'Rating', u'Runtime'], dtype='object')\n",
      "<class 'pandas.tseries.index.DatetimeIndex'>\n",
      "[2013-11-22, ..., 2013-12-18]\n",
      "Length: 100, Freq: None, Timezone: None\n"
     ]
    }
   ],
   "source": [
    "print movies.columns\n",
    "print movies.index"
   ]
  },
  {
   "cell_type": "code",
   "execution_count": 9,
   "metadata": {
    "collapsed": false
   },
   "outputs": [
    {
     "data": {
      "text/plain": [
       "<matplotlib.axes._subplots.AxesSubplot at 0x1123b0e50>"
      ]
     },
     "execution_count": 9,
     "metadata": {},
     "output_type": "execute_result"
    },
    {
     "data": {
      "image/png": "[encoded data removed]",
      "text/plain": [
       "<matplotlib.figure.Figure at 0x10f982fd0>"
      ]
     },
     "metadata": {},
     "output_type": "display_data"
    }
   ],
   "source": [
    "%matplotlib inline\n",
    "movies['DomesticTotalGross'].plot(kind='line')\n",
    "#plt.plot(movies['DomesticTotalGross'])"
   ]
  },
  {
   "cell_type": "markdown",
   "metadata": {},
   "source": [
    "\n",
    "Challenge 2\n",
    "Plot runtime vs domestic total gross\n"
   ]
  },
  {
   "cell_type": "code",
   "execution_count": 12,
   "metadata": {
    "collapsed": false
   },
   "outputs": [
    {
     "data": {
      "text/plain": [
       "<matplotlib.text.Text at 0x112840550>"
      ]
     },
     "execution_count": 12,
     "metadata": {},
     "output_type": "execute_result"
    },
    {
     "data": {
      "image/png": "[encoded data removed]",
      "text/plain": [
       "<matplotlib.figure.Figure at 0x1125a5510>"
      ]
     },
     "metadata": {},
     "output_type": "display_data"
    }
   ],
   "source": [
    "plt.scatter(movies['DomesticTotalGross'],movies[['Runtime']])\n",
    "plt.title('Runtime vs. Domestic Total Gross')\n",
    "plt.xlabel('Domestic Total Gross (USD)')\n",
    "plt.ylabel('Runtime (min)')"
   ]
  },
  {
   "cell_type": "markdown",
   "metadata": {},
   "source": [
    "\n",
    "Challenge 3\n",
    "Group your data by Rating and find the average runtime and domestic total gross at each level of Rating\n"
   ]
  },
  {
   "cell_type": "code",
   "execution_count": 27,
   "metadata": {
    "collapsed": false
   },
   "outputs": [
    {
     "name": "stdout",
     "output_type": "stream",
     "text": [
      "Rating\n",
      "G        107.000000\n",
      "PG        99.933333\n",
      "PG-13    117.510638\n",
      "R        110.729730\n",
      "Name: Runtime, dtype: float64\n"
     ]
    }
   ],
   "source": [
    "movies_groupedby_rating = movies.groupby('Rating')\n",
    "print movies_groupedby_rating['Runtime'].mean()"
   ]
  },
  {
   "cell_type": "markdown",
   "metadata": {},
   "source": [
    "\n",
    "Challenge 4\n",
    "Make one figure with (N=the number of MPAA ratings there are) subplots, and in each plot the release date vs the domestic total gross\n"
   ]
  },
  {
   "cell_type": "code",
   "execution_count": 27,
   "metadata": {
    "collapsed": false
   },
   "outputs": [
    {
     "data": {
      "text/html": [
       "<div style=\"max-height:1000px;max-width:1500px;overflow:auto;\">\n",
       "<table border=\"1\" class=\"dataframe\">\n",
       "  <thead>\n",
       "    <tr style=\"text-align: right;\">\n",
       "      <th></th>\n",
       "      <th>Title</th>\n",
       "      <th>Budget</th>\n",
       "      <th>DomesticTotalGross</th>\n",
       "      <th>Director</th>\n",
       "      <th>Rating</th>\n",
       "      <th>Runtime</th>\n",
       "    </tr>\n",
       "    <tr>\n",
       "      <th>ReleaseDate</th>\n",
       "      <th></th>\n",
       "      <th></th>\n",
       "      <th></th>\n",
       "      <th></th>\n",
       "      <th></th>\n",
       "      <th></th>\n",
       "    </tr>\n",
       "  </thead>\n",
       "  <tbody>\n",
       "    <tr>\n",
       "      <th>2013-06-21</th>\n",
       "      <td>Monsters University</td>\n",
       "      <td>NaN</td>\n",
       "      <td>268492764</td>\n",
       "      <td>Dan Scanlon</td>\n",
       "      <td>G</td>\n",
       "      <td>107</td>\n",
       "    </tr>\n",
       "  </tbody>\n",
       "</table>\n",
       "</div>"
      ],
      "text/plain": [
       "                           Title  Budget  DomesticTotalGross     Director  \\\n",
       "ReleaseDate                                                                 \n",
       "2013-06-21   Monsters University     NaN           268492764  Dan Scanlon   \n",
       "\n",
       "            Rating  Runtime  \n",
       "ReleaseDate                  \n",
       "2013-06-21       G      107  "
      ]
     },
     "execution_count": 27,
     "metadata": {},
     "output_type": "execute_result"
    }
   ],
   "source": [
    "movies.loc[movies['Rating'] == 'G'].head()"
   ]
  },
  {
   "cell_type": "code",
   "execution_count": 25,
   "metadata": {
    "collapsed": false
   },
   "outputs": [],
   "source": [
    "movies.head()\n",
    "movies.loc[movies['Rating'] == 'G'].head()\n",
    "movies.loc[movies['Rating'] == 'PG'].head()\n",
    "movies.loc[movies['Rating'] == 'PG-13'].head()\n",
    "movies.loc[movies['Rating'] == 'R'].head()\n",
    "plot = plt.figure(1)\n",
    "movies.loc[movies['Rating']=='G']['DomesticTotalGross'].plot(label='G')\n",
    "movies.loc[movies['Rating']=='PG']['DomesticTotalGross'].plot(label='PG')\n",
    "movies.loc[movies['Rating']=='PG-13']['DomesticTotalGross'].plot(label='PG-13')\n",
    "movies.loc[movies['Rating']=='R']['DomesticTotalGross'].plot(label=\"R\")\n",
    "plt.title('Time dependence on Domestic Total Gross per MPAA rating')\n",
    "plt.ylabel('DomesticTotalGross (USD)')\n",
    "plt.legend()\n",
    "plt.show()"
   ]
  },
  {
   "cell_type": "markdown",
   "metadata": {},
   "source": [
    "\n",
    "Challenge 5\n",
    "What director in your dataset has the highest gross per movie?\n"
   ]
  },
  {
   "cell_type": "code",
   "execution_count": 54,
   "metadata": {
    "collapsed": false
   },
   "outputs": [
    {
     "data": {
      "text/plain": [
       "Director\n",
       "Francis Lawrence             424668047\n",
       "Shane Black                  409013994\n",
       "Chris BuckJennifer Lee       400738009\n",
       "Pierre CoffinChris Renaud    368061265\n",
       "Zack Snyder                  291045518\n",
       "Name: DomesticTotalGross, dtype: int64"
      ]
     },
     "execution_count": 54,
     "metadata": {},
     "output_type": "execute_result"
    }
   ],
   "source": [
    "movies.head()\n",
    "movies_groupedby_director = movies.groupby('Director')\n",
    "DTG_by_director = movies_groupedby_director['DomesticTotalGross'].sum()\n",
    "DTG_by_director.head()\n",
    "DTG_by_director.sort(ascending=False)\n",
    "DTG_by_director.head()"
   ]
  },
  {
   "cell_type": "markdown",
   "metadata": {},
   "source": [
    "\n",
    "Challenge 6\n",
    "Bin your dataset into years (if applicable) and make a bar graph with error bars of gross each year\n"
   ]
  },
  {
   "cell_type": "code",
   "execution_count": 57,
   "metadata": {
    "collapsed": true
   },
   "outputs": [],
   "source": [
    "from datetime import datetime, time\n",
    "# only 2013\n",
    "movies_groupedby_month = movies.groupby(lambda x: x.month)\n",
    "DTG_by_month = movies_groupedby_month['DomesticTotalGross'].sum()\n",
    "DTG_by_month_std = movies_groupedby_month['DomesticTotalGross'].std()\n",
    "plt.bar(np.array(DTG_by_month.index))"
   ]
  }
 ],
 "metadata": {
  "kernelspec": {
   "display_name": "Python 2",
   "language": "python",
   "name": "python2"
  },
  "language_info": {
   "codemirror_mode": {
    "name": "ipython",
    "version": 2
   },
   "file_extension": ".py",
   "mimetype": "text/x-python",
   "name": "python",
   "nbconvert_exporter": "python",
   "pygments_lexer": "ipython2",
   "version": "2.7.9"
  }
 },
 "nbformat": 4,
 "nbformat_minor": 0
}
