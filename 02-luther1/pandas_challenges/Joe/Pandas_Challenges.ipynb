{
 "cells": [
  {
   "cell_type": "code",
   "execution_count": 238,
   "metadata": {
    "collapsed": false
   },
   "outputs": [],
   "source": [
    "import pandas as pd\n",
    "import matplotlib.pyplot as plt\n",
    "import datetime\n",
    "import dateutil.parser\n",
    "%matplotlib inline"
   ]
  },
  {
   "cell_type": "markdown",
   "metadata": {},
   "source": [
    "<strong>Challenge 1<strong>"
   ]
  },
  {
   "cell_type": "code",
   "execution_count": 239,
   "metadata": {
    "collapsed": false
   },
   "outputs": [],
   "source": [
    "df = pd.read_csv('2013_movies.csv')"
   ]
  },
  {
   "cell_type": "code",
   "execution_count": 240,
   "metadata": {
    "collapsed": false
   },
   "outputs": [],
   "source": [
    "temp = pd.DatetimeIndex(df['ReleaseDate'])\n",
    "df['ReleaseDate'] = temp.date\n",
    "df['Time'] = temp.time"
   ]
  },
  {
   "cell_type": "code",
   "execution_count": 242,
   "metadata": {
    "collapsed": false
   },
   "outputs": [
    {
     "data": {
      "text/html": [
       "<div style=\"max-height:1000px;max-width:1500px;overflow:auto;\">\n",
       "<table border=\"1\" class=\"dataframe\">\n",
       "  <thead>\n",
       "    <tr style=\"text-align: right;\">\n",
       "      <th></th>\n",
       "      <th>Title</th>\n",
       "      <th>Budget</th>\n",
       "      <th>DomesticTotalGross</th>\n",
       "      <th>Director</th>\n",
       "      <th>Rating</th>\n",
       "      <th>Runtime</th>\n",
       "      <th>ReleaseDate</th>\n",
       "      <th>Time</th>\n",
       "    </tr>\n",
       "  </thead>\n",
       "  <tbody>\n",
       "    <tr>\n",
       "      <th>0</th>\n",
       "      <td> The Hunger Games: Catching Fire</td>\n",
       "      <td> 130000000</td>\n",
       "      <td> 424668047</td>\n",
       "      <td>          Francis Lawrence</td>\n",
       "      <td> PG-13</td>\n",
       "      <td> 146</td>\n",
       "      <td> 2013-11-22</td>\n",
       "      <td> 00:00:00</td>\n",
       "    </tr>\n",
       "    <tr>\n",
       "      <th>1</th>\n",
       "      <td>                      Iron Man 3</td>\n",
       "      <td> 200000000</td>\n",
       "      <td> 409013994</td>\n",
       "      <td>               Shane Black</td>\n",
       "      <td> PG-13</td>\n",
       "      <td> 129</td>\n",
       "      <td> 2013-05-03</td>\n",
       "      <td> 00:00:00</td>\n",
       "    </tr>\n",
       "    <tr>\n",
       "      <th>2</th>\n",
       "      <td>                          Frozen</td>\n",
       "      <td> 150000000</td>\n",
       "      <td> 400738009</td>\n",
       "      <td>    Chris BuckJennifer Lee</td>\n",
       "      <td>    PG</td>\n",
       "      <td> 108</td>\n",
       "      <td> 2013-11-22</td>\n",
       "      <td> 00:00:00</td>\n",
       "    </tr>\n",
       "    <tr>\n",
       "      <th>3</th>\n",
       "      <td>                 Despicable Me 2</td>\n",
       "      <td>  76000000</td>\n",
       "      <td> 368061265</td>\n",
       "      <td> Pierre CoffinChris Renaud</td>\n",
       "      <td>    PG</td>\n",
       "      <td>  98</td>\n",
       "      <td> 2013-07-03</td>\n",
       "      <td> 00:00:00</td>\n",
       "    </tr>\n",
       "    <tr>\n",
       "      <th>4</th>\n",
       "      <td>                    Man of Steel</td>\n",
       "      <td> 225000000</td>\n",
       "      <td> 291045518</td>\n",
       "      <td>               Zack Snyder</td>\n",
       "      <td> PG-13</td>\n",
       "      <td> 143</td>\n",
       "      <td> 2013-06-14</td>\n",
       "      <td> 00:00:00</td>\n",
       "    </tr>\n",
       "  </tbody>\n",
       "</table>\n",
       "</div>"
      ],
      "text/plain": [
       "                             Title     Budget  DomesticTotalGross  \\\n",
       "0  The Hunger Games: Catching Fire  130000000           424668047   \n",
       "1                       Iron Man 3  200000000           409013994   \n",
       "2                           Frozen  150000000           400738009   \n",
       "3                  Despicable Me 2   76000000           368061265   \n",
       "4                     Man of Steel  225000000           291045518   \n",
       "\n",
       "                    Director Rating  Runtime ReleaseDate      Time  \n",
       "0           Francis Lawrence  PG-13      146  2013-11-22  00:00:00  \n",
       "1                Shane Black  PG-13      129  2013-05-03  00:00:00  \n",
       "2     Chris BuckJennifer Lee     PG      108  2013-11-22  00:00:00  \n",
       "3  Pierre CoffinChris Renaud     PG       98  2013-07-03  00:00:00  \n",
       "4                Zack Snyder  PG-13      143  2013-06-14  00:00:00  "
      ]
     },
     "execution_count": 242,
     "metadata": {},
     "output_type": "execute_result"
    }
   ],
   "source": [
    "df.head()"
   ]
  },
  {
   "cell_type": "code",
   "execution_count": 243,
   "metadata": {
    "collapsed": false
   },
   "outputs": [],
   "source": [
    "df_sorted = df.sort('ReleaseDate')"
   ]
  },
  {
   "cell_type": "code",
   "execution_count": 244,
   "metadata": {
    "collapsed": false
   },
   "outputs": [
    {
     "data": {
      "text/html": [
       "<div style=\"max-height:1000px;max-width:1500px;overflow:auto;\">\n",
       "<table border=\"1\" class=\"dataframe\">\n",
       "  <thead>\n",
       "    <tr style=\"text-align: right;\">\n",
       "      <th></th>\n",
       "      <th>Title</th>\n",
       "      <th>Budget</th>\n",
       "      <th>DomesticTotalGross</th>\n",
       "      <th>Director</th>\n",
       "      <th>Rating</th>\n",
       "      <th>Runtime</th>\n",
       "      <th>ReleaseDate</th>\n",
       "      <th>Time</th>\n",
       "    </tr>\n",
       "  </thead>\n",
       "  <tbody>\n",
       "    <tr>\n",
       "      <th>83</th>\n",
       "      <td>                Texas Chainsaw 3D</td>\n",
       "      <td>      NaN</td>\n",
       "      <td>  34341945</td>\n",
       "      <td>   John Luessenhop</td>\n",
       "      <td>     R</td>\n",
       "      <td>  92</td>\n",
       "      <td> 2013-01-04</td>\n",
       "      <td> 00:00:00</td>\n",
       "    </tr>\n",
       "    <tr>\n",
       "      <th>76</th>\n",
       "      <td>                  A Haunted House</td>\n",
       "      <td>  2500000</td>\n",
       "      <td>  40041683</td>\n",
       "      <td>    Michael Tiddes</td>\n",
       "      <td>     R</td>\n",
       "      <td>  80</td>\n",
       "      <td> 2013-01-11</td>\n",
       "      <td> 00:00:00</td>\n",
       "    </tr>\n",
       "    <tr>\n",
       "      <th>70</th>\n",
       "      <td>                   Gangster Squad</td>\n",
       "      <td> 60000000</td>\n",
       "      <td>  46000903</td>\n",
       "      <td>   Ruben Fleischer</td>\n",
       "      <td>     R</td>\n",
       "      <td> 113</td>\n",
       "      <td> 2013-01-11</td>\n",
       "      <td> 00:00:00</td>\n",
       "    </tr>\n",
       "    <tr>\n",
       "      <th>46</th>\n",
       "      <td>                             Mama</td>\n",
       "      <td> 15000000</td>\n",
       "      <td>  71628180</td>\n",
       "      <td> Andres Muschietti</td>\n",
       "      <td> PG-13</td>\n",
       "      <td> 100</td>\n",
       "      <td> 2013-01-18</td>\n",
       "      <td> 00:00:00</td>\n",
       "    </tr>\n",
       "    <tr>\n",
       "      <th>63</th>\n",
       "      <td> Hansel and Gretel: Witch Hunters</td>\n",
       "      <td> 50000000</td>\n",
       "      <td>  55703475</td>\n",
       "      <td>     Tommy Wirkola</td>\n",
       "      <td>     R</td>\n",
       "      <td>  88</td>\n",
       "      <td> 2013-01-25</td>\n",
       "      <td> 00:00:00</td>\n",
       "    </tr>\n",
       "    <tr>\n",
       "      <th>52</th>\n",
       "      <td>                      Warm Bodies</td>\n",
       "      <td> 35000000</td>\n",
       "      <td>  66380662</td>\n",
       "      <td>   Jonathan Levine</td>\n",
       "      <td> PG-13</td>\n",
       "      <td>  97</td>\n",
       "      <td> 2013-02-01</td>\n",
       "      <td> 00:00:00</td>\n",
       "    </tr>\n",
       "    <tr>\n",
       "      <th>87</th>\n",
       "      <td>                     Side Effects</td>\n",
       "      <td>      NaN</td>\n",
       "      <td>  32172757</td>\n",
       "      <td> Steven Soderbergh</td>\n",
       "      <td>     R</td>\n",
       "      <td> 106</td>\n",
       "      <td> 2013-02-08</td>\n",
       "      <td> 00:00:00</td>\n",
       "    </tr>\n",
       "    <tr>\n",
       "      <th>19</th>\n",
       "      <td>                   Identity Thief</td>\n",
       "      <td> 35000000</td>\n",
       "      <td> 134506920</td>\n",
       "      <td>       Seth Gordon</td>\n",
       "      <td>     R</td>\n",
       "      <td> 111</td>\n",
       "      <td> 2013-02-08</td>\n",
       "      <td> 00:00:00</td>\n",
       "    </tr>\n",
       "    <tr>\n",
       "      <th>47</th>\n",
       "      <td>                       Safe Haven</td>\n",
       "      <td> 28000000</td>\n",
       "      <td>  71349120</td>\n",
       "      <td>   Lasse Hallstrom</td>\n",
       "      <td> PG-13</td>\n",
       "      <td> 115</td>\n",
       "      <td> 2013-02-14</td>\n",
       "      <td> 00:00:00</td>\n",
       "    </tr>\n",
       "    <tr>\n",
       "      <th>51</th>\n",
       "      <td>           A Good Day to Die Hard</td>\n",
       "      <td> 92000000</td>\n",
       "      <td>  67349198</td>\n",
       "      <td>        John Moore</td>\n",
       "      <td>     R</td>\n",
       "      <td>  97</td>\n",
       "      <td> 2013-02-14</td>\n",
       "      <td> 00:00:00</td>\n",
       "    </tr>\n",
       "  </tbody>\n",
       "</table>\n",
       "</div>"
      ],
      "text/plain": [
       "                               Title    Budget  DomesticTotalGross  \\\n",
       "83                 Texas Chainsaw 3D       NaN            34341945   \n",
       "76                   A Haunted House   2500000            40041683   \n",
       "70                    Gangster Squad  60000000            46000903   \n",
       "46                              Mama  15000000            71628180   \n",
       "63  Hansel and Gretel: Witch Hunters  50000000            55703475   \n",
       "52                       Warm Bodies  35000000            66380662   \n",
       "87                      Side Effects       NaN            32172757   \n",
       "19                    Identity Thief  35000000           134506920   \n",
       "47                        Safe Haven  28000000            71349120   \n",
       "51            A Good Day to Die Hard  92000000            67349198   \n",
       "\n",
       "             Director Rating  Runtime ReleaseDate      Time  \n",
       "83    John Luessenhop      R       92  2013-01-04  00:00:00  \n",
       "76     Michael Tiddes      R       80  2013-01-11  00:00:00  \n",
       "70    Ruben Fleischer      R      113  2013-01-11  00:00:00  \n",
       "46  Andres Muschietti  PG-13      100  2013-01-18  00:00:00  \n",
       "63      Tommy Wirkola      R       88  2013-01-25  00:00:00  \n",
       "52    Jonathan Levine  PG-13       97  2013-02-01  00:00:00  \n",
       "87  Steven Soderbergh      R      106  2013-02-08  00:00:00  \n",
       "19        Seth Gordon      R      111  2013-02-08  00:00:00  \n",
       "47    Lasse Hallstrom  PG-13      115  2013-02-14  00:00:00  \n",
       "51         John Moore      R       97  2013-02-14  00:00:00  "
      ]
     },
     "execution_count": 244,
     "metadata": {},
     "output_type": "execute_result"
    }
   ],
   "source": [
    "df_sorted[:10]"
   ]
  },
  {
   "cell_type": "code",
   "execution_count": 251,
   "metadata": {
    "collapsed": false
   },
   "outputs": [
    {
     "data": {
      "image/png": "[encoded data removed]",
      "text/plain": [
       "<matplotlib.figure.Figure at 0x11027e4d0>"
      ]
     },
     "metadata": {},
     "output_type": "display_data"
    }
   ],
   "source": [
    "plt.figure(figsize=(15,8))\n",
    "plt.plot(df_sorted['ReleaseDate'], df_sorted['DomesticTotalGross'])\n",
    "#plt.xticks('ReleaseDate', 'ReleaseDate', rotation=90)\n",
    "plt.ylabel('Domestic Total Gross')\n",
    "plt.xlabel('Release Date')\n",
    "plt.title('Domestic Total Gross Over Time')\n",
    "plt.show()"
   ]
  },
  {
   "cell_type": "markdown",
   "metadata": {},
   "source": [
    "###Challenge 2"
   ]
  },
  {
   "cell_type": "code",
   "execution_count": 94,
   "metadata": {
    "collapsed": false
   },
   "outputs": [
    {
     "data": {
      "text/plain": [
       "<matplotlib.text.Text at 0x10e70a150>"
      ]
     },
     "execution_count": 94,
     "metadata": {},
     "output_type": "execute_result"
    },
    {
     "data": {
      "image/png": "[encoded data removed]",
      "text/plain": [
       "<matplotlib.figure.Figure at 0x10d15b990>"
      ]
     },
     "metadata": {},
     "output_type": "display_data"
    }
   ],
   "source": [
    "plt.scatter(df['Runtime'], df['DomesticTotalGross'])\n",
    "plt.xlabel('Runtime')\n",
    "plt.ylabel('Domestic Total Gross')\n",
    "plt.title('Movie Runtime vs. Domestic Total Gross')"
   ]
  },
  {
   "cell_type": "markdown",
   "metadata": {},
   "source": [
    "### Challenge 3"
   ]
  },
  {
   "cell_type": "code",
   "execution_count": 123,
   "metadata": {
    "collapsed": false
   },
   "outputs": [],
   "source": [
    "rating_group = df_sorted.groupby('Rating').mean()"
   ]
  },
  {
   "cell_type": "code",
   "execution_count": 140,
   "metadata": {
    "collapsed": false
   },
   "outputs": [
    {
     "data": {
      "text/html": [
       "<div style=\"max-height:1000px;max-width:1500px;overflow:auto;\">\n",
       "<table border=\"1\" class=\"dataframe\">\n",
       "  <thead>\n",
       "    <tr style=\"text-align: right;\">\n",
       "      <th></th>\n",
       "      <th>DomesticTotalGross</th>\n",
       "      <th>Runtime</th>\n",
       "    </tr>\n",
       "    <tr>\n",
       "      <th>Rating</th>\n",
       "      <th></th>\n",
       "      <th></th>\n",
       "    </tr>\n",
       "  </thead>\n",
       "  <tbody>\n",
       "    <tr>\n",
       "      <th>G</th>\n",
       "      <td> 2.684928e+08</td>\n",
       "      <td> 107.000000</td>\n",
       "    </tr>\n",
       "    <tr>\n",
       "      <th>PG</th>\n",
       "      <td> 1.311357e+08</td>\n",
       "      <td>  99.933333</td>\n",
       "    </tr>\n",
       "    <tr>\n",
       "      <th>PG-13</th>\n",
       "      <td> 1.114498e+08</td>\n",
       "      <td> 117.510638</td>\n",
       "    </tr>\n",
       "    <tr>\n",
       "      <th>R</th>\n",
       "      <td> 6.989243e+07</td>\n",
       "      <td> 110.729730</td>\n",
       "    </tr>\n",
       "  </tbody>\n",
       "</table>\n",
       "</div>"
      ],
      "text/plain": [
       "        DomesticTotalGross     Runtime\n",
       "Rating                                \n",
       "G             2.684928e+08  107.000000\n",
       "PG            1.311357e+08   99.933333\n",
       "PG-13         1.114498e+08  117.510638\n",
       "R             6.989243e+07  110.729730"
      ]
     },
     "execution_count": 140,
     "metadata": {},
     "output_type": "execute_result"
    }
   ],
   "source": [
    "rating_group.ix[:,(1,2)]"
   ]
  },
  {
   "cell_type": "markdown",
   "metadata": {},
   "source": [
    "### Challenge 4"
   ]
  },
  {
   "cell_type": "code",
   "execution_count": 262,
   "metadata": {
    "collapsed": true
   },
   "outputs": [],
   "source": [
    "rating_group_2 = dict(list(df_sorted.groupby('Rating')))"
   ]
  },
  {
   "cell_type": "code",
   "execution_count": 276,
   "metadata": {
    "collapsed": false
   },
   "outputs": [
    {
     "data": {
      "image/png": "[encoded data removed]",
      "text/plain": [
       "<matplotlib.figure.Figure at 0x110155510>"
      ]
     },
     "metadata": {},
     "output_type": "display_data"
    }
   ],
   "source": [
    "plt.figure(figsize=(16,10))\n",
    "plt.subplot(221)\n",
    "plt.scatter(rating_group_2['G']['ReleaseDate'].values, rating_group_2['G']['DomesticTotalGross'])\n",
    "#plt.xticks(rotation=50)\n",
    "plt.subplot(222)\n",
    "plt.scatter(rating_group_2['PG']['ReleaseDate'].values, rating_group_2['PG']['DomesticTotalGross'])\n",
    "plt.subplot(223)\n",
    "plt.scatter(rating_group_2['PG-13']['ReleaseDate'].values, rating_group_2['PG-13']['DomesticTotalGross'])\n",
    "plt.subplot(224)\n",
    "plt.scatter(rating_group_2['R']['ReleaseDate'].values, rating_group_2['R']['DomesticTotalGross'])\n",
    "plt.show()"
   ]
  },
  {
   "cell_type": "markdown",
   "metadata": {},
   "source": [
    "### Challenge 5"
   ]
  },
  {
   "cell_type": "code",
   "execution_count": 319,
   "metadata": {
    "collapsed": false
   },
   "outputs": [],
   "source": [
    "director = df_sorted.groupby('Director').mean()"
   ]
  },
  {
   "cell_type": "code",
   "execution_count": 320,
   "metadata": {
    "collapsed": false
   },
   "outputs": [],
   "source": [
    "director_sorted = director.sort('DomesticTotalGross')"
   ]
  },
  {
   "cell_type": "code",
   "execution_count": 337,
   "metadata": {
    "collapsed": false
   },
   "outputs": [
    {
     "data": {
      "text/html": [
       "<div style=\"max-height:1000px;max-width:1500px;overflow:auto;\">\n",
       "<table border=\"1\" class=\"dataframe\">\n",
       "  <thead>\n",
       "    <tr style=\"text-align: right;\">\n",
       "      <th></th>\n",
       "      <th>DomesticTotalGross</th>\n",
       "    </tr>\n",
       "  </thead>\n",
       "  <tbody>\n",
       "    <tr>\n",
       "      <th>Francis Lawrence</th>\n",
       "      <td> 424668047</td>\n",
       "    </tr>\n",
       "  </tbody>\n",
       "</table>\n",
       "</div>"
      ],
      "text/plain": [
       "                  DomesticTotalGross\n",
       "Francis Lawrence           424668047"
      ]
     },
     "execution_count": 337,
     "metadata": {},
     "output_type": "execute_result"
    }
   ],
   "source": [
    "director_sorted.ix[[director_sorted.index[-1]], [1]]"
   ]
  },
  {
   "cell_type": "markdown",
   "metadata": {},
   "source": [
    "### Challenge 6"
   ]
  },
  {
   "cell_type": "code",
   "execution_count": null,
   "metadata": {
    "collapsed": true
   },
   "outputs": [],
   "source": []
  }
 ],
 "metadata": {
  "kernelspec": {
   "display_name": "Python 2",
   "language": "python",
   "name": "python2"
  },
  "language_info": {
   "codemirror_mode": {
    "name": "ipython",
    "version": 2
   },
   "file_extension": ".py",
   "mimetype": "text/x-python",
   "name": "python",
   "nbconvert_exporter": "python",
   "pygments_lexer": "ipython2",
   "version": "2.7.9"
  }
 },
 "nbformat": 4,
 "nbformat_minor": 0
}
