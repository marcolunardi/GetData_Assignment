{
 "cells": [
  {
   "cell_type": "markdown",
   "metadata": {},
   "source": [
    "### Challenge 1\n",
    "####Build a linear model that uses only a constant term (a column of ones) to predict a continuous outcome (like domestic total gross). How can you interpret the results of this model? What does it predict? Make a plot of predictions against actual outcome. Make a histogram of residuals. How are the residuals distributed?\n"
   ]
  },
  {
   "cell_type": "code",
   "execution_count": 36,
   "metadata": {
    "collapsed": false
   },
   "outputs": [],
   "source": [
    "import pandas as pd\n",
    "import numpy as np\n",
    "import matplotlib.pyplot as plt\n",
    "import statsmodels.formula.api as smf\n",
    "import statsmodels.api as sm\n",
    "import csv\n",
    "\n",
    "%matplotlib inline\n",
    "# import mpld3"
   ]
  },
  {
   "cell_type": "code",
   "execution_count": 37,
   "metadata": {
    "collapsed": true
   },
   "outputs": [],
   "source": [
    "df = pd.DataFrame.from_csv('2013_movies.csv')"
   ]
  },
  {
   "cell_type": "code",
   "execution_count": 38,
   "metadata": {
    "collapsed": false
   },
   "outputs": [
    {
     "data": {
      "text/html": [
       "<div style=\"max-height:1000px;max-width:1500px;overflow:auto;\">\n",
       "<table border=\"1\" class=\"dataframe\">\n",
       "  <thead>\n",
       "    <tr style=\"text-align: right;\">\n",
       "      <th></th>\n",
       "      <th>const</th>\n",
       "      <th>Budget</th>\n",
       "      <th>DomesticTotalGross</th>\n",
       "      <th>Director</th>\n",
       "      <th>Rating</th>\n",
       "      <th>Runtime</th>\n",
       "      <th>ReleaseDate</th>\n",
       "    </tr>\n",
       "    <tr>\n",
       "      <th>Title</th>\n",
       "      <th></th>\n",
       "      <th></th>\n",
       "      <th></th>\n",
       "      <th></th>\n",
       "      <th></th>\n",
       "      <th></th>\n",
       "      <th></th>\n",
       "    </tr>\n",
       "  </thead>\n",
       "  <tbody>\n",
       "    <tr>\n",
       "      <th>The Hunger Games: Catching Fire</th>\n",
       "      <td>1</td>\n",
       "      <td>130000000</td>\n",
       "      <td>424668047</td>\n",
       "      <td>Francis Lawrence</td>\n",
       "      <td>PG-13</td>\n",
       "      <td>146</td>\n",
       "      <td>2013-11-22 00:00:00</td>\n",
       "    </tr>\n",
       "  </tbody>\n",
       "</table>\n",
       "</div>"
      ],
      "text/plain": [
       "                                 const     Budget  DomesticTotalGross  \\\n",
       "Title                                                                   \n",
       "The Hunger Games: Catching Fire      1  130000000           424668047   \n",
       "\n",
       "                                         Director Rating  Runtime  \\\n",
       "Title                                                               \n",
       "The Hunger Games: Catching Fire  Francis Lawrence  PG-13      146   \n",
       "\n",
       "                                         ReleaseDate  \n",
       "Title                                                 \n",
       "The Hunger Games: Catching Fire  2013-11-22 00:00:00  "
      ]
     },
     "execution_count": 38,
     "metadata": {},
     "output_type": "execute_result"
    }
   ],
   "source": [
    "df = sm.add_constant(df)\n",
    "df.head(1)"
   ]
  },
  {
   "cell_type": "code",
   "execution_count": 6,
   "metadata": {
    "collapsed": false
   },
   "outputs": [
    {
     "data": {
      "text/html": [
       "<table class=\"simpletable\">\n",
       "<caption>OLS Regression Results</caption>\n",
       "<tr>\n",
       "  <th>Dep. Variable:</th>    <td>DomesticTotalGross</td> <th>  R-squared:         </th> <td>   0.000</td>\n",
       "</tr>\n",
       "<tr>\n",
       "  <th>Model:</th>                    <td>OLS</td>        <th>  Adj. R-squared:    </th> <td>   0.000</td>\n",
       "</tr>\n",
       "<tr>\n",
       "  <th>Method:</th>              <td>Least Squares</td>   <th>  F-statistic:       </th> <td>     nan</td>\n",
       "</tr>\n",
       "<tr>\n",
       "  <th>Date:</th>              <td>Sat, 25 Apr 2015</td>  <th>  Prob (F-statistic):</th>  <td>   nan</td> \n",
       "</tr>\n",
       "<tr>\n",
       "  <th>Time:</th>                  <td>23:34:54</td>      <th>  Log-Likelihood:    </th> <td> -1970.0</td>\n",
       "</tr>\n",
       "<tr>\n",
       "  <th>No. Observations:</th>       <td>   100</td>       <th>  AIC:               </th> <td>   3942.</td>\n",
       "</tr>\n",
       "<tr>\n",
       "  <th>Df Residuals:</th>           <td>    99</td>       <th>  BIC:               </th> <td>   3945.</td>\n",
       "</tr>\n",
       "<tr>\n",
       "  <th>Df Model:</th>               <td>     0</td>       <th>                     </th>     <td> </td>   \n",
       "</tr>\n",
       "<tr>\n",
       "  <th>Covariance Type:</th>       <td>nonrobust</td>     <th>                     </th>     <td> </td>   \n",
       "</tr>\n",
       "</table>\n",
       "<table class=\"simpletable\">\n",
       "<tr>\n",
       "      <td></td>         <th>coef</th>     <th>std err</th>      <th>t</th>      <th>P>|t|</th> <th>[95.0% Conf. Int.]</th> \n",
       "</tr>\n",
       "<tr>\n",
       "  <th>Intercept</th> <td>  5.03e+07</td> <td> 4.37e+06</td> <td>   11.510</td> <td> 0.000</td> <td> 4.16e+07   5.9e+07</td>\n",
       "</tr>\n",
       "<tr>\n",
       "  <th>const</th>     <td>  5.03e+07</td> <td> 4.37e+06</td> <td>   11.510</td> <td> 0.000</td> <td> 4.16e+07   5.9e+07</td>\n",
       "</tr>\n",
       "</table>\n",
       "<table class=\"simpletable\">\n",
       "<tr>\n",
       "  <th>Omnibus:</th>       <td>51.114</td> <th>  Durbin-Watson:     </th> <td>   0.013</td>\n",
       "</tr>\n",
       "<tr>\n",
       "  <th>Prob(Omnibus):</th> <td> 0.000</td> <th>  Jarque-Bera (JB):  </th> <td> 125.961</td>\n",
       "</tr>\n",
       "<tr>\n",
       "  <th>Skew:</th>          <td> 1.985</td> <th>  Prob(JB):          </th> <td>4.45e-28</td>\n",
       "</tr>\n",
       "<tr>\n",
       "  <th>Kurtosis:</th>      <td> 6.804</td> <th>  Cond. No.          </th> <td>3.02e+15</td>\n",
       "</tr>\n",
       "</table>"
      ],
      "text/plain": [
       "<class 'statsmodels.iolib.summary.Summary'>\n",
       "\"\"\"\n",
       "                            OLS Regression Results                            \n",
       "==============================================================================\n",
       "Dep. Variable:     DomesticTotalGross   R-squared:                       0.000\n",
       "Model:                            OLS   Adj. R-squared:                  0.000\n",
       "Method:                 Least Squares   F-statistic:                       nan\n",
       "Date:                Sat, 25 Apr 2015   Prob (F-statistic):                nan\n",
       "Time:                        23:34:54   Log-Likelihood:                -1970.0\n",
       "No. Observations:                 100   AIC:                             3942.\n",
       "Df Residuals:                      99   BIC:                             3945.\n",
       "Df Model:                           0                                         \n",
       "Covariance Type:            nonrobust                                         \n",
       "==============================================================================\n",
       "                 coef    std err          t      P>|t|      [95.0% Conf. Int.]\n",
       "------------------------------------------------------------------------------\n",
       "Intercept    5.03e+07   4.37e+06     11.510      0.000      4.16e+07   5.9e+07\n",
       "const        5.03e+07   4.37e+06     11.510      0.000      4.16e+07   5.9e+07\n",
       "==============================================================================\n",
       "Omnibus:                       51.114   Durbin-Watson:                   0.013\n",
       "Prob(Omnibus):                  0.000   Jarque-Bera (JB):              125.961\n",
       "Skew:                           1.985   Prob(JB):                     4.45e-28\n",
       "Kurtosis:                       6.804   Cond. No.                     3.02e+15\n",
       "==============================================================================\n",
       "\n",
       "Warnings:\n",
       "[1] Standard Errors assume that the covariance matrix of the errors is correctly specified.\n",
       "[2] The smallest eigenvalue is 2.2e-29. This might indicate that there are\n",
       "strong multicollinearity problems or that the design matrix is singular.\n",
       "\"\"\""
      ]
     },
     "execution_count": 6,
     "metadata": {},
     "output_type": "execute_result"
    }
   ],
   "source": [
    "model = smf.ols(\"DomesticTotalGross ~ const\", data=df)\n",
    "fitted = model.fit()\n",
    "fitted.summary()"
   ]
  },
  {
   "cell_type": "markdown",
   "metadata": {},
   "source": [
    "###this predicts that for a constant, 1, our model will have residuals no better than if we had put a straight line across the mean of DomesticTotalGross. we are plotting all of DomesticTotalGross across 1  should also be a straight line"
   ]
  },
  {
   "cell_type": "code",
   "execution_count": 9,
   "metadata": {
    "collapsed": false
   },
   "outputs": [
    {
     "data": {
      "image/png": "[encoded data removed]",
      "text/plain": [
       "<matplotlib.figure.Figure at 0x109be64d0>"
      ]
     },
     "metadata": {},
     "output_type": "display_data"
    }
   ],
   "source": [
    "fig, ax = plt.subplots(figsize=(12,14))\n",
    "fig = sm.graphics.plot_fit(fitted, 0, ax=ax)"
   ]
  },
  {
   "cell_type": "code",
   "execution_count": 10,
   "metadata": {
    "collapsed": false
   },
   "outputs": [
    {
     "data": {
      "text/plain": [
       "<matplotlib.text.Text at 0x109bfcf10>"
      ]
     },
     "execution_count": 10,
     "metadata": {},
     "output_type": "execute_result"
    },
    {
     "data": {
      "image/png": "[encoded data removed]",
      "text/plain": [
       "<matplotlib.figure.Figure at 0x109543b10>"
      ]
     },
     "metadata": {},
     "output_type": "display_data"
    }
   ],
   "source": [
    "plt.plot(df['const'], df['DomesticTotalGross'], 'ro')\n",
    "plt.plot(df['const'], fitted.fittedvalues, 'b')\n",
    "plt.legend(['Data', 'Fitted model'])\n",
    "# plt.ylim(-100000000, 500000000)\n",
    "# plt.xlim(-2, 12)\n",
    "plt.xlabel('const')\n",
    "plt.ylabel('DomesticTotalGross')\n",
    "plt.title('plot against constant')"
   ]
  },
  {
   "cell_type": "code",
   "execution_count": 11,
   "metadata": {
    "collapsed": false
   },
   "outputs": [
    {
     "data": {
      "text/plain": [
       "<matplotlib.text.Text at 0x10a48f150>"
      ]
     },
     "execution_count": 11,
     "metadata": {},
     "output_type": "execute_result"
    },
    {
     "data": {
      "image/png": "[encoded data removed]",
      "text/plain": [
       "<matplotlib.figure.Figure at 0x1040c9fd0>"
      ]
     },
     "metadata": {},
     "output_type": "display_data"
    }
   ],
   "source": [
    "plt.hist(fitted.resid)\n",
    "plt.ylabel('Count')\n",
    "plt.xlabel('residuals')"
   ]
  },
  {
   "cell_type": "markdown",
   "metadata": {
    "collapsed": false
   },
   "source": [
    "### the residuals are skewed to the left? im not sure what this tells me?"
   ]
  },
  {
   "cell_type": "markdown",
   "metadata": {
    "collapsed": false
   },
   "source": [
    "###Challenge 2\n",
    "####Repeat the process of challenge one, but also add one continuous (numeric) predictor variable. Also add plots of model prediction against your feature variable and residuals against feature variable. How can you interpret what's happening in the model?"
   ]
  },
  {
   "cell_type": "code",
   "execution_count": 12,
   "metadata": {
    "collapsed": false
   },
   "outputs": [
    {
     "data": {
      "text/html": [
       "<table class=\"simpletable\">\n",
       "<caption>OLS Regression Results</caption>\n",
       "<tr>\n",
       "  <th>Dep. Variable:</th>    <td>DomesticTotalGross</td> <th>  R-squared:         </th> <td>   0.086</td>\n",
       "</tr>\n",
       "<tr>\n",
       "  <th>Model:</th>                    <td>OLS</td>        <th>  Adj. R-squared:    </th> <td>   0.076</td>\n",
       "</tr>\n",
       "<tr>\n",
       "  <th>Method:</th>              <td>Least Squares</td>   <th>  F-statistic:       </th> <td>   9.180</td>\n",
       "</tr>\n",
       "<tr>\n",
       "  <th>Date:</th>              <td>Sat, 25 Apr 2015</td>  <th>  Prob (F-statistic):</th>  <td>0.00313</td>\n",
       "</tr>\n",
       "<tr>\n",
       "  <th>Time:</th>                  <td>23:35:26</td>      <th>  Log-Likelihood:    </th> <td> -1965.5</td>\n",
       "</tr>\n",
       "<tr>\n",
       "  <th>No. Observations:</th>       <td>   100</td>       <th>  AIC:               </th> <td>   3935.</td>\n",
       "</tr>\n",
       "<tr>\n",
       "  <th>Df Residuals:</th>           <td>    98</td>       <th>  BIC:               </th> <td>   3940.</td>\n",
       "</tr>\n",
       "<tr>\n",
       "  <th>Df Model:</th>               <td>     1</td>       <th>                     </th>     <td> </td>   \n",
       "</tr>\n",
       "<tr>\n",
       "  <th>Covariance Type:</th>       <td>nonrobust</td>     <th>                     </th>     <td> </td>   \n",
       "</tr>\n",
       "</table>\n",
       "<table class=\"simpletable\">\n",
       "<tr>\n",
       "      <td></td>         <th>coef</th>     <th>std err</th>      <th>t</th>      <th>P>|t|</th> <th>[95.0% Conf. Int.]</th> \n",
       "</tr>\n",
       "<tr>\n",
       "  <th>Intercept</th> <td>-2.862e+07</td> <td> 2.64e+07</td> <td>   -1.085</td> <td> 0.281</td> <td> -8.1e+07  2.37e+07</td>\n",
       "</tr>\n",
       "<tr>\n",
       "  <th>const</th>     <td>-2.862e+07</td> <td> 2.64e+07</td> <td>   -1.085</td> <td> 0.281</td> <td> -8.1e+07  2.37e+07</td>\n",
       "</tr>\n",
       "<tr>\n",
       "  <th>Runtime</th>   <td> 1.406e+06</td> <td> 4.64e+05</td> <td>    3.030</td> <td> 0.003</td> <td> 4.85e+05  2.33e+06</td>\n",
       "</tr>\n",
       "</table>\n",
       "<table class=\"simpletable\">\n",
       "<tr>\n",
       "  <th>Omnibus:</th>       <td>50.222</td> <th>  Durbin-Watson:     </th> <td>   0.189</td>\n",
       "</tr>\n",
       "<tr>\n",
       "  <th>Prob(Omnibus):</th> <td> 0.000</td> <th>  Jarque-Bera (JB):  </th> <td> 125.001</td>\n",
       "</tr>\n",
       "<tr>\n",
       "  <th>Skew:</th>          <td> 1.932</td> <th>  Prob(JB):          </th> <td>7.19e-28</td>\n",
       "</tr>\n",
       "<tr>\n",
       "  <th>Kurtosis:</th>      <td> 6.883</td> <th>  Cond. No.          </th> <td>1.34e+17</td>\n",
       "</tr>\n",
       "</table>"
      ],
      "text/plain": [
       "<class 'statsmodels.iolib.summary.Summary'>\n",
       "\"\"\"\n",
       "                            OLS Regression Results                            \n",
       "==============================================================================\n",
       "Dep. Variable:     DomesticTotalGross   R-squared:                       0.086\n",
       "Model:                            OLS   Adj. R-squared:                  0.076\n",
       "Method:                 Least Squares   F-statistic:                     9.180\n",
       "Date:                Sat, 25 Apr 2015   Prob (F-statistic):            0.00313\n",
       "Time:                        23:35:26   Log-Likelihood:                -1965.5\n",
       "No. Observations:                 100   AIC:                             3935.\n",
       "Df Residuals:                      98   BIC:                             3940.\n",
       "Df Model:                           1                                         \n",
       "Covariance Type:            nonrobust                                         \n",
       "==============================================================================\n",
       "                 coef    std err          t      P>|t|      [95.0% Conf. Int.]\n",
       "------------------------------------------------------------------------------\n",
       "Intercept  -2.862e+07   2.64e+07     -1.085      0.281      -8.1e+07  2.37e+07\n",
       "const      -2.862e+07   2.64e+07     -1.085      0.281      -8.1e+07  2.37e+07\n",
       "Runtime     1.406e+06   4.64e+05      3.030      0.003      4.85e+05  2.33e+06\n",
       "==============================================================================\n",
       "Omnibus:                       50.222   Durbin-Watson:                   0.189\n",
       "Prob(Omnibus):                  0.000   Jarque-Bera (JB):              125.001\n",
       "Skew:                           1.932   Prob(JB):                     7.19e-28\n",
       "Kurtosis:                       6.883   Cond. No.                     1.34e+17\n",
       "==============================================================================\n",
       "\n",
       "Warnings:\n",
       "[1] Standard Errors assume that the covariance matrix of the errors is correctly specified.\n",
       "[2] The smallest eigenvalue is 7.19e-29. This might indicate that there are\n",
       "strong multicollinearity problems or that the design matrix is singular.\n",
       "\"\"\""
      ]
     },
     "execution_count": 12,
     "metadata": {},
     "output_type": "execute_result"
    }
   ],
   "source": [
    "model = smf.ols(\"DomesticTotalGross ~ const + Runtime\", data=df)\n",
    "fitted = model.fit()\n",
    "fitted.summary()"
   ]
  },
  {
   "cell_type": "code",
   "execution_count": 13,
   "metadata": {
    "collapsed": false
   },
   "outputs": [
    {
     "data": {
      "text/plain": [
       "<matplotlib.legend.Legend at 0x10a822250>"
      ]
     },
     "execution_count": 13,
     "metadata": {},
     "output_type": "execute_result"
    },
    {
     "data": {
      "image/png": "[encoded data removed]",
      "text/plain": [
       "<matplotlib.figure.Figure at 0x1040d51d0>"
      ]
     },
     "metadata": {},
     "output_type": "display_data"
    }
   ],
   "source": [
    "plt.plot(df['Runtime'], df['DomesticTotalGross'], 'ro')\n",
    "plt.plot(df['Runtime'], fitted.fittedvalues, 'b')\n",
    "plt.legend(['Data', 'Fitted model'])"
   ]
  },
  {
   "cell_type": "code",
   "execution_count": 18,
   "metadata": {
    "collapsed": false
   },
   "outputs": [
    {
     "data": {
      "text/plain": [
       "[<matplotlib.lines.Line2D at 0x10ae27790>]"
      ]
     },
     "execution_count": 18,
     "metadata": {},
     "output_type": "execute_result"
    },
    {
     "data": {
      "image/png": "[encoded data removed]",
      "text/plain": [
       "<matplotlib.figure.Figure at 0x10ac1ff10>"
      ]
     },
     "metadata": {},
     "output_type": "display_data"
    }
   ],
   "source": [
    "#Is this what is meant by plotting feature variable vs residuals? It doesn't seem very descriptive.\n",
    "plt.plot(df['Runtime'], df['DomesticTotalGross'], 'ro')\n",
    "plt.plot(df['Runtime'].dropna(), fitted.resid)"
   ]
  },
  {
   "cell_type": "markdown",
   "metadata": {},
   "source": [
    "### Challenge 3\n",
    "\n",
    "###Repeat the process of challenge 1, but add a categorical feature (like genre). You'll have to convert a column of text into a number of numerical columns (\"dummy variables\"). How can you interpret what's happening in the model?"
   ]
  },
  {
   "cell_type": "code",
   "execution_count": 19,
   "metadata": {
    "collapsed": false
   },
   "outputs": [],
   "source": [
    "def rate_me(rating):\n",
    "    return {i: index + 1 for index,i in enumerate(['G','PG','PG-13','R'])}[rating]\n",
    "df['Rating'] = df['Rating'].apply(lambda x: rate_me(x))"
   ]
  },
  {
   "cell_type": "code",
   "execution_count": 20,
   "metadata": {
    "collapsed": false
   },
   "outputs": [
    {
     "data": {
      "text/html": [
       "<table class=\"simpletable\">\n",
       "<caption>OLS Regression Results</caption>\n",
       "<tr>\n",
       "  <th>Dep. Variable:</th>    <td>DomesticTotalGross</td> <th>  R-squared:         </th> <td>   0.095</td>\n",
       "</tr>\n",
       "<tr>\n",
       "  <th>Model:</th>                    <td>OLS</td>        <th>  Adj. R-squared:    </th> <td>   0.085</td>\n",
       "</tr>\n",
       "<tr>\n",
       "  <th>Method:</th>              <td>Least Squares</td>   <th>  F-statistic:       </th> <td>   10.25</td>\n",
       "</tr>\n",
       "<tr>\n",
       "  <th>Date:</th>              <td>Sat, 25 Apr 2015</td>  <th>  Prob (F-statistic):</th>  <td>0.00184</td>\n",
       "</tr>\n",
       "<tr>\n",
       "  <th>Time:</th>                  <td>23:39:53</td>      <th>  Log-Likelihood:    </th> <td> -1965.0</td>\n",
       "</tr>\n",
       "<tr>\n",
       "  <th>No. Observations:</th>       <td>   100</td>       <th>  AIC:               </th> <td>   3934.</td>\n",
       "</tr>\n",
       "<tr>\n",
       "  <th>Df Residuals:</th>           <td>    98</td>       <th>  BIC:               </th> <td>   3939.</td>\n",
       "</tr>\n",
       "<tr>\n",
       "  <th>Df Model:</th>               <td>     1</td>       <th>                     </th>     <td> </td>   \n",
       "</tr>\n",
       "<tr>\n",
       "  <th>Covariance Type:</th>       <td>nonrobust</td>     <th>                     </th>     <td> </td>   \n",
       "</tr>\n",
       "</table>\n",
       "<table class=\"simpletable\">\n",
       "<tr>\n",
       "      <td></td>         <th>coef</th>     <th>std err</th>      <th>t</th>      <th>P>|t|</th> <th>[95.0% Conf. Int.]</th> \n",
       "</tr>\n",
       "<tr>\n",
       "  <th>Intercept</th> <td> 1.097e+08</td> <td>  1.9e+07</td> <td>    5.770</td> <td> 0.000</td> <td>  7.2e+07  1.47e+08</td>\n",
       "</tr>\n",
       "<tr>\n",
       "  <th>const</th>     <td> 1.097e+08</td> <td>  1.9e+07</td> <td>    5.770</td> <td> 0.000</td> <td>  7.2e+07  1.47e+08</td>\n",
       "</tr>\n",
       "<tr>\n",
       "  <th>Rating</th>    <td>-3.711e+07</td> <td> 1.16e+07</td> <td>   -3.202</td> <td> 0.002</td> <td>-6.01e+07 -1.41e+07</td>\n",
       "</tr>\n",
       "</table>\n",
       "<table class=\"simpletable\">\n",
       "<tr>\n",
       "  <th>Omnibus:</th>       <td>43.543</td> <th>  Durbin-Watson:     </th> <td>   0.213</td>\n",
       "</tr>\n",
       "<tr>\n",
       "  <th>Prob(Omnibus):</th> <td> 0.000</td> <th>  Jarque-Bera (JB):  </th> <td>  94.455</td>\n",
       "</tr>\n",
       "<tr>\n",
       "  <th>Skew:</th>          <td> 1.725</td> <th>  Prob(JB):          </th> <td>3.09e-21</td>\n",
       "</tr>\n",
       "<tr>\n",
       "  <th>Kurtosis:</th>      <td> 6.282</td> <th>  Cond. No.          </th> <td>7.92e+15</td>\n",
       "</tr>\n",
       "</table>"
      ],
      "text/plain": [
       "<class 'statsmodels.iolib.summary.Summary'>\n",
       "\"\"\"\n",
       "                            OLS Regression Results                            \n",
       "==============================================================================\n",
       "Dep. Variable:     DomesticTotalGross   R-squared:                       0.095\n",
       "Model:                            OLS   Adj. R-squared:                  0.085\n",
       "Method:                 Least Squares   F-statistic:                     10.25\n",
       "Date:                Sat, 25 Apr 2015   Prob (F-statistic):            0.00184\n",
       "Time:                        23:39:53   Log-Likelihood:                -1965.0\n",
       "No. Observations:                 100   AIC:                             3934.\n",
       "Df Residuals:                      98   BIC:                             3939.\n",
       "Df Model:                           1                                         \n",
       "Covariance Type:            nonrobust                                         \n",
       "==============================================================================\n",
       "                 coef    std err          t      P>|t|      [95.0% Conf. Int.]\n",
       "------------------------------------------------------------------------------\n",
       "Intercept   1.097e+08    1.9e+07      5.770      0.000       7.2e+07  1.47e+08\n",
       "const       1.097e+08    1.9e+07      5.770      0.000       7.2e+07  1.47e+08\n",
       "Rating     -3.711e+07   1.16e+07     -3.202      0.002     -6.01e+07 -1.41e+07\n",
       "==============================================================================\n",
       "Omnibus:                       43.543   Durbin-Watson:                   0.213\n",
       "Prob(Omnibus):                  0.000   Jarque-Bera (JB):               94.455\n",
       "Skew:                           1.725   Prob(JB):                     3.09e-21\n",
       "Kurtosis:                       6.282   Cond. No.                     7.92e+15\n",
       "==============================================================================\n",
       "\n",
       "Warnings:\n",
       "[1] Standard Errors assume that the covariance matrix of the errors is correctly specified.\n",
       "[2] The smallest eigenvalue is 2.02e-29. This might indicate that there are\n",
       "strong multicollinearity problems or that the design matrix is singular.\n",
       "\"\"\""
      ]
     },
     "execution_count": 20,
     "metadata": {},
     "output_type": "execute_result"
    }
   ],
   "source": [
    "model = smf.ols(\"DomesticTotalGross ~ const + Rating\", data=df)\n",
    "fitted = model.fit()\n",
    "fitted.summary()"
   ]
  },
  {
   "cell_type": "code",
   "execution_count": 21,
   "metadata": {
    "collapsed": false
   },
   "outputs": [
    {
     "data": {
      "text/plain": [
       "[<matplotlib.lines.Line2D at 0x1095ca2d0>]"
      ]
     },
     "execution_count": 21,
     "metadata": {},
     "output_type": "execute_result"
    },
    {
     "data": {
      "image/png": "[encoded data removed]",
      "text/plain": [
       "<matplotlib.figure.Figure at 0x10ae61b50>"
      ]
     },
     "metadata": {},
     "output_type": "display_data"
    }
   ],
   "source": [
    "plt.plot(df['Runtime'], df['DomesticTotalGross'], 'ro')\n",
    "plt.plot(df['Runtime'], fitted.fittedvalues, 'bo')"
   ]
  },
  {
   "cell_type": "markdown",
   "metadata": {},
   "source": [
    "#### Seems to be a good fit and substantially better than plotting a straight line across the mean? "
   ]
  },
  {
   "cell_type": "markdown",
   "metadata": {},
   "source": [
    "### Challenge 4\n",
    "\n",
    "####Enhance your model further by adding more features and/or transforming existing features. Think about how you build the model matrix and how to interpret what the model is doing."
   ]
  },
  {
   "cell_type": "code",
   "execution_count": 25,
   "metadata": {
    "collapsed": true
   },
   "outputs": [
    {
     "data": {
      "text/html": [
       "<table class=\"simpletable\">\n",
       "<caption>OLS Regression Results</caption>\n",
       "<tr>\n",
       "  <th>Dep. Variable:</th>    <td>DomesticTotalGross</td> <th>  R-squared:         </th> <td>   0.296</td>\n",
       "</tr>\n",
       "<tr>\n",
       "  <th>Model:</th>                    <td>OLS</td>        <th>  Adj. R-squared:    </th> <td>   0.271</td>\n",
       "</tr>\n",
       "<tr>\n",
       "  <th>Method:</th>              <td>Least Squares</td>   <th>  F-statistic:       </th> <td>   11.91</td>\n",
       "</tr>\n",
       "<tr>\n",
       "  <th>Date:</th>              <td>Sat, 25 Apr 2015</td>  <th>  Prob (F-statistic):</th> <td>1.38e-06</td>\n",
       "</tr>\n",
       "<tr>\n",
       "  <th>Time:</th>                  <td>23:40:08</td>      <th>  Log-Likelihood:    </th> <td> -1737.4</td>\n",
       "</tr>\n",
       "<tr>\n",
       "  <th>No. Observations:</th>       <td>    89</td>       <th>  AIC:               </th> <td>   3483.</td>\n",
       "</tr>\n",
       "<tr>\n",
       "  <th>Df Residuals:</th>           <td>    85</td>       <th>  BIC:               </th> <td>   3493.</td>\n",
       "</tr>\n",
       "<tr>\n",
       "  <th>Df Model:</th>               <td>     3</td>       <th>                     </th>     <td> </td>   \n",
       "</tr>\n",
       "<tr>\n",
       "  <th>Covariance Type:</th>       <td>nonrobust</td>     <th>                     </th>     <td> </td>   \n",
       "</tr>\n",
       "</table>\n",
       "<table class=\"simpletable\">\n",
       "<tr>\n",
       "      <td></td>         <th>coef</th>     <th>std err</th>      <th>t</th>      <th>P>|t|</th> <th>[95.0% Conf. Int.]</th> \n",
       "</tr>\n",
       "<tr>\n",
       "  <th>Intercept</th> <td> 1.392e+07</td> <td> 2.93e+07</td> <td>    0.476</td> <td> 0.636</td> <td>-4.43e+07  7.21e+07</td>\n",
       "</tr>\n",
       "<tr>\n",
       "  <th>const</th>     <td> 1.392e+07</td> <td> 2.93e+07</td> <td>    0.476</td> <td> 0.636</td> <td>-4.43e+07  7.21e+07</td>\n",
       "</tr>\n",
       "<tr>\n",
       "  <th>Runtime</th>   <td> 5.051e+05</td> <td> 5.06e+05</td> <td>    0.998</td> <td> 0.321</td> <td>-5.01e+05  1.51e+06</td>\n",
       "</tr>\n",
       "<tr>\n",
       "  <th>Rating</th>    <td>-1.021e+07</td> <td> 1.29e+07</td> <td>   -0.788</td> <td> 0.433</td> <td>-3.59e+07  1.55e+07</td>\n",
       "</tr>\n",
       "<tr>\n",
       "  <th>Budget</th>    <td>    0.6830</td> <td>    0.163</td> <td>    4.181</td> <td> 0.000</td> <td>    0.358     1.008</td>\n",
       "</tr>\n",
       "</table>\n",
       "<table class=\"simpletable\">\n",
       "<tr>\n",
       "  <th>Omnibus:</th>       <td>37.771</td> <th>  Durbin-Watson:     </th> <td>   0.719</td>\n",
       "</tr>\n",
       "<tr>\n",
       "  <th>Prob(Omnibus):</th> <td> 0.000</td> <th>  Jarque-Bera (JB):  </th> <td>  87.758</td>\n",
       "</tr>\n",
       "<tr>\n",
       "  <th>Skew:</th>          <td> 1.541</td> <th>  Prob(JB):          </th> <td>8.78e-20</td>\n",
       "</tr>\n",
       "<tr>\n",
       "  <th>Kurtosis:</th>      <td> 6.764</td> <th>  Cond. No.          </th> <td>1.24e+18</td>\n",
       "</tr>\n",
       "</table>"
      ],
      "text/plain": [
       "<class 'statsmodels.iolib.summary.Summary'>\n",
       "\"\"\"\n",
       "                            OLS Regression Results                            \n",
       "==============================================================================\n",
       "Dep. Variable:     DomesticTotalGross   R-squared:                       0.296\n",
       "Model:                            OLS   Adj. R-squared:                  0.271\n",
       "Method:                 Least Squares   F-statistic:                     11.91\n",
       "Date:                Sat, 25 Apr 2015   Prob (F-statistic):           1.38e-06\n",
       "Time:                        23:40:08   Log-Likelihood:                -1737.4\n",
       "No. Observations:                  89   AIC:                             3483.\n",
       "Df Residuals:                      85   BIC:                             3493.\n",
       "Df Model:                           3                                         \n",
       "Covariance Type:            nonrobust                                         \n",
       "==============================================================================\n",
       "                 coef    std err          t      P>|t|      [95.0% Conf. Int.]\n",
       "------------------------------------------------------------------------------\n",
       "Intercept   1.392e+07   2.93e+07      0.476      0.636     -4.43e+07  7.21e+07\n",
       "const       1.392e+07   2.93e+07      0.476      0.636     -4.43e+07  7.21e+07\n",
       "Runtime     5.051e+05   5.06e+05      0.998      0.321     -5.01e+05  1.51e+06\n",
       "Rating     -1.021e+07   1.29e+07     -0.788      0.433     -3.59e+07  1.55e+07\n",
       "Budget         0.6830      0.163      4.181      0.000         0.358     1.008\n",
       "==============================================================================\n",
       "Omnibus:                       37.771   Durbin-Watson:                   0.719\n",
       "Prob(Omnibus):                  0.000   Jarque-Bera (JB):               87.758\n",
       "Skew:                           1.541   Prob(JB):                     8.78e-20\n",
       "Kurtosis:                       6.764   Cond. No.                     1.24e+18\n",
       "==============================================================================\n",
       "\n",
       "Warnings:\n",
       "[1] Standard Errors assume that the covariance matrix of the errors is correctly specified.\n",
       "[2] The smallest eigenvalue is 5.29e-19. This might indicate that there are\n",
       "strong multicollinearity problems or that the design matrix is singular.\n",
       "\"\"\""
      ]
     },
     "execution_count": 25,
     "metadata": {},
     "output_type": "execute_result"
    }
   ],
   "source": [
    "model = smf.ols(\"DomesticTotalGross ~ const + Runtime + Rating + Budget\", data=df)\n",
    "fitted = model.fit()\n",
    "fitted.summary()"
   ]
  },
  {
   "cell_type": "code",
   "execution_count": 27,
   "metadata": {
    "collapsed": false
   },
   "outputs": [
    {
     "data": {
      "text/plain": [
       "[<matplotlib.lines.Line2D at 0x10b46e8d0>]"
      ]
     },
     "execution_count": 27,
     "metadata": {},
     "output_type": "execute_result"
    },
    {
     "data": {
      "image/png": "[encoded data removed]",
      "text/plain": [
       "<matplotlib.figure.Figure at 0x10b3c6e50>"
      ]
     },
     "metadata": {},
     "output_type": "display_data"
    }
   ],
   "source": [
    "plt.plot(df['Budget'], df['DomesticTotalGross'], 'ro')\n",
    "plt.plot(df['Budget'].dropna(), fitted.fittedvalues)"
   ]
  },
  {
   "cell_type": "markdown",
   "metadata": {
    "collapsed": false
   },
   "source": [
    "#What are some ways to transform a variable? How do you choose? Just randomly and pray?"
   ]
  },
  {
   "cell_type": "markdown",
   "metadata": {
    "collapsed": true
   },
   "source": [
    "#### Challenge 5\n",
    "\n",
    "Fitting and checking predictions on the exact same data set can be\n",
    "misleading. Divide your data into two sets: a training and a test set\n",
    "(roughly 75% training, 25% test is a fine split). Fit a model on the\n",
    "training set, check the predictions (by plotting versus actual values)\n",
    "in the test set.\n",
    "\n"
   ]
  },
  {
   "cell_type": "code",
   "execution_count": 60,
   "metadata": {
    "collapsed": false
   },
   "outputs": [],
   "source": [
    "msk = np.random.rand(len(df)) < 0.75\n",
    "train = df[msk]\n",
    "test = df[~msk]"
   ]
  },
  {
   "cell_type": "code",
   "execution_count": 61,
   "metadata": {
    "collapsed": false
   },
   "outputs": [
    {
     "data": {
      "text/html": [
       "<table class=\"simpletable\">\n",
       "<caption>OLS Regression Results</caption>\n",
       "<tr>\n",
       "  <th>Dep. Variable:</th>    <td>DomesticTotalGross</td> <th>  R-squared:         </th> <td>   0.323</td>\n",
       "</tr>\n",
       "<tr>\n",
       "  <th>Model:</th>                    <td>OLS</td>        <th>  Adj. R-squared:    </th> <td>   0.312</td>\n",
       "</tr>\n",
       "<tr>\n",
       "  <th>Method:</th>              <td>Least Squares</td>   <th>  F-statistic:       </th> <td>   30.95</td>\n",
       "</tr>\n",
       "<tr>\n",
       "  <th>Date:</th>              <td>Sun, 26 Apr 2015</td>  <th>  Prob (F-statistic):</th> <td>5.37e-07</td>\n",
       "</tr>\n",
       "<tr>\n",
       "  <th>Time:</th>                  <td>09:17:31</td>      <th>  Log-Likelihood:    </th> <td> -1312.0</td>\n",
       "</tr>\n",
       "<tr>\n",
       "  <th>No. Observations:</th>       <td>    67</td>       <th>  AIC:               </th> <td>   2628.</td>\n",
       "</tr>\n",
       "<tr>\n",
       "  <th>Df Residuals:</th>           <td>    65</td>       <th>  BIC:               </th> <td>   2632.</td>\n",
       "</tr>\n",
       "<tr>\n",
       "  <th>Df Model:</th>               <td>     1</td>       <th>                     </th>     <td> </td>   \n",
       "</tr>\n",
       "<tr>\n",
       "  <th>Covariance Type:</th>       <td>nonrobust</td>     <th>                     </th>     <td> </td>   \n",
       "</tr>\n",
       "</table>\n",
       "<table class=\"simpletable\">\n",
       "<tr>\n",
       "      <td></td>         <th>coef</th>     <th>std err</th>      <th>t</th>      <th>P>|t|</th> <th>[95.0% Conf. Int.]</th> \n",
       "</tr>\n",
       "<tr>\n",
       "  <th>Intercept</th> <td> 1.708e+07</td> <td> 7.92e+06</td> <td>    2.156</td> <td> 0.035</td> <td> 1.26e+06  3.29e+07</td>\n",
       "</tr>\n",
       "<tr>\n",
       "  <th>const</th>     <td> 1.708e+07</td> <td> 7.92e+06</td> <td>    2.156</td> <td> 0.035</td> <td> 1.26e+06  3.29e+07</td>\n",
       "</tr>\n",
       "<tr>\n",
       "  <th>Budget</th>    <td>    0.8856</td> <td>    0.159</td> <td>    5.563</td> <td> 0.000</td> <td>    0.568     1.204</td>\n",
       "</tr>\n",
       "</table>\n",
       "<table class=\"simpletable\">\n",
       "<tr>\n",
       "  <th>Omnibus:</th>       <td>33.064</td> <th>  Durbin-Watson:     </th> <td>   0.745</td>\n",
       "</tr>\n",
       "<tr>\n",
       "  <th>Prob(Omnibus):</th> <td> 0.000</td> <th>  Jarque-Bera (JB):  </th> <td>  75.239</td>\n",
       "</tr>\n",
       "<tr>\n",
       "  <th>Skew:</th>          <td> 1.613</td> <th>  Prob(JB):          </th> <td>4.59e-17</td>\n",
       "</tr>\n",
       "<tr>\n",
       "  <th>Kurtosis:</th>      <td> 7.067</td> <th>  Cond. No.          </th> <td>7.41e+17</td>\n",
       "</tr>\n",
       "</table>"
      ],
      "text/plain": [
       "<class 'statsmodels.iolib.summary.Summary'>\n",
       "\"\"\"\n",
       "                            OLS Regression Results                            \n",
       "==============================================================================\n",
       "Dep. Variable:     DomesticTotalGross   R-squared:                       0.323\n",
       "Model:                            OLS   Adj. R-squared:                  0.312\n",
       "Method:                 Least Squares   F-statistic:                     30.95\n",
       "Date:                Sun, 26 Apr 2015   Prob (F-statistic):           5.37e-07\n",
       "Time:                        09:17:31   Log-Likelihood:                -1312.0\n",
       "No. Observations:                  67   AIC:                             2628.\n",
       "Df Residuals:                      65   BIC:                             2632.\n",
       "Df Model:                           1                                         \n",
       "Covariance Type:            nonrobust                                         \n",
       "==============================================================================\n",
       "                 coef    std err          t      P>|t|      [95.0% Conf. Int.]\n",
       "------------------------------------------------------------------------------\n",
       "Intercept   1.708e+07   7.92e+06      2.156      0.035      1.26e+06  3.29e+07\n",
       "const       1.708e+07   7.92e+06      2.156      0.035      1.26e+06  3.29e+07\n",
       "Budget         0.8856      0.159      5.563      0.000         0.568     1.204\n",
       "==============================================================================\n",
       "Omnibus:                       33.064   Durbin-Watson:                   0.745\n",
       "Prob(Omnibus):                  0.000   Jarque-Bera (JB):               75.239\n",
       "Skew:                           1.613   Prob(JB):                     4.59e-17\n",
       "Kurtosis:                       7.067   Cond. No.                     7.41e+17\n",
       "==============================================================================\n",
       "\n",
       "Warnings:\n",
       "[1] Standard Errors assume that the covariance matrix of the errors is correctly specified.\n",
       "[2] The smallest eigenvalue is 1.21e-18. This might indicate that there are\n",
       "strong multicollinearity problems or that the design matrix is singular.\n",
       "\"\"\""
      ]
     },
     "execution_count": 61,
     "metadata": {},
     "output_type": "execute_result"
    }
   ],
   "source": [
    "model = smf.ols(\"DomesticTotalGross ~ const + Budget\", data=train)\n",
    "fitted = model.fit()\n",
    "fitted.summary()"
   ]
  },
  {
   "cell_type": "code",
   "execution_count": 65,
   "metadata": {
    "collapsed": false
   },
   "outputs": [
    {
     "data": {
      "text/plain": [
       "<matplotlib.legend.Legend at 0x10c85f150>"
      ]
     },
     "execution_count": 65,
     "metadata": {},
     "output_type": "execute_result"
    },
    {
     "data": {
      "image/png": "[encoded data removed]",
      "text/plain": [
       "<matplotlib.figure.Figure at 0x10c2d4a50>"
      ]
     },
     "metadata": {},
     "output_type": "display_data"
    }
   ],
   "source": [
    "plt.plot(test['Budget'], test['DomesticTotalGross'], 'ro')\n",
    "plt.plot(train['Budget'].dropna(), fitted.fittedvalues, 'b')\n",
    "plt.legend(['Data', 'Fitted model'])"
   ]
  },
  {
   "cell_type": "markdown",
   "metadata": {},
   "source": [
    "#How do you compare test vs fitted just by number? Is there a way for the computer tell me a percent that it fits the test data?"
   ]
  }
 ],
 "metadata": {
  "kernelspec": {
   "display_name": "Python 2",
   "language": "python",
   "name": "python2"
  },
  "language_info": {
   "codemirror_mode": {
    "name": "ipython",
    "version": 2
   },
   "file_extension": ".py",
   "mimetype": "text/x-python",
   "name": "python",
   "nbconvert_exporter": "python",
   "pygments_lexer": "ipython2",
   "version": "2.7.9"
  }
 },
 "nbformat": 4,
 "nbformat_minor": 0
}
