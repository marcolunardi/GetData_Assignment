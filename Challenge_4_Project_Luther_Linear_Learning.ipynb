{
 "cells": [
  {
   "cell_type": "markdown",
   "metadata": {},
   "source": [
    "Challenge 1\n",
    "\n",
    "Fit a model to your data. Now you know the coefficients (the beta values). Write a python function to simulate outcomes. (The sigma of the normal noise distribution will be the std deviation of the residuals.) For the same observed input variables, simulate the outcome. Plot the observed data and the simulated data.\n",
    "\n",
    "Challenge 2\n",
    "\n",
    "Generate (fake) data that is linearly related to log(x). Basically write an underlying model just like in challenge 1, but instead of a fitted model, you are making this model up. It is of the form B0 + B1log(x) + epsilon. You are making up the parameters. Simulate some data from this model. Then fit two models to it: a) quadratic [second degree polynomial] b) logarithmic log(x)\n",
    "\n",
    "Challenge 3\n",
    "\n",
    "Fit a model to your training set. Calculate mean squared error on your training set. Then calculate it on your test set. (You can use sklearn.metrics.mean_squared_error.)\n",
    "\n",
    "Challenge 4\n",
    "\n",
    "For one continuous feature (like budget, choose one that strongly affects the outcome), try polynomial fits from 0th (just constant) to 7th order (highest term x^7). Over the x axis of model degree (8 points), plot:\n",
    "\n",
    "training error\n",
    "test error\n",
    "R squared\n",
    "AIC\n",
    "\n",
    "Challenge 5\n",
    "\n",
    "Fit a model to only the first 5 of your data points (m=5). Then to first 10 (m=10). Then to first 15 (m=15). In this manner, keep fitting until you fit your entire training set. For each step, calculate the training error and the test error. Plot both (in the same plot) over m. This is called a learning curve."
   ]
  },
  {
   "cell_type": "code",
   "execution_count": 208,
   "metadata": {
    "collapsed": false
   },
   "outputs": [],
   "source": [
    "import seaborn as sns\n",
    "import statsmodels.formula.api as smf\n",
    "import numpy as np\n",
    "import matplotlib.pyplot as plt\n",
    "from pylab import *\n",
    "%matplotlib inline\n",
    "import pandas as pd\n",
    "import pickle\n",
    "with open(\"final_dataframe_boxofficemojo.pkl\", 'r') as picklefile1: \n",
    "    df = pickle.load(picklefile1)"
   ]
  },
  {
   "cell_type": "code",
   "execution_count": 16,
   "metadata": {
    "collapsed": false
   },
   "outputs": [
    {
     "data": {
      "text/html": [
       "<table class=\"simpletable\">\n",
       "<caption>OLS Regression Results</caption>\n",
       "<tr>\n",
       "  <th>Dep. Variable:</th>    <td>DomesticTotalGross</td> <th>  R-squared:         </th> <td>   0.580</td> \n",
       "</tr>\n",
       "<tr>\n",
       "  <th>Model:</th>                    <td>OLS</td>        <th>  Adj. R-squared:    </th> <td>   0.578</td> \n",
       "</tr>\n",
       "<tr>\n",
       "  <th>Method:</th>              <td>Least Squares</td>   <th>  F-statistic:       </th> <td>   498.3</td> \n",
       "</tr>\n",
       "<tr>\n",
       "  <th>Date:</th>              <td>Sun, 26 Apr 2015</td>  <th>  Prob (F-statistic):</th> <td>9.27e-137</td>\n",
       "</tr>\n",
       "<tr>\n",
       "  <th>Time:</th>                  <td>19:10:15</td>      <th>  Log-Likelihood:    </th> <td> -5537.7</td> \n",
       "</tr>\n",
       "<tr>\n",
       "  <th>No. Observations:</th>       <td>   726</td>       <th>  AIC:               </th> <td>1.108e+04</td>\n",
       "</tr>\n",
       "<tr>\n",
       "  <th>Df Residuals:</th>           <td>   723</td>       <th>  BIC:               </th> <td>1.110e+04</td>\n",
       "</tr>\n",
       "<tr>\n",
       "  <th>Df Model:</th>               <td>     2</td>       <th>                     </th>     <td> </td>    \n",
       "</tr>\n",
       "<tr>\n",
       "  <th>Covariance Type:</th>       <td>nonrobust</td>     <th>                     </th>     <td> </td>    \n",
       "</tr>\n",
       "</table>\n",
       "<table class=\"simpletable\">\n",
       "<tr>\n",
       "        <td></td>          <th>coef</th>     <th>std err</th>      <th>t</th>      <th>P>|t|</th> <th>[95.0% Conf. Int.]</th> \n",
       "</tr>\n",
       "<tr>\n",
       "  <th>Intercept</th>    <td>   91.2907</td> <td>   32.816</td> <td>    2.782</td> <td> 0.006</td> <td>   26.864   155.717</td>\n",
       "</tr>\n",
       "<tr>\n",
       "  <th>NumMovies</th>    <td>   45.7024</td> <td>    1.704</td> <td>   26.815</td> <td> 0.000</td> <td>   42.356    49.048</td>\n",
       "</tr>\n",
       "<tr>\n",
       "  <th>CareerLength</th> <td>   -1.6583</td> <td>    1.343</td> <td>   -1.235</td> <td> 0.217</td> <td>   -4.294     0.978</td>\n",
       "</tr>\n",
       "</table>\n",
       "<table class=\"simpletable\">\n",
       "<tr>\n",
       "  <th>Omnibus:</th>       <td>173.044</td> <th>  Durbin-Watson:     </th> <td>   1.998</td>\n",
       "</tr>\n",
       "<tr>\n",
       "  <th>Prob(Omnibus):</th> <td> 0.000</td>  <th>  Jarque-Bera (JB):  </th> <td> 417.372</td>\n",
       "</tr>\n",
       "<tr>\n",
       "  <th>Skew:</th>          <td> 1.244</td>  <th>  Prob(JB):          </th> <td>2.34e-91</td>\n",
       "</tr>\n",
       "<tr>\n",
       "  <th>Kurtosis:</th>      <td> 5.759</td>  <th>  Cond. No.          </th> <td>    57.6</td>\n",
       "</tr>\n",
       "</table>"
      ],
      "text/plain": [
       "<class 'statsmodels.iolib.summary.Summary'>\n",
       "\"\"\"\n",
       "                            OLS Regression Results                            \n",
       "==============================================================================\n",
       "Dep. Variable:     DomesticTotalGross   R-squared:                       0.580\n",
       "Model:                            OLS   Adj. R-squared:                  0.578\n",
       "Method:                 Least Squares   F-statistic:                     498.3\n",
       "Date:                Sun, 26 Apr 2015   Prob (F-statistic):          9.27e-137\n",
       "Time:                        19:10:15   Log-Likelihood:                -5537.7\n",
       "No. Observations:                 726   AIC:                         1.108e+04\n",
       "Df Residuals:                     723   BIC:                         1.110e+04\n",
       "Df Model:                           2                                         \n",
       "Covariance Type:            nonrobust                                         \n",
       "================================================================================\n",
       "                   coef    std err          t      P>|t|      [95.0% Conf. Int.]\n",
       "--------------------------------------------------------------------------------\n",
       "Intercept       91.2907     32.816      2.782      0.006        26.864   155.717\n",
       "NumMovies       45.7024      1.704     26.815      0.000        42.356    49.048\n",
       "CareerLength    -1.6583      1.343     -1.235      0.217        -4.294     0.978\n",
       "==============================================================================\n",
       "Omnibus:                      173.044   Durbin-Watson:                   1.998\n",
       "Prob(Omnibus):                  0.000   Jarque-Bera (JB):              417.372\n",
       "Skew:                           1.244   Prob(JB):                     2.34e-91\n",
       "Kurtosis:                       5.759   Cond. No.                         57.6\n",
       "==============================================================================\n",
       "\n",
       "Warnings:\n",
       "[1] Standard Errors assume that the covariance matrix of the errors is correctly specified.\n",
       "\"\"\""
      ]
     },
     "execution_count": 16,
     "metadata": {},
     "output_type": "execute_result"
    }
   ],
   "source": [
    "# Challenge 1\n",
    "# Fit a model to your data. Now you know the coefficients \n",
    "# (the beta values). Write a python function to simulate outcomes. \n",
    "# (The sigma of the normal noise distribution will be the std deviation \n",
    "#  of the residuals.) For the same observed input variables, simulate \n",
    "# the outcome. Plot the observed data and the simulated data.\n",
    "\n",
    "model = smf.ols(formula='DomesticTotalGross ~ NumMovies + CareerLength', data=df).fit()\n",
    "model.summary()\n"
   ]
  },
  {
   "cell_type": "code",
   "execution_count": 68,
   "metadata": {
    "collapsed": false
   },
   "outputs": [
    {
     "name": "stdout",
     "output_type": "stream",
     "text": [
      "Intercept       91.290730\n",
      "NumMovies       45.702365\n",
      "CareerLength    -1.658310\n",
      "dtype: float64\n",
      "Intercept        2.781878\n",
      "NumMovies       26.814914\n",
      "CareerLength    -1.235072\n",
      "dtype: float64\n"
     ]
    }
   ],
   "source": [
    "print model.params\n",
    "\n",
    "print model.tvalues"
   ]
  },
  {
   "cell_type": "code",
   "execution_count": 75,
   "metadata": {
    "collapsed": false
   },
   "outputs": [],
   "source": [
    "#Standard deviation of residuals as error function\n",
    "def simoutcomes(model,df):\n",
    "    newoutcome = model.params[0] + model.params[1] * df['NumMovies'] + model.params[2] * df['CareerLength'] + np.random.normal(loc=0.0, scale=model.resid.std(0))   \n",
    "    return newoutcome\n",
    "                                                                                                                               "
   ]
  },
  {
   "cell_type": "code",
   "execution_count": 81,
   "metadata": {
    "collapsed": false
   },
   "outputs": [],
   "source": [
    "newoutcome = simoutcomes(model,df)"
   ]
  },
  {
   "cell_type": "code",
   "execution_count": 233,
   "metadata": {
    "collapsed": false
   },
   "outputs": [
    {
     "data": {
      "image/png": "[encoded data removed]",
      "text/plain": [
       "<matplotlib.figure.Figure at 0x10779f8d0>"
      ]
     },
     "metadata": {},
     "output_type": "display_data"
    }
   ],
   "source": [
    "plt.scatter(df['DomesticTotalGross'].values, newoutcome)\n",
    "plt.xlim(0, 5000)\n",
    "plt.ylim(0, 5000)\n",
    "plt.rcParams['font.family'] = 'serif'\n",
    "plt.rcParams['figure.figsize'] = (10.0, 8.0)\n",
    "plt.rcParams['font.size'] = 18\n",
    "title('Domestic Total Gross ($k) vs Residuals')\n",
    "xlabel('Domestic Total Gross ($k)')\n",
    "ylabel('Simulated')\n",
    "plt.show()"
   ]
  },
  {
   "cell_type": "code",
   "execution_count": 228,
   "metadata": {
    "collapsed": true
   },
   "outputs": [],
   "source": [
    "# Challenge 2\n",
    "# Generate (fake) data that is linearly related to log(x). \n",
    "# Basically write an underlying model just like in challenge 1, \n",
    "# but instead of a fitted model, you are making this model up. \n",
    "# It is of the form B0 + B1log(x) + epsilon. You are making up \n",
    "# the parameters. Simulate some data from this model. Then fit two \n",
    "# models to it: a) quadratic [second degree polynomial] b) logarithmic log(x)\n",
    "\n",
    "def simoutcomes2(df):\n",
    "    newoutcome2 = -56 + 85 * log(df['DomesticTotalGross']) + np.random.normal(loc=0.0, scale=250)   \n",
    "    return newoutcome2"
   ]
  },
  {
   "cell_type": "code",
   "execution_count": 229,
   "metadata": {
    "collapsed": false
   },
   "outputs": [],
   "source": [
    "newoutcome2 = simoutcomes2(df)\n",
    "df['DTGsq'] = df['DomesticTotalGross']**2\n",
    "df['Ones'] = 1\n",
    "columns = ['DomesticTotalGross','Ones','DTGsq']\n",
    "dfnew = pd.DataFrame(df, columns=columns)\n"
   ]
  },
  {
   "cell_type": "code",
   "execution_count": 216,
   "metadata": {
    "collapsed": false
   },
   "outputs": [
    {
     "data": {
      "text/plain": [
       "24     484.709699\n",
       "63     493.752639\n",
       "86     424.260154\n",
       "90     268.477803\n",
       "114    434.853388\n",
       "Name: DomesticTotalGross, dtype: float64"
      ]
     },
     "execution_count": 216,
     "metadata": {},
     "output_type": "execute_result"
    }
   ],
   "source": [
    "newoutcome2.head()"
   ]
  },
  {
   "cell_type": "code",
   "execution_count": 230,
   "metadata": {
    "collapsed": false
   },
   "outputs": [
    {
     "data": {
      "text/html": [
       "<table class=\"simpletable\">\n",
       "<caption>OLS Regression Results</caption>\n",
       "<tr>\n",
       "  <th>Dep. Variable:</th>    <td>DomesticTotalGross</td> <th>  R-squared:         </th> <td>   0.832</td> \n",
       "</tr>\n",
       "<tr>\n",
       "  <th>Model:</th>                    <td>OLS</td>        <th>  Adj. R-squared:    </th> <td>   0.832</td> \n",
       "</tr>\n",
       "<tr>\n",
       "  <th>Method:</th>              <td>Least Squares</td>   <th>  F-statistic:       </th> <td>   1790.</td> \n",
       "</tr>\n",
       "<tr>\n",
       "  <th>Date:</th>              <td>Mon, 27 Apr 2015</td>  <th>  Prob (F-statistic):</th> <td>9.03e-281</td>\n",
       "</tr>\n",
       "<tr>\n",
       "  <th>Time:</th>                  <td>12:21:28</td>      <th>  Log-Likelihood:    </th> <td> -3744.7</td> \n",
       "</tr>\n",
       "<tr>\n",
       "  <th>No. Observations:</th>       <td>   726</td>       <th>  AIC:               </th> <td>   7495.</td> \n",
       "</tr>\n",
       "<tr>\n",
       "  <th>Df Residuals:</th>           <td>   723</td>       <th>  BIC:               </th> <td>   7509.</td> \n",
       "</tr>\n",
       "<tr>\n",
       "  <th>Df Model:</th>               <td>     2</td>       <th>                     </th>     <td> </td>    \n",
       "</tr>\n",
       "<tr>\n",
       "  <th>Covariance Type:</th>       <td>nonrobust</td>     <th>                     </th>     <td> </td>    \n",
       "</tr>\n",
       "</table>\n",
       "<table class=\"simpletable\">\n",
       "<tr>\n",
       "           <td></td>             <th>coef</th>     <th>std err</th>      <th>t</th>      <th>P>|t|</th> <th>[95.0% Conf. Int.]</th> \n",
       "</tr>\n",
       "<tr>\n",
       "  <th>DomesticTotalGross</th> <td>    0.2413</td> <td>    0.005</td> <td>   44.387</td> <td> 0.000</td> <td>    0.231     0.252</td>\n",
       "</tr>\n",
       "<tr>\n",
       "  <th>Ones</th>               <td>  508.8219</td> <td>    3.119</td> <td>  163.127</td> <td> 0.000</td> <td>  502.698   514.946</td>\n",
       "</tr>\n",
       "<tr>\n",
       "  <th>DTGsq</th>              <td>-4.755e-05</td> <td> 1.82e-06</td> <td>  -26.081</td> <td> 0.000</td> <td>-5.11e-05  -4.4e-05</td>\n",
       "</tr>\n",
       "</table>\n",
       "<table class=\"simpletable\">\n",
       "<tr>\n",
       "  <th>Omnibus:</th>       <td>473.829</td> <th>  Durbin-Watson:     </th> <td>   1.916</td>\n",
       "</tr>\n",
       "<tr>\n",
       "  <th>Prob(Omnibus):</th> <td> 0.000</td>  <th>  Jarque-Bera (JB):  </th> <td>7837.683</td>\n",
       "</tr>\n",
       "<tr>\n",
       "  <th>Skew:</th>          <td>-2.669</td>  <th>  Prob(JB):          </th> <td>    0.00</td>\n",
       "</tr>\n",
       "<tr>\n",
       "  <th>Kurtosis:</th>      <td>18.186</td>  <th>  Cond. No.          </th> <td>5.34e+06</td>\n",
       "</tr>\n",
       "</table>"
      ],
      "text/plain": [
       "<class 'statsmodels.iolib.summary.Summary'>\n",
       "\"\"\"\n",
       "                            OLS Regression Results                            \n",
       "==============================================================================\n",
       "Dep. Variable:     DomesticTotalGross   R-squared:                       0.832\n",
       "Model:                            OLS   Adj. R-squared:                  0.832\n",
       "Method:                 Least Squares   F-statistic:                     1790.\n",
       "Date:                Mon, 27 Apr 2015   Prob (F-statistic):          9.03e-281\n",
       "Time:                        12:21:28   Log-Likelihood:                -3744.7\n",
       "No. Observations:                 726   AIC:                             7495.\n",
       "Df Residuals:                     723   BIC:                             7509.\n",
       "Df Model:                           2                                         \n",
       "Covariance Type:            nonrobust                                         \n",
       "======================================================================================\n",
       "                         coef    std err          t      P>|t|      [95.0% Conf. Int.]\n",
       "--------------------------------------------------------------------------------------\n",
       "DomesticTotalGross     0.2413      0.005     44.387      0.000         0.231     0.252\n",
       "Ones                 508.8219      3.119    163.127      0.000       502.698   514.946\n",
       "DTGsq              -4.755e-05   1.82e-06    -26.081      0.000     -5.11e-05  -4.4e-05\n",
       "==============================================================================\n",
       "Omnibus:                      473.829   Durbin-Watson:                   1.916\n",
       "Prob(Omnibus):                  0.000   Jarque-Bera (JB):             7837.683\n",
       "Skew:                          -2.669   Prob(JB):                         0.00\n",
       "Kurtosis:                      18.186   Cond. No.                     5.34e+06\n",
       "==============================================================================\n",
       "\n",
       "Warnings:\n",
       "[1] Standard Errors assume that the covariance matrix of the errors is correctly specified.\n",
       "[2] The condition number is large, 5.34e+06. This might indicate that there are\n",
       "strong multicollinearity or other numerical problems.\n",
       "\"\"\""
      ]
     },
     "execution_count": 230,
     "metadata": {},
     "output_type": "execute_result"
    }
   ],
   "source": [
    "# Fit to quadratic\n",
    "quadmod = smf.OLS(newoutcome2, dfnew).fit()\n",
    "quadmod.summary()"
   ]
  },
  {
   "cell_type": "code",
   "execution_count": 231,
   "metadata": {
    "collapsed": false
   },
   "outputs": [
    {
     "data": {
      "text/html": [
       "<table class=\"simpletable\">\n",
       "<caption>OLS Regression Results</caption>\n",
       "<tr>\n",
       "  <th>Dep. Variable:</th>    <td>DomesticTotalGross</td> <th>  R-squared:         </th>  <td>   1.000</td> \n",
       "</tr>\n",
       "<tr>\n",
       "  <th>Model:</th>                    <td>OLS</td>        <th>  Adj. R-squared:    </th>  <td>   1.000</td> \n",
       "</tr>\n",
       "<tr>\n",
       "  <th>Method:</th>              <td>Least Squares</td>   <th>  F-statistic:       </th>  <td>1.541e+32</td>\n",
       "</tr>\n",
       "<tr>\n",
       "  <th>Date:</th>              <td>Mon, 27 Apr 2015</td>  <th>  Prob (F-statistic):</th>   <td>  0.00</td>  \n",
       "</tr>\n",
       "<tr>\n",
       "  <th>Time:</th>                  <td>12:21:36</td>      <th>  Log-Likelihood:    </th>  <td>  20121.</td> \n",
       "</tr>\n",
       "<tr>\n",
       "  <th>No. Observations:</th>       <td>   726</td>       <th>  AIC:               </th> <td>-4.024e+04</td>\n",
       "</tr>\n",
       "<tr>\n",
       "  <th>Df Residuals:</th>           <td>   724</td>       <th>  BIC:               </th> <td>-4.023e+04</td>\n",
       "</tr>\n",
       "<tr>\n",
       "  <th>Df Model:</th>               <td>     1</td>       <th>                     </th>      <td> </td>    \n",
       "</tr>\n",
       "<tr>\n",
       "  <th>Covariance Type:</th>       <td>nonrobust</td>     <th>                     </th>      <td> </td>    \n",
       "</tr>\n",
       "</table>\n",
       "<table class=\"simpletable\">\n",
       "<tr>\n",
       "     <td></td>       <th>coef</th>     <th>std err</th>      <th>t</th>      <th>P>|t|</th> <th>[95.0% Conf. Int.]</th> \n",
       "</tr>\n",
       "<tr>\n",
       "  <th>LogDTG</th> <td>   85.0000</td> <td> 6.85e-15</td> <td> 1.24e+16</td> <td> 0.000</td> <td>   85.000    85.000</td>\n",
       "</tr>\n",
       "<tr>\n",
       "  <th>Ones</th>   <td>  123.5942</td> <td> 4.39e-14</td> <td> 2.81e+15</td> <td> 0.000</td> <td>  123.594   123.594</td>\n",
       "</tr>\n",
       "</table>\n",
       "<table class=\"simpletable\">\n",
       "<tr>\n",
       "  <th>Omnibus:</th>       <td>59.726</td> <th>  Durbin-Watson:     </th> <td>   0.300</td>\n",
       "</tr>\n",
       "<tr>\n",
       "  <th>Prob(Omnibus):</th> <td> 0.000</td> <th>  Jarque-Bera (JB):  </th> <td>  20.389</td>\n",
       "</tr>\n",
       "<tr>\n",
       "  <th>Skew:</th>          <td>-0.084</td> <th>  Prob(JB):          </th> <td>3.74e-05</td>\n",
       "</tr>\n",
       "<tr>\n",
       "  <th>Kurtosis:</th>      <td> 2.197</td> <th>  Cond. No.          </th> <td>    34.9</td>\n",
       "</tr>\n",
       "</table>"
      ],
      "text/plain": [
       "<class 'statsmodels.iolib.summary.Summary'>\n",
       "\"\"\"\n",
       "                            OLS Regression Results                            \n",
       "==============================================================================\n",
       "Dep. Variable:     DomesticTotalGross   R-squared:                       1.000\n",
       "Model:                            OLS   Adj. R-squared:                  1.000\n",
       "Method:                 Least Squares   F-statistic:                 1.541e+32\n",
       "Date:                Mon, 27 Apr 2015   Prob (F-statistic):               0.00\n",
       "Time:                        12:21:36   Log-Likelihood:                 20121.\n",
       "No. Observations:                 726   AIC:                        -4.024e+04\n",
       "Df Residuals:                     724   BIC:                        -4.023e+04\n",
       "Df Model:                           1                                         \n",
       "Covariance Type:            nonrobust                                         \n",
       "==============================================================================\n",
       "                 coef    std err          t      P>|t|      [95.0% Conf. Int.]\n",
       "------------------------------------------------------------------------------\n",
       "LogDTG        85.0000   6.85e-15   1.24e+16      0.000        85.000    85.000\n",
       "Ones         123.5942   4.39e-14   2.81e+15      0.000       123.594   123.594\n",
       "==============================================================================\n",
       "Omnibus:                       59.726   Durbin-Watson:                   0.300\n",
       "Prob(Omnibus):                  0.000   Jarque-Bera (JB):               20.389\n",
       "Skew:                          -0.084   Prob(JB):                     3.74e-05\n",
       "Kurtosis:                       2.197   Cond. No.                         34.9\n",
       "==============================================================================\n",
       "\n",
       "Warnings:\n",
       "[1] Standard Errors assume that the covariance matrix of the errors is correctly specified.\n",
       "\"\"\""
      ]
     },
     "execution_count": 231,
     "metadata": {},
     "output_type": "execute_result"
    }
   ],
   "source": [
    "# Fit to log(x)\n",
    "\n",
    "dfnew2 = pd.DataFrame()\n",
    "\n",
    "dfnew2['LogDTG'] = log(df['DomesticTotalGross'])\n",
    "dfnew2['Ones'] = 1\n",
    "\n",
    "logmod = smf.OLS(newoutcome2,dfnew2).fit()\n",
    "logmod.summary()\n"
   ]
  },
  {
   "cell_type": "code",
   "execution_count": 225,
   "metadata": {
    "collapsed": false
   },
   "outputs": [],
   "source": [
    "# Challenge 3\n",
    "# Fit a model to your training set. Calculate mean squared error on your training set. \n",
    "# Then calculate it on your test set. (You can use sklearn.metrics.mean_squared_error.)\n",
    "columns = ['DomesticTotalGross']\n",
    "dfnew = pd.DataFrame(df['DomesticTotalGross'], columns=columns)\n",
    "dfnew['NewOutcome'] = newoutcome                    \n",
    "msk = np.random.rand(len(dfnew)) < 0.75\n",
    "train = dfnew[msk]\n",
    "test = dfnew[~msk]"
   ]
  },
  {
   "cell_type": "code",
   "execution_count": 226,
   "metadata": {
    "collapsed": false
   },
   "outputs": [
    {
     "name": "stdout",
     "output_type": "stream",
     "text": [
      "Training Set Mean Squared Error:  217746.771704\n"
     ]
    }
   ],
   "source": [
    "x = log(train['DomesticTotalGross'])\n",
    "y = train['NewOutcome']\n",
    "\n",
    "logmodtrain = smf.OLS(y,x).fit()\n",
    "\n",
    "sqerr = logmodtrain.resid **2\n",
    "print \"Training Set Mean Squared Error: \", sqerr.mean()"
   ]
  },
  {
   "cell_type": "code",
   "execution_count": 227,
   "metadata": {
    "collapsed": false
   },
   "outputs": [
    {
     "name": "stdout",
     "output_type": "stream",
     "text": [
      "Test Set Mean Squared Error:  225318.024273\n"
     ]
    }
   ],
   "source": [
    "x = log(test['DomesticTotalGross'])\n",
    "y = test['NewOutcome']\n",
    "\n",
    "logmodtest = smf.OLS(y,x).fit()\n",
    "\n",
    "sqerr = logmodtest.resid **2\n",
    "print \"Test Set Mean Squared Error: \", sqerr.mean()"
   ]
  },
  {
   "cell_type": "code",
   "execution_count": null,
   "metadata": {
    "collapsed": true
   },
   "outputs": [],
   "source": [
    "# Challenge 4\n",
    "# For one continuous feature (like budget, choose one that strongly affects the outcome), \n",
    "# try polynomial fits from 0th (just constant) to 7th order (highest term x^7). \n",
    "# Over the x axis of model degree (8 points), \n",
    "# plot: training error test error R squared AIC \n"
   ]
  },
  {
   "cell_type": "code",
   "execution_count": null,
   "metadata": {
    "collapsed": true
   },
   "outputs": [],
   "source": [
    "# Challenge 5\n",
    "# Fit a model to only the first 5 of your data points (m=5). Then to first 10 (m=10). \n",
    "# Then to first 15 (m=15). In this manner, keep fitting until you fit your entire training set. \n",
    "# For each step, calculate the training error and the test error. Plot both (in the same plot) \n",
    "# over m. This is called a learning curve."
   ]
  }
 ],
 "metadata": {
  "kernelspec": {
   "display_name": "Python 2",
   "language": "python",
   "name": "python2"
  },
  "language_info": {
   "codemirror_mode": {
    "name": "ipython",
    "version": 2
   },
   "file_extension": ".py",
   "mimetype": "text/x-python",
   "name": "python",
   "nbconvert_exporter": "python",
   "pygments_lexer": "ipython2",
   "version": "2.7.9"
  }
 },
 "nbformat": 4,
 "nbformat_minor": 0
}
